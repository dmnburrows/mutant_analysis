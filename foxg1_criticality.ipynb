{
 "cells": [
  {
   "cell_type": "code",
   "execution_count": 2,
   "metadata": {},
   "outputs": [
    {
     "name": "stdout",
     "output_type": "stream",
     "text": [
      "The autoreload extension is already loaded. To reload it, use:\n",
      "  %reload_ext autoreload\n"
     ]
    },
    {
     "data": {
      "text/plain": [
       "'3.8.0 (default, Nov  6 2019, 15:49:01) \\n[Clang 4.0.1 (tags/RELEASE_401/final)]'"
      ]
     },
     "execution_count": 2,
     "metadata": {},
     "output_type": "execute_result"
    }
   ],
   "source": [
    "#Import packages\n",
    "#---------------------------------------\n",
    "import sys\n",
    "import os\n",
    "import pandas as pd\n",
    "from matplotlib import pyplot as plt\n",
    "import numpy as np\n",
    "import matplotlib\n",
    "import warnings\n",
    "import glob\n",
    "warnings.filterwarnings(\"ignore\", category=RuntimeWarning) \n",
    "\n",
    "#Import your modules\n",
    "#---------------------------------------\n",
    "import admin_functions as adfn\n",
    "import criticality as crfn\n",
    "import IS as isfn\n",
    "import trace_analyse as tfn\n",
    "\n",
    "# Define paths\n",
    "#----------------------------------------------------------------------\n",
    "Fcode = '/Users/dominicburrows/Dropbox/PhD/Analysis/my_scripts/GitHub/'\n",
    "Fdata = '/Users/dominicburrows/Dropbox/PhD/Collab/FOXG1/'\n",
    "Fdoc = '/Users/dominicburrows/Documents/'\n",
    "F10t = '/Volumes/Dominic 10tb/'\n",
    "F10t2 = '/Volumes/Dominic 10tb2/'\n",
    "Ftm = '/Volumes/Dominic Time Machine/'\n",
    "Ffig = '/Users/dominicburrows/Dropbox/PhD/figures/'\n",
    "\n",
    "%load_ext autoreload\n",
    "sys.version"
   ]
  },
  {
   "cell_type": "markdown",
   "metadata": {},
   "source": [
    "# Process data"
   ]
  },
  {
   "cell_type": "code",
   "execution_count": 2,
   "metadata": {},
   "outputs": [
    {
     "data": {
      "text/plain": [
       "(['BLNLIGHTPTZ-FOXG1++-01_2photon_sess-01-6dpf_BLNLIGHT_run-01_labcoord.npy',\n",
       "  'BLNLIGHTPTZ-FOXG1++-01_2photon_sess-01-6dpf_PTZ02_run-01_labcoord.npy',\n",
       "  'BLNLIGHTPTZ-FOXG1++-02_2photon_sess-01-6dpf_BLNLIGHT_run-01_labcoord.npy',\n",
       "  'BLNLIGHTPTZ-FOXG1++-02_2photon_sess-01-6dpf_PTZ02_run-01_labcoord.npy',\n",
       "  'BLNLIGHTPTZ-FOXG1++-03_2photon_sess-01-6dpf_BLNLIGHT_run-01_labcoord.npy',\n",
       "  'BLNLIGHTPTZ-FOXG1++-03_2photon_sess-01-6dpf_PTZ02_run-01_labcoord.npy',\n",
       "  'BLNLIGHTPTZ-FOXG1++-04_2photon_sess-01-6dpf_BLNLIGHT_run-01_labcoord.npy',\n",
       "  'BLNLIGHTPTZ-FOXG1++-05_2photon_sess-01-6dpf_BLNLIGHT_run-01_labcoord.npy',\n",
       "  'BLNLIGHTPTZ-FOXG1++-05_2photon_sess-01-6dpf_PTZ02_run-01_labcoord.npy',\n",
       "  'BLNLIGHTPTZ-FOXG1+--02_2photon_sess-01-6dpf_BLNLIGHT_run-01_labcoord.npy',\n",
       "  'BLNLIGHTPTZ-FOXG1+--02_2photon_sess-01-6dpf_PTZ02_run-01_labcoord.npy',\n",
       "  'BLNLIGHTPTZ-FOXG1+--03_2photon_sess-01-6dpf_BLNLIGHT_run-01_labcoord.npy',\n",
       "  'BLNLIGHTPTZ-FOXG1+--03_2photon_sess-01-6dpf_PTZ02_run-01_labcoord.npy',\n",
       "  'BLNLIGHTPTZ-FOXG1+--04_2photon_sess-01-6dpf_BLNLIGHT_run-01_labcoord.npy',\n",
       "  'BLNLIGHTPTZ-FOXG1+--04_2photon_sess-01-6dpf_PTZ02_run-01_labcoord.npy',\n",
       "  'BLNLIGHTPTZ-FOXG1+--05_2photon_sess-01-6dpf_BLNLIGHT_run-01_labcoord.npy',\n",
       "  'BLNLIGHTPTZ-FOXG1+--05_2photon_sess-01-6dpf_PTZ02_run-01_labcoord.npy',\n",
       "  'BLNLIGHTPTZ-FOXG1+--06_2photon_sess-01-6dpf_BLNLIGHT_run-01_labcoord.npy',\n",
       "  'BLNLIGHTPTZ-FOXG1+--06_2photon_sess-01-6dpf_PTZ02_run-01_labcoord.npy',\n",
       "  'BLNLIGHTPTZ-FOXG1+--07_2photon_sess-01-6dpf_BLNLIGHT_run-01_labcoord.npy',\n",
       "  'BLNLIGHTPTZ-FOXG1+--07_2photon_sess-01-6dpf_PTZ02_run-01_labcoord.npy',\n",
       "  'BLNLIGHTPTZ-FOXG1+--08_2photon_sess-01-6dpf_BLNLIGHT_run-01_labcoord.npy',\n",
       "  'BLNLIGHTPTZ-FOXG1+--08_2photon_sess-01-6dpf_PTZ02_run-01_labcoord.npy',\n",
       "  'BLNLIGHTPTZ-FOXG1+--09_2photon_sess-01-6dpf_BLNLIGHT_run-01_labcoordtemp.npy',\n",
       "  'BLNLIGHTPTZ-FOXG1+--09_2photon_sess-01-6dpf_PTZ02_run-01_labcoordtemp.npy',\n",
       "  'BLNLIGHTPTZ-FOXG1---02_2photon_sess-01-6dpf_BLNLIGHT_run-01_labcoord.npy',\n",
       "  'BLNLIGHTPTZ-FOXG1---02_2photon_sess-01-6dpf_PTZ02_run-01_labcoord.npy',\n",
       "  'BLNLIGHTPTZ-FOXG1---03_2photon_sess-01-6dpf_BLNLIGHT_run-01_labcoord.npy',\n",
       "  'BLNLIGHTPTZ-FOXG1---03_2photon_sess-01-6dpf_PTZ02_run-01_labcoord.npy',\n",
       "  'BLNLIGHTPTZ-FOXG1---04_2photon_sess-01-6dpf_BLNLIGHT_run-01_labcoord.npy',\n",
       "  'BLNLIGHTPTZ-FOXG1---04_2photon_sess-01-6dpf_PTZ02_run-01_labcoord.npy',\n",
       "  'BLNLIGHTPTZ-FOXG1---05_2photon_sess-01-6dpf_BLNLIGHT_run-01_labcoord.npy',\n",
       "  'BLNLIGHTPTZ-FOXG1---05_2photon_sess-01-6dpf_PTZ02_run-01_labcoord.npy',\n",
       "  'BLNLIGHTPTZ-FOXG1---06_2photon_sess-01-6dpf_BLNLIGHT_run-01_labcoord.npy',\n",
       "  'BLNLIGHTPTZ-FOXG1---06_2photon_sess-01-6dpf_PTZ02_run-01_labcoord.npy'],\n",
       " ['BLNLIGHTPTZ-FOXG1++-01_2photon_sess-01-6dpf_BLNLIGHT_run-01_regbinarised.npy',\n",
       "  'BLNLIGHTPTZ-FOXG1++-01_2photon_sess-01-6dpf_PTZ02_run-01_regbinarised.npy',\n",
       "  'BLNLIGHTPTZ-FOXG1++-02_2photon_sess-01-6dpf_BLNLIGHT_run-01_regbinarised.npy',\n",
       "  'BLNLIGHTPTZ-FOXG1++-02_2photon_sess-01-6dpf_PTZ02_run-01_regbinarised.npy',\n",
       "  'BLNLIGHTPTZ-FOXG1++-03_2photon_sess-01-6dpf_BLNLIGHT_run-01_regbinarised.npy',\n",
       "  'BLNLIGHTPTZ-FOXG1++-03_2photon_sess-01-6dpf_PTZ02_run-01_regbinarised.npy',\n",
       "  'BLNLIGHTPTZ-FOXG1++-04_2photon_sess-01-6dpf_BLNLIGHT_run-01_regbinarised.npy',\n",
       "  'BLNLIGHTPTZ-FOXG1++-05_2photon_sess-01-6dpf_BLNLIGHT_run-01_regbinarised.npy',\n",
       "  'BLNLIGHTPTZ-FOXG1++-05_2photon_sess-01-6dpf_PTZ02_run-01_regbinarised.npy',\n",
       "  'BLNLIGHTPTZ-FOXG1+--02_2photon_sess-01-6dpf_BLNLIGHT_run-01_regbinarised.npy',\n",
       "  'BLNLIGHTPTZ-FOXG1+--02_2photon_sess-01-6dpf_PTZ02_run-01_regbinarised.npy',\n",
       "  'BLNLIGHTPTZ-FOXG1+--03_2photon_sess-01-6dpf_BLNLIGHT_run-01_regbinarised.npy',\n",
       "  'BLNLIGHTPTZ-FOXG1+--03_2photon_sess-01-6dpf_PTZ02_run-01_regbinarised.npy',\n",
       "  'BLNLIGHTPTZ-FOXG1+--04_2photon_sess-01-6dpf_BLNLIGHT_run-01_regbinarised.npy',\n",
       "  'BLNLIGHTPTZ-FOXG1+--04_2photon_sess-01-6dpf_PTZ02_run-01_regbinarised.npy',\n",
       "  'BLNLIGHTPTZ-FOXG1+--05_2photon_sess-01-6dpf_BLNLIGHT_run-01_regbinarised.npy',\n",
       "  'BLNLIGHTPTZ-FOXG1+--05_2photon_sess-01-6dpf_PTZ02_run-01_regbinarised.npy',\n",
       "  'BLNLIGHTPTZ-FOXG1+--06_2photon_sess-01-6dpf_BLNLIGHT_run-01_regbinarised.npy',\n",
       "  'BLNLIGHTPTZ-FOXG1+--06_2photon_sess-01-6dpf_PTZ02_run-01_regbinarised.npy',\n",
       "  'BLNLIGHTPTZ-FOXG1+--07_2photon_sess-01-6dpf_BLNLIGHT_run-01_regbinarised.npy',\n",
       "  'BLNLIGHTPTZ-FOXG1+--07_2photon_sess-01-6dpf_PTZ02_run-01_regbinarised.npy',\n",
       "  'BLNLIGHTPTZ-FOXG1+--08_2photon_sess-01-6dpf_BLNLIGHT_run-01_regbinarised.npy',\n",
       "  'BLNLIGHTPTZ-FOXG1+--08_2photon_sess-01-6dpf_PTZ02_run-01_regbinarised.npy',\n",
       "  'BLNLIGHTPTZ-FOXG1+--09_2photon_sess-01-6dpf_BLNLIGHT_run-01_regbinarisedtemp.npy',\n",
       "  'BLNLIGHTPTZ-FOXG1+--09_2photon_sess-01-6dpf_PTZ02_run-01_regbinarisedtemp.npy',\n",
       "  'BLNLIGHTPTZ-FOXG1---02_2photon_sess-01-6dpf_BLNLIGHT_run-01_regbinarised.npy',\n",
       "  'BLNLIGHTPTZ-FOXG1---02_2photon_sess-01-6dpf_PTZ02_run-01_regbinarised.npy',\n",
       "  'BLNLIGHTPTZ-FOXG1---03_2photon_sess-01-6dpf_BLNLIGHT_run-01_regbinarised.npy',\n",
       "  'BLNLIGHTPTZ-FOXG1---03_2photon_sess-01-6dpf_PTZ02_run-01_regbinarised.npy',\n",
       "  'BLNLIGHTPTZ-FOXG1---04_2photon_sess-01-6dpf_BLNLIGHT_run-01_regbinarised.npy',\n",
       "  'BLNLIGHTPTZ-FOXG1---04_2photon_sess-01-6dpf_PTZ02_run-01_regbinarised.npy',\n",
       "  'BLNLIGHTPTZ-FOXG1---05_2photon_sess-01-6dpf_BLNLIGHT_run-01_regbinarised.npy',\n",
       "  'BLNLIGHTPTZ-FOXG1---05_2photon_sess-01-6dpf_PTZ02_run-01_regbinarised.npy',\n",
       "  'BLNLIGHTPTZ-FOXG1---06_2photon_sess-01-6dpf_BLNLIGHT_run-01_regbinarised.npy',\n",
       "  'BLNLIGHTPTZ-FOXG1---06_2photon_sess-01-6dpf_PTZ02_run-01_regbinarised.npy'])"
      ]
     },
     "execution_count": 2,
     "metadata": {},
     "output_type": "execute_result"
    }
   ],
   "source": [
    "experiment = 'BLNLIGHTPTZ-FOXG1'\n",
    "savepath = Fdata + experiment + os.sep \n",
    "os.chdir(Fdata +  experiment)\n",
    "binlist = sorted(glob.glob('*_regbinarised*'))\n",
    "coordlist =  sorted(glob.glob('*labcoord*'))\n",
    "coordlist, binlist"
   ]
  },
  {
   "cell_type": "code",
   "execution_count": 3,
   "metadata": {},
   "outputs": [
    {
     "name": "stdout",
     "output_type": "stream",
     "text": [
      "0of 35\n",
      "1of 35\n",
      "2of 35\n",
      "3of 35\n",
      "4of 35\n",
      "5of 35\n",
      "6of 35\n",
      "7of 35\n",
      "8of 35\n",
      "9of 35\n",
      "10of 35\n",
      "11of 35\n",
      "12of 35\n",
      "13of 35\n",
      "14of 35\n",
      "15of 35\n",
      "16of 35\n",
      "17of 35\n",
      "18of 35\n",
      "19of 35\n",
      "20of 35\n",
      "21of 35\n",
      "22of 35\n",
      "23of 35\n",
      "24of 35\n",
      "25of 35\n",
      "26of 35\n",
      "27of 35\n",
      "28of 35\n",
      "29of 35\n",
      "30of 35\n",
      "31of 35\n",
      "32of 35\n",
      "33of 35\n",
      "34of 35\n"
     ]
    }
   ],
   "source": [
    "dim = [.8, .8, 15] \n",
    "\n",
    "#Nearest neighbourhood construction\n",
    "for i in range(len(coordlist)):\n",
    "    name = coordlist[i][:coordlist[i].find('run')+7]\n",
    "    trace = np.load(binlist[i])\n",
    "    coord = np.load(coordlist[i])\n",
    "    sub_trace, sub_coord = adfn.select_region(trace, coord, 'Telencephalon')\n",
    "    \n",
    "    sub_trace = sub_trace[:,:9828]\n",
    "    \n",
    "    data = np.multiply(sub_coord[:,:3].astype(float), dim)   \n",
    "    nnb = crfn.neighbour(data, 10)\n",
    "    np.save(savepath + name + 'nnb_10-Tel.npy', nnb)\n",
    "    print(str(i) + 'of ' + str(len(coordlist)))"
   ]
  },
  {
   "cell_type": "markdown",
   "metadata": {},
   "source": [
    "# Avalanches"
   ]
  },
  {
   "cell_type": "code",
   "execution_count": null,
   "metadata": {},
   "outputs": [],
   "source": [
    "experiment = 'BLNLIGHTPTZ-FOXG1'\n",
    "savepath = Fdata + experiment + os.sep \n",
    "os.chdir(Fdata +  experiment)\n",
    "binlist = sorted(glob.glob('*_regbinarised*'))\n",
    "nnblist =  sorted(glob.glob('*nnb*10*Tel*'))"
   ]
  },
  {
   "cell_type": "code",
   "execution_count": 5,
   "metadata": {},
   "outputs": [
    {
     "name": "stdout",
     "output_type": "stream",
     "text": [
      "BLNLIGHTPTZ-FOXG1++-01_2photon_sess-01-6dpf_BLNLIGHT_run-01_\n",
      "1040\n",
      "23.80952380952381\n",
      "0of 35\n",
      "BLNLIGHTPTZ-FOXG1++-01_2photon_sess-01-6dpf_PTZ02_run-01_\n",
      "6215\n",
      "94.87179487179488\n",
      "1of 35\n",
      "BLNLIGHTPTZ-FOXG1++-02_2photon_sess-01-6dpf_BLNLIGHT_run-01_\n",
      "369\n",
      "19.78021978021978\n",
      "2of 35\n",
      "BLNLIGHTPTZ-FOXG1++-02_2photon_sess-01-6dpf_PTZ02_run-01_\n",
      "1253\n",
      "27.472527472527474\n",
      "3of 35\n",
      "BLNLIGHTPTZ-FOXG1++-03_2photon_sess-01-6dpf_BLNLIGHT_run-01_\n",
      "930\n",
      "29.67032967032967\n",
      "4of 35\n",
      "BLNLIGHTPTZ-FOXG1++-03_2photon_sess-01-6dpf_PTZ02_run-01_\n",
      "2007\n",
      "31.86813186813187\n",
      "5of 35\n",
      "BLNLIGHTPTZ-FOXG1++-04_2photon_sess-01-6dpf_BLNLIGHT_run-01_\n",
      "43050\n",
      "234.06593406593407\n",
      "6of 35\n",
      "BLNLIGHTPTZ-FOXG1++-05_2photon_sess-01-6dpf_BLNLIGHT_run-01_\n",
      "6542\n",
      "130.76923076923077\n",
      "7of 35\n",
      "BLNLIGHTPTZ-FOXG1++-05_2photon_sess-01-6dpf_PTZ02_run-01_\n",
      "29387\n",
      "368.13186813186815\n",
      "8of 35\n",
      "BLNLIGHTPTZ-FOXG1+--02_2photon_sess-01-6dpf_BLNLIGHT_run-01_\n",
      "1094\n",
      "58.24175824175824\n",
      "9of 35\n",
      "BLNLIGHTPTZ-FOXG1+--02_2photon_sess-01-6dpf_PTZ02_run-01_\n",
      "816\n",
      "28.571428571428573\n",
      "10of 35\n",
      "BLNLIGHTPTZ-FOXG1+--03_2photon_sess-01-6dpf_BLNLIGHT_run-01_\n",
      "4991\n",
      "56.41025641025641\n",
      "11of 35\n",
      "BLNLIGHTPTZ-FOXG1+--03_2photon_sess-01-6dpf_PTZ02_run-01_\n",
      "3204\n",
      "55.67765567765568\n",
      "12of 35\n",
      "BLNLIGHTPTZ-FOXG1+--04_2photon_sess-01-6dpf_BLNLIGHT_run-01_\n",
      "2135\n",
      "63.00366300366301\n",
      "13of 35\n",
      "BLNLIGHTPTZ-FOXG1+--04_2photon_sess-01-6dpf_PTZ02_run-01_\n",
      "5196\n",
      "84.98168498168498\n",
      "14of 35\n",
      "BLNLIGHTPTZ-FOXG1+--05_2photon_sess-01-6dpf_BLNLIGHT_run-01_\n",
      "10660\n",
      "145.05494505494505\n",
      "15of 35\n",
      "BLNLIGHTPTZ-FOXG1+--05_2photon_sess-01-6dpf_PTZ02_run-01_\n",
      "19226\n",
      "269.5970695970696\n",
      "16of 35\n",
      "BLNLIGHTPTZ-FOXG1+--06_2photon_sess-01-6dpf_BLNLIGHT_run-01_\n",
      "1753\n",
      "35.8974358974359\n",
      "17of 35\n",
      "BLNLIGHTPTZ-FOXG1+--06_2photon_sess-01-6dpf_PTZ02_run-01_\n",
      "6264\n",
      "95.23809523809524\n",
      "18of 35\n",
      "BLNLIGHTPTZ-FOXG1+--07_2photon_sess-01-6dpf_BLNLIGHT_run-01_\n",
      "22060\n",
      "399.26739926739924\n",
      "19of 35\n",
      "BLNLIGHTPTZ-FOXG1+--07_2photon_sess-01-6dpf_PTZ02_run-01_\n",
      "26116\n",
      "320.5128205128205\n",
      "20of 35\n",
      "BLNLIGHTPTZ-FOXG1+--08_2photon_sess-01-6dpf_BLNLIGHT_run-01_\n",
      "98\n",
      "5.86080586080586\n",
      "21of 35\n",
      "BLNLIGHTPTZ-FOXG1+--08_2photon_sess-01-6dpf_PTZ02_run-01_\n",
      "146\n",
      "7.6923076923076925\n",
      "22of 35\n",
      "BLNLIGHTPTZ-FOXG1+--09_2photon_sess-01-6dpf_BLNLIGHT_run-01_\n",
      "86359\n",
      "426.007326007326\n",
      "23of 35\n",
      "BLNLIGHTPTZ-FOXG1+--09_2photon_sess-01-6dpf_PTZ02_run-01_\n",
      "174445\n",
      "1250.5494505494505\n",
      "24of 35\n",
      "BLNLIGHTPTZ-FOXG1---02_2photon_sess-01-6dpf_BLNLIGHT_run-01_\n",
      "270\n",
      "17.216117216117215\n",
      "25of 35\n",
      "BLNLIGHTPTZ-FOXG1---02_2photon_sess-01-6dpf_PTZ02_run-01_\n",
      "530\n",
      "22.71062271062271\n",
      "26of 35\n",
      "BLNLIGHTPTZ-FOXG1---03_2photon_sess-01-6dpf_BLNLIGHT_run-01_\n",
      "1240\n",
      "35.16483516483517\n",
      "27of 35\n",
      "BLNLIGHTPTZ-FOXG1---03_2photon_sess-01-6dpf_PTZ02_run-01_\n",
      "395\n",
      "15.018315018315018\n",
      "28of 35\n",
      "BLNLIGHTPTZ-FOXG1---04_2photon_sess-01-6dpf_BLNLIGHT_run-01_\n",
      "1290\n",
      "32.6007326007326\n",
      "29of 35\n",
      "BLNLIGHTPTZ-FOXG1---04_2photon_sess-01-6dpf_PTZ02_run-01_\n",
      "2320\n",
      "53.11355311355312\n",
      "30of 35\n",
      "BLNLIGHTPTZ-FOXG1---05_2photon_sess-01-6dpf_BLNLIGHT_run-01_\n",
      "16158\n",
      "90.84249084249085\n",
      "31of 35\n",
      "BLNLIGHTPTZ-FOXG1---05_2photon_sess-01-6dpf_PTZ02_run-01_\n",
      "105584\n",
      "690.1098901098901\n",
      "32of 35\n",
      "BLNLIGHTPTZ-FOXG1---06_2photon_sess-01-6dpf_BLNLIGHT_run-01_\n",
      "187\n",
      "9.523809523809524\n",
      "33of 35\n",
      "BLNLIGHTPTZ-FOXG1---06_2photon_sess-01-6dpf_PTZ02_run-01_\n",
      "56\n",
      "4.395604395604396\n",
      "34of 35\n"
     ]
    }
   ],
   "source": [
    "#Avalanches\n",
    "for i in range(len(nnblist)):\n",
    "    name = nnblist[i][:nnblist[i].find('run')+7]\n",
    "    \n",
    "    trace = np.load(binlist[i])\n",
    "    coord = np.load(coordlist[i])\n",
    "    sub_trace, sub_coord = adfn.select_region(trace, coord, 'Telencephalon')\n",
    "    \n",
    "    sub_trace = sub_trace[:,:9828]\n",
    "    \n",
    "    av, pkg = crfn.avalanche(np.load(nnblist[i]), sub_trace)\n",
    "    np.save(savepath + name + 'av-Tel.npy', av)\n",
    "    np.save(savepath + name + 'pkg-Tel.npy', pkg)\n",
    "    print(name)\n",
    "    print(np.max(av[0]))\n",
    "    print(np.max(av[1])/2.73)\n",
    "    print(str(i) + 'of ' + str(len(nnblist)))\n",
    "    "
   ]
  },
  {
   "cell_type": "code",
   "execution_count": 14,
   "metadata": {},
   "outputs": [
    {
     "data": {
      "text/plain": [
       "['/Users/dominicburrows/Dropbox/PhD/Analysis/Project/BLNLIGHTPTZ-FOXG1/BLNLIGHTPTZ-FOXG1++-01_2photon_sess-01-6dpf_BLNLIGHT_run-01_av-Tel.npy',\n",
       " '/Users/dominicburrows/Dropbox/PhD/Analysis/Project/BLNLIGHTPTZ-FOXG1/BLNLIGHTPTZ-FOXG1++-01_2photon_sess-01-6dpf_PTZ02_run-01_av-Tel.npy',\n",
       " '/Users/dominicburrows/Dropbox/PhD/Analysis/Project/BLNLIGHTPTZ-FOXG1/BLNLIGHTPTZ-FOXG1++-02_2photon_sess-01-6dpf_BLNLIGHT_run-01_av-Tel.npy',\n",
       " '/Users/dominicburrows/Dropbox/PhD/Analysis/Project/BLNLIGHTPTZ-FOXG1/BLNLIGHTPTZ-FOXG1++-02_2photon_sess-01-6dpf_PTZ02_run-01_av-Tel.npy',\n",
       " '/Users/dominicburrows/Dropbox/PhD/Analysis/Project/BLNLIGHTPTZ-FOXG1/BLNLIGHTPTZ-FOXG1++-03_2photon_sess-01-6dpf_BLNLIGHT_run-01_av-Tel.npy',\n",
       " '/Users/dominicburrows/Dropbox/PhD/Analysis/Project/BLNLIGHTPTZ-FOXG1/BLNLIGHTPTZ-FOXG1++-03_2photon_sess-01-6dpf_PTZ02_run-01_av-Tel.npy',\n",
       " '/Users/dominicburrows/Dropbox/PhD/Analysis/Project/BLNLIGHTPTZ-FOXG1/BLNLIGHTPTZ-FOXG1++-04_2photon_sess-01-6dpf_BLNLIGHT_run-01_av-Tel.npy',\n",
       " '/Users/dominicburrows/Dropbox/PhD/Analysis/Project/BLNLIGHTPTZ-FOXG1/BLNLIGHTPTZ-FOXG1++-05_2photon_sess-01-6dpf_BLNLIGHT_run-01_av-Tel.npy',\n",
       " '/Users/dominicburrows/Dropbox/PhD/Analysis/Project/BLNLIGHTPTZ-FOXG1/BLNLIGHTPTZ-FOXG1++-05_2photon_sess-01-6dpf_PTZ02_run-01_av-Tel.npy',\n",
       " '/Users/dominicburrows/Dropbox/PhD/Analysis/Project/BLNLIGHTPTZ-FOXG1/BLNLIGHTPTZ-FOXG1+--02_2photon_sess-01-6dpf_BLNLIGHT_run-01_av-Tel.npy',\n",
       " '/Users/dominicburrows/Dropbox/PhD/Analysis/Project/BLNLIGHTPTZ-FOXG1/BLNLIGHTPTZ-FOXG1+--02_2photon_sess-01-6dpf_PTZ02_run-01_av-Tel.npy',\n",
       " '/Users/dominicburrows/Dropbox/PhD/Analysis/Project/BLNLIGHTPTZ-FOXG1/BLNLIGHTPTZ-FOXG1+--03_2photon_sess-01-6dpf_BLNLIGHT_run-01_av-Tel.npy',\n",
       " '/Users/dominicburrows/Dropbox/PhD/Analysis/Project/BLNLIGHTPTZ-FOXG1/BLNLIGHTPTZ-FOXG1+--03_2photon_sess-01-6dpf_PTZ02_run-01_av-Tel.npy',\n",
       " '/Users/dominicburrows/Dropbox/PhD/Analysis/Project/BLNLIGHTPTZ-FOXG1/BLNLIGHTPTZ-FOXG1+--04_2photon_sess-01-6dpf_BLNLIGHT_run-01_av-Tel.npy',\n",
       " '/Users/dominicburrows/Dropbox/PhD/Analysis/Project/BLNLIGHTPTZ-FOXG1/BLNLIGHTPTZ-FOXG1+--04_2photon_sess-01-6dpf_PTZ02_run-01_av-Tel.npy',\n",
       " '/Users/dominicburrows/Dropbox/PhD/Analysis/Project/BLNLIGHTPTZ-FOXG1/BLNLIGHTPTZ-FOXG1+--05_2photon_sess-01-6dpf_BLNLIGHT_run-01_av-Tel.npy',\n",
       " '/Users/dominicburrows/Dropbox/PhD/Analysis/Project/BLNLIGHTPTZ-FOXG1/BLNLIGHTPTZ-FOXG1+--05_2photon_sess-01-6dpf_PTZ02_run-01_av-Tel.npy',\n",
       " '/Users/dominicburrows/Dropbox/PhD/Analysis/Project/BLNLIGHTPTZ-FOXG1/BLNLIGHTPTZ-FOXG1+--06_2photon_sess-01-6dpf_BLNLIGHT_run-01_av-Tel.npy',\n",
       " '/Users/dominicburrows/Dropbox/PhD/Analysis/Project/BLNLIGHTPTZ-FOXG1/BLNLIGHTPTZ-FOXG1+--06_2photon_sess-01-6dpf_PTZ02_run-01_av-Tel.npy',\n",
       " '/Users/dominicburrows/Dropbox/PhD/Analysis/Project/BLNLIGHTPTZ-FOXG1/BLNLIGHTPTZ-FOXG1+--07_2photon_sess-01-6dpf_BLNLIGHT_run-01_av-Tel.npy',\n",
       " '/Users/dominicburrows/Dropbox/PhD/Analysis/Project/BLNLIGHTPTZ-FOXG1/BLNLIGHTPTZ-FOXG1+--07_2photon_sess-01-6dpf_PTZ02_run-01_av-Tel.npy',\n",
       " '/Users/dominicburrows/Dropbox/PhD/Analysis/Project/BLNLIGHTPTZ-FOXG1/BLNLIGHTPTZ-FOXG1+--08_2photon_sess-01-6dpf_BLNLIGHT_run-01_av-Tel.npy',\n",
       " '/Users/dominicburrows/Dropbox/PhD/Analysis/Project/BLNLIGHTPTZ-FOXG1/BLNLIGHTPTZ-FOXG1+--08_2photon_sess-01-6dpf_PTZ02_run-01_av-Tel.npy',\n",
       " '/Users/dominicburrows/Dropbox/PhD/Analysis/Project/BLNLIGHTPTZ-FOXG1/BLNLIGHTPTZ-FOXG1---02_2photon_sess-01-6dpf_BLNLIGHT_run-01_av-Tel.npy',\n",
       " '/Users/dominicburrows/Dropbox/PhD/Analysis/Project/BLNLIGHTPTZ-FOXG1/BLNLIGHTPTZ-FOXG1---02_2photon_sess-01-6dpf_PTZ02_run-01_av-Tel.npy',\n",
       " '/Users/dominicburrows/Dropbox/PhD/Analysis/Project/BLNLIGHTPTZ-FOXG1/BLNLIGHTPTZ-FOXG1---03_2photon_sess-01-6dpf_BLNLIGHT_run-01_av-Tel.npy',\n",
       " '/Users/dominicburrows/Dropbox/PhD/Analysis/Project/BLNLIGHTPTZ-FOXG1/BLNLIGHTPTZ-FOXG1---03_2photon_sess-01-6dpf_PTZ02_run-01_av-Tel.npy',\n",
       " '/Users/dominicburrows/Dropbox/PhD/Analysis/Project/BLNLIGHTPTZ-FOXG1/BLNLIGHTPTZ-FOXG1---04_2photon_sess-01-6dpf_BLNLIGHT_run-01_av-Tel.npy',\n",
       " '/Users/dominicburrows/Dropbox/PhD/Analysis/Project/BLNLIGHTPTZ-FOXG1/BLNLIGHTPTZ-FOXG1---04_2photon_sess-01-6dpf_PTZ02_run-01_av-Tel.npy',\n",
       " '/Users/dominicburrows/Dropbox/PhD/Analysis/Project/BLNLIGHTPTZ-FOXG1/BLNLIGHTPTZ-FOXG1---05_2photon_sess-01-6dpf_BLNLIGHT_run-01_av-Tel.npy',\n",
       " '/Users/dominicburrows/Dropbox/PhD/Analysis/Project/BLNLIGHTPTZ-FOXG1/BLNLIGHTPTZ-FOXG1---05_2photon_sess-01-6dpf_PTZ02_run-01_av-Tel.npy',\n",
       " '/Users/dominicburrows/Dropbox/PhD/Analysis/Project/BLNLIGHTPTZ-FOXG1/BLNLIGHTPTZ-FOXG1---06_2photon_sess-01-6dpf_BLNLIGHT_run-01_av-Tel.npy',\n",
       " '/Users/dominicburrows/Dropbox/PhD/Analysis/Project/BLNLIGHTPTZ-FOXG1/BLNLIGHTPTZ-FOXG1---06_2photon_sess-01-6dpf_PTZ02_run-01_av-Tel.npy']"
      ]
     },
     "execution_count": 14,
     "metadata": {},
     "output_type": "execute_result"
    }
   ],
   "source": [
    "# BLN Avalanche distributions\n",
    "\n",
    "# Visualise \n",
    "#---------------------------------------------------------------------------\n",
    "path='/Users/dominicburrows/Dropbox/PhD/Analysis/Project/BLNLIGHTPTZ-FOXG1/'\n",
    "av_list = sorted(glob.glob(path+'**_av-Tel.npy*')) \n",
    "av_list"
   ]
  },
  {
   "cell_type": "code",
   "execution_count": 138,
   "metadata": {},
   "outputs": [
    {
     "data": {
      "text/plain": [
       "(['BLNLIGHTPTZ-FOXG1++-01_2photon_sess-01-6dpf_PTZ02_run-01_av-Tel.npy',\n",
       "  'BLNLIGHTPTZ-FOXG1++-02_2photon_sess-01-6dpf_PTZ02_run-01_av-Tel.npy',\n",
       "  'BLNLIGHTPTZ-FOXG1++-03_2photon_sess-01-6dpf_PTZ02_run-01_av-Tel.npy',\n",
       "  'BLNLIGHTPTZ-FOXG1++-05_2photon_sess-01-6dpf_PTZ02_run-01_av-Tel.npy'],\n",
       " ['BLNLIGHTPTZ-FOXG1+--02_2photon_sess-01-6dpf_PTZ02_run-01_av-Tel.npy',\n",
       "  'BLNLIGHTPTZ-FOXG1+--03_2photon_sess-01-6dpf_PTZ02_run-01_av-Tel.npy',\n",
       "  'BLNLIGHTPTZ-FOXG1+--04_2photon_sess-01-6dpf_PTZ02_run-01_av-Tel.npy',\n",
       "  'BLNLIGHTPTZ-FOXG1+--05_2photon_sess-01-6dpf_PTZ02_run-01_av-Tel.npy',\n",
       "  'BLNLIGHTPTZ-FOXG1+--06_2photon_sess-01-6dpf_PTZ02_run-01_av-Tel.npy',\n",
       "  'BLNLIGHTPTZ-FOXG1+--07_2photon_sess-01-6dpf_PTZ02_run-01_av-Tel.npy',\n",
       "  'BLNLIGHTPTZ-FOXG1+--08_2photon_sess-01-6dpf_PTZ02_run-01_av-Tel.npy'],\n",
       " ['BLNLIGHTPTZ-FOXG1---02_2photon_sess-01-6dpf_PTZ02_run-01_av-Tel.npy',\n",
       "  'BLNLIGHTPTZ-FOXG1---03_2photon_sess-01-6dpf_PTZ02_run-01_av-Tel.npy',\n",
       "  'BLNLIGHTPTZ-FOXG1---04_2photon_sess-01-6dpf_PTZ02_run-01_av-Tel.npy',\n",
       "  'BLNLIGHTPTZ-FOXG1---05_2photon_sess-01-6dpf_PTZ02_run-01_av-Tel.npy',\n",
       "  'BLNLIGHTPTZ-FOXG1---06_2photon_sess-01-6dpf_PTZ02_run-01_av-Tel.npy'])"
      ]
     },
     "execution_count": 138,
     "metadata": {},
     "output_type": "execute_result"
    }
   ],
   "source": [
    "# BLN Avalanche distributions\n",
    "\n",
    "# Visualise \n",
    "#---------------------------------------------------------------------------\n",
    "os.chdir(path)\n",
    "blnlist = sorted(glob.glob('*++*PTZ*_av-Tel.npy*')) \n",
    "p5list = sorted(glob.glob('*+--*PTZ*_av-Tel.npy*')) \n",
    "p20list = sorted(glob.glob('*---*PTZ*_av-Tel.npy*')) \n",
    "blnlist, p5list, p20list"
   ]
  },
  {
   "cell_type": "code",
   "execution_count": 61,
   "metadata": {},
   "outputs": [],
   "source": [
    "import IS as isfn\n",
    "\n",
    "#=======================================================================\n",
    "def size_exponent(data, npart):\n",
    "#=======================================================================\n",
    "    \"\"\"\n",
    "    Calculates the power law exponent using max likelihood. \n",
    "    \n",
    "    Inputs:\n",
    "        data (np array): 2d vector of avalanche sizes and avalanche durations\n",
    "        npart (int): number of samples to draw\n",
    "        \n",
    "    Returns:\n",
    "        size_exp (float): exponent for avalanche size \n",
    "        dur_exp (float): exponent for avalanche duration\n",
    "        \n",
    "    \n",
    "    \"\"\"\n",
    "\n",
    "\n",
    "    import numpy as np\n",
    "    #Size\n",
    "    sizes=data\n",
    "    M=len(sizes)\n",
    "    a=min(sizes) #define xmin\n",
    "    b=max(sizes) #define xmax\n",
    "    size_exp=isfn.IS(npart, sizes, M, a, b)[0]\n",
    "    \n",
    "    return(size_exp)\n",
    "\n",
    "import IS as isfn\n",
    "\n",
    "#=======================================================================\n",
    "def dur_exponent(data, npart):\n",
    "#=======================================================================\n",
    "    \"\"\"\n",
    "    Calculates the power law exponent using max likelihood. \n",
    "    \n",
    "    Inputs:\n",
    "        data (np array): 2d vector of avalanche sizes and avalanche durations\n",
    "        npart (int): number of samples to draw\n",
    "        \n",
    "    Returns:\n",
    "        size_exp (float): exponent for avalanche size \n",
    "        dur_exp (float): exponent for avalanche duration\n",
    "        \n",
    "    \n",
    "    \"\"\"\n",
    "\n",
    "\n",
    "    import numpy as np\n",
    "    \n",
    "    #Dur\n",
    "    sizes=data\n",
    "    a=2 #define xmin\n",
    "    b=max(sizes) #define xmax\n",
    "    M=len(sizes[np.where(sizes>a-1)])\n",
    "    dur_exp=isfn.IS(npart, sizes, M, a, b)[0]\n",
    "        \n",
    "    return(dur_exp)"
   ]
  },
  {
   "cell_type": "code",
   "execution_count": 140,
   "metadata": {},
   "outputs": [
    {
     "data": {
      "image/png": "[encoded data removed]",
      "text/plain": [
       "<Figure size 640x480 with 1 Axes>"
      ]
     },
     "metadata": {},
     "output_type": "display_data"
    }
   ],
   "source": [
    "import seaborn as sns\n",
    "\n",
    "sns.barplot(data=df, x='cond', hue='type', y='exp')\n",
    "plt.show()"
   ]
  },
  {
   "cell_type": "code",
   "execution_count": 118,
   "metadata": {},
   "outputs": [
    {
     "data": {
      "text/plain": [
       "array([], dtype=int64)"
      ]
     },
     "execution_count": 118,
     "metadata": {},
     "output_type": "execute_result"
    }
   ],
   "source": [
    "large_av"
   ]
  },
  {
   "cell_type": "code",
   "execution_count": 139,
   "metadata": {},
   "outputs": [
    {
     "name": "stdout",
     "output_type": "stream",
     "text": [
      "FOXG1++\n",
      "FOXG1++\n",
      "FOXG1++\n",
      "FOXG1++\n",
      "FOXG1++\n",
      "FOXG1++\n",
      "FOXG1++\n",
      "FOXG1+-\n",
      "FOXG1+-\n",
      "FOXG1+-\n",
      "FOXG1+-\n",
      "FOXG1+-\n",
      "FOXG1+-\n",
      "FOXG1+-\n",
      "FOXG1+-\n",
      "FOXG1+-\n",
      "FOXG1+-\n",
      "FOXG1+-\n",
      "FOXG1--\n",
      "FOXG1--\n",
      "FOXG1--\n",
      "FOXG1--\n",
      "FOXG1--\n"
     ]
    }
   ],
   "source": [
    "#SIZE EXPONENT, <10\n",
    "#Calculate exponents\n",
    "size_thresh = 1000\n",
    "exp_l, name_l, typ_l = [],[],[]\n",
    "for i in range(len(av_list)):\n",
    "    curr_av = np.load(av_list[i])[0]\n",
    "    basen = os.path.basename(av_list[i])\n",
    "    name= basen[basen.find('FOXG1'):basen.find('FOXG1')+7]\n",
    "\n",
    "    small_av = curr_av[curr_av<size_thresh]\n",
    "    large_av = curr_av[curr_av>size_thresh]\n",
    "    if len(large_av)==0 or len(small_av)==0: continue\n",
    "    small_exp = size_exponent(small_av, 2000)\n",
    "    large_exp = size_exponent(large_av, 2000)\n",
    "    exp_l.extend((small_exp, large_exp))\n",
    "    name_l.extend((name,name))\n",
    "    typ_l.extend(('small', 'large'))\n",
    "\n",
    "    print(name)\n",
    "    # print(np.shape(small_av))\n",
    "    # print(np.shape(large_av))    \n",
    "df = pd.DataFrame({'exp':exp_l, 'cond':name_l, 'type':typ_l})"
   ]
  },
  {
   "cell_type": "code",
   "execution_count": 134,
   "metadata": {},
   "outputs": [
    {
     "name": "stdout",
     "output_type": "stream",
     "text": [
      "FOXG1++\n",
      "FOXG1++\n",
      "FOXG1++\n",
      "FOXG1++\n",
      "FOXG1++\n",
      "FOXG1++\n",
      "FOXG1++\n",
      "FOXG1++\n",
      "FOXG1++\n",
      "FOXG1+-\n",
      "FOXG1+-\n",
      "FOXG1+-\n",
      "FOXG1+-\n",
      "FOXG1+-\n",
      "FOXG1+-\n",
      "FOXG1+-\n",
      "FOXG1+-\n",
      "FOXG1+-\n",
      "FOXG1+-\n",
      "FOXG1+-\n",
      "FOXG1+-\n",
      "FOXG1+-\n",
      "FOXG1+-\n",
      "FOXG1--\n",
      "FOXG1--\n",
      "FOXG1--\n",
      "FOXG1--\n",
      "FOXG1--\n",
      "FOXG1--\n",
      "FOXG1--\n",
      "FOXG1--\n",
      "FOXG1--\n",
      "FOXG1--\n"
     ]
    }
   ],
   "source": [
    "#DUR EXPONENT, <10\n",
    "#Calculate exponents\n",
    "dur_thresh = 100\n",
    "exp_l, name_l, typ_l = [],[],[]\n",
    "for i in range(len(av_list)):\n",
    "    curr_av = np.load(av_list[i])[0]\n",
    "    basen = os.path.basename(av_list[i])\n",
    "    name= basen[basen.find('FOXG1'):basen.find('FOXG1')+7]\n",
    "\n",
    "    small_av = curr_av[curr_av<dur_thresh]\n",
    "    large_av = curr_av[curr_av>dur_thresh]\n",
    "    if len(large_av)==0 or len(small_av)==0: continue\n",
    "    small_exp = size_exponent(small_av, 2000)\n",
    "    large_exp = size_exponent(large_av, 2000)\n",
    "    exp_l.extend((small_exp, large_exp))\n",
    "    name_l.extend((name,name))\n",
    "    typ_l.extend(('small', 'large'))\n",
    "\n",
    "    print(name)\n",
    "    # print(np.shape(small_av))\n",
    "    # print(np.shape(large_av))    \n",
    "df = pd.DataFrame({'exp':exp_l, 'cond':name_l, 'type':typ_l})"
   ]
  },
  {
   "cell_type": "code",
   "execution_count": 136,
   "metadata": {},
   "outputs": [
    {
     "data": {
      "image/png": "[encoded data removed]",
      "text/plain": [
       "<Figure size 640x480 with 1 Axes>"
      ]
     },
     "metadata": {},
     "output_type": "display_data"
    }
   ],
   "source": [
    "import seaborn as sns\n",
    "sns.barplot(data=df, x='cond', hue='type', y='exp')\n",
    "plt.show()"
   ]
  },
  {
   "cell_type": "code",
   "execution_count": 137,
   "metadata": {},
   "outputs": [
    {
     "name": "stdout",
     "output_type": "stream",
     "text": [
      "Mann-Whitney U test (large type): FOXG1++ vs FOXG1+-: U = 69.0, p = 0.7289914546163012\n",
      "Mann-Whitney U test (large type): FOXG1++ vs FOXG1--: U = 35.0, p = 0.437942822899974\n",
      "Mann-Whitney U test (small type): FOXG1++ vs FOXG1+-: U = 37.0, p = 0.10819724752370144\n",
      "Mann-Whitney U test (small type): FOXG1++ vs FOXG1--: U = 35.0, p = 0.437942822899974\n"
     ]
    }
   ],
   "source": [
    "import pandas as pd\n",
    "from scipy.stats import mannwhitneyu\n",
    "\n",
    "# Assuming your dataframe 'df' looks like this:\n",
    "# df = pd.DataFrame({'exp':exp_l, 'cond':name_l, 'type':typ_l})\n",
    "\n",
    "# Filter the dataframe for each condition and type\n",
    "foxg1pp_large = df[(df['cond'] == 'FOXG1++') & (df['type'] == 'large')]['exp']\n",
    "foxg1pm_large = df[(df['cond'] == 'FOXG1+-') & (df['type'] == 'large')]['exp']\n",
    "foxg1mm_large = df[(df['cond'] == 'FOXG1--') & (df['type'] == 'large')]['exp']\n",
    "\n",
    "foxg1pp_small = df[(df['cond'] == 'FOXG1++') & (df['type'] == 'small')]['exp']\n",
    "foxg1pm_small = df[(df['cond'] == 'FOXG1+-') & (df['type'] == 'small')]['exp']\n",
    "foxg1mm_small = df[(df['cond'] == 'FOXG1--') & (df['type'] == 'small')]['exp']\n",
    "\n",
    "# Mann-Whitney U Test between FOXG1++ and FOXG1+- for 'large'\n",
    "u_stat_large_foxg1pp_vs_foxg1pm, p_value_large_foxg1pp_vs_foxg1pm = mannwhitneyu(foxg1pp_large, foxg1pm_large, alternative='two-sided')\n",
    "\n",
    "# Mann-Whitney U Test between FOXG1++ and FOXG1-- for 'large'\n",
    "u_stat_large_foxg1pp_vs_foxg1mm, p_value_large_foxg1pp_vs_foxg1mm = mannwhitneyu(foxg1pp_large, foxg1mm_large, alternative='two-sided')\n",
    "\n",
    "# Mann-Whitney U Test between FOXG1++ and FOXG1+- for 'small'\n",
    "u_stat_small_foxg1pp_vs_foxg1pm, p_value_small_foxg1pp_vs_foxg1pm = mannwhitneyu(foxg1pp_small, foxg1pm_small, alternative='two-sided')\n",
    "\n",
    "# Mann-Whitney U Test between FOXG1++ and FOXG1-- for 'small'\n",
    "u_stat_small_foxg1pp_vs_foxg1mm, p_value_small_foxg1pp_vs_foxg1mm = mannwhitneyu(foxg1pp_small, foxg1mm_small, alternative='two-sided')\n",
    "\n",
    "# Print results\n",
    "print(f\"Mann-Whitney U test (large type): FOXG1++ vs FOXG1+-: U = {u_stat_large_foxg1pp_vs_foxg1pm}, p = {p_value_large_foxg1pp_vs_foxg1pm}\")\n",
    "print(f\"Mann-Whitney U test (large type): FOXG1++ vs FOXG1--: U = {u_stat_large_foxg1pp_vs_foxg1mm}, p = {p_value_large_foxg1pp_vs_foxg1mm}\")\n",
    "\n",
    "print(f\"Mann-Whitney U test (small type): FOXG1++ vs FOXG1+-: U = {u_stat_small_foxg1pp_vs_foxg1pm}, p = {p_value_small_foxg1pp_vs_foxg1pm}\")\n",
    "print(f\"Mann-Whitney U test (small type): FOXG1++ vs FOXG1--: U = {u_stat_small_foxg1pp_vs_foxg1mm}, p = {p_value_small_foxg1pp_vs_foxg1mm}\")\n"
   ]
  },
  {
   "cell_type": "code",
   "execution_count": 65,
   "metadata": {},
   "outputs": [
    {
     "name": "stdout",
     "output_type": "stream",
     "text": [
      "BLNLIGHTPTZ-FOXG1++-01_2photon_sess-01-6dpf_BLNLIGHT_run-01_\n",
      "0of 35\n",
      "BLNLIGHTPTZ-FOXG1++-01_2photon_sess-01-6dpf_PTZ02_run-01_\n",
      "1of 35\n",
      "BLNLIGHTPTZ-FOXG1++-02_2photon_sess-01-6dpf_BLNLIGHT_run-01_\n",
      "2of 35\n",
      "BLNLIGHTPTZ-FOXG1++-02_2photon_sess-01-6dpf_PTZ02_run-01_\n",
      "3of 35\n",
      "BLNLIGHTPTZ-FOXG1++-03_2photon_sess-01-6dpf_BLNLIGHT_run-01_\n",
      "4of 35\n",
      "BLNLIGHTPTZ-FOXG1++-03_2photon_sess-01-6dpf_PTZ02_run-01_\n",
      "5of 35\n",
      "BLNLIGHTPTZ-FOXG1++-04_2photon_sess-01-6dpf_BLNLIGHT_run-01_\n",
      "6of 35\n",
      "BLNLIGHTPTZ-FOXG1++-05_2photon_sess-01-6dpf_BLNLIGHT_run-01_\n",
      "7of 35\n",
      "BLNLIGHTPTZ-FOXG1++-05_2photon_sess-01-6dpf_PTZ02_run-01_\n",
      "8of 35\n",
      "BLNLIGHTPTZ-FOXG1+--02_2photon_sess-01-6dpf_BLNLIGHT_run-01_\n",
      "9of 35\n",
      "BLNLIGHTPTZ-FOXG1+--02_2photon_sess-01-6dpf_PTZ02_run-01_\n",
      "10of 35\n",
      "BLNLIGHTPTZ-FOXG1+--03_2photon_sess-01-6dpf_BLNLIGHT_run-01_\n",
      "11of 35\n",
      "BLNLIGHTPTZ-FOXG1+--03_2photon_sess-01-6dpf_PTZ02_run-01_\n",
      "12of 35\n",
      "BLNLIGHTPTZ-FOXG1+--04_2photon_sess-01-6dpf_BLNLIGHT_run-01_\n",
      "13of 35\n",
      "BLNLIGHTPTZ-FOXG1+--04_2photon_sess-01-6dpf_PTZ02_run-01_\n",
      "14of 35\n",
      "BLNLIGHTPTZ-FOXG1+--05_2photon_sess-01-6dpf_BLNLIGHT_run-01_\n",
      "15of 35\n",
      "BLNLIGHTPTZ-FOXG1+--05_2photon_sess-01-6dpf_PTZ02_run-01_\n",
      "16of 35\n",
      "BLNLIGHTPTZ-FOXG1+--06_2photon_sess-01-6dpf_BLNLIGHT_run-01_\n",
      "17of 35\n",
      "BLNLIGHTPTZ-FOXG1+--06_2photon_sess-01-6dpf_PTZ02_run-01_\n",
      "18of 35\n",
      "BLNLIGHTPTZ-FOXG1+--07_2photon_sess-01-6dpf_BLNLIGHT_run-01_\n",
      "19of 35\n",
      "BLNLIGHTPTZ-FOXG1+--07_2photon_sess-01-6dpf_PTZ02_run-01_\n",
      "20of 35\n",
      "BLNLIGHTPTZ-FOXG1+--08_2photon_sess-01-6dpf_BLNLIGHT_run-01_\n",
      "21of 35\n",
      "BLNLIGHTPTZ-FOXG1+--08_2photon_sess-01-6dpf_PTZ02_run-01_\n",
      "22of 35\n",
      "BLNLIGHTPTZ-FOXG1+--09_2photon_sess-01-6dpf_BLNLIGHT_run-01_\n",
      "23of 35\n",
      "BLNLIGHTPTZ-FOXG1+--09_2photon_sess-01-6dpf_PTZ02_run-01_\n",
      "24of 35\n",
      "BLNLIGHTPTZ-FOXG1---02_2photon_sess-01-6dpf_BLNLIGHT_run-01_\n",
      "25of 35\n",
      "BLNLIGHTPTZ-FOXG1---02_2photon_sess-01-6dpf_PTZ02_run-01_\n",
      "26of 35\n",
      "BLNLIGHTPTZ-FOXG1---03_2photon_sess-01-6dpf_BLNLIGHT_run-01_\n",
      "27of 35\n",
      "BLNLIGHTPTZ-FOXG1---03_2photon_sess-01-6dpf_PTZ02_run-01_\n",
      "28of 35\n",
      "BLNLIGHTPTZ-FOXG1---04_2photon_sess-01-6dpf_BLNLIGHT_run-01_\n",
      "29of 35\n",
      "BLNLIGHTPTZ-FOXG1---04_2photon_sess-01-6dpf_PTZ02_run-01_\n",
      "30of 35\n",
      "BLNLIGHTPTZ-FOXG1---05_2photon_sess-01-6dpf_BLNLIGHT_run-01_\n",
      "31of 35\n",
      "BLNLIGHTPTZ-FOXG1---05_2photon_sess-01-6dpf_PTZ02_run-01_\n",
      "32of 35\n",
      "BLNLIGHTPTZ-FOXG1---06_2photon_sess-01-6dpf_BLNLIGHT_run-01_\n",
      "33of 35\n",
      "BLNLIGHTPTZ-FOXG1---06_2photon_sess-01-6dpf_PTZ02_run-01_\n",
      "34of 35\n"
     ]
    }
   ],
   "source": [
    "#EXPONENT\n",
    "#Calculate exponents\n",
    "\n",
    "for i in range(len(av_list)):\n",
    "    curr_av = np.load(av_list[i])\n",
    "    exp = crfn.power_exponent(curr_av, 2000)\n",
    "    name = av_list[i][:av_list[i].find('run')+7]\n",
    "    \n",
    "    np.save(savepath + name + 'exp-Tel.npy', exp)\n",
    "\n",
    "    print(name)\n",
    "    print(str(i) + 'of ' + str(len(av_list)))\n",
    "    "
   ]
  },
  {
   "cell_type": "code",
   "execution_count": 147,
   "metadata": {},
   "outputs": [
    {
     "data": {
      "text/plain": [
       "(['BLNLIGHTPTZ-FOXG1++-01_2photon_sess-01-6dpf_PTZ02_run-01_exp-Tel.npy',\n",
       "  'BLNLIGHTPTZ-FOXG1++-02_2photon_sess-01-6dpf_PTZ02_run-01_exp-Tel.npy',\n",
       "  'BLNLIGHTPTZ-FOXG1++-03_2photon_sess-01-6dpf_PTZ02_run-01_exp-Tel.npy',\n",
       "  'BLNLIGHTPTZ-FOXG1++-05_2photon_sess-01-6dpf_PTZ02_run-01_exp-Tel.npy'],\n",
       " ['BLNLIGHTPTZ-FOXG1+--02_2photon_sess-01-6dpf_PTZ02_run-01_exp-Tel.npy',\n",
       "  'BLNLIGHTPTZ-FOXG1+--03_2photon_sess-01-6dpf_PTZ02_run-01_exp-Tel.npy',\n",
       "  'BLNLIGHTPTZ-FOXG1+--04_2photon_sess-01-6dpf_PTZ02_run-01_exp-Tel.npy',\n",
       "  'BLNLIGHTPTZ-FOXG1+--05_2photon_sess-01-6dpf_PTZ02_run-01_exp-Tel.npy',\n",
       "  'BLNLIGHTPTZ-FOXG1+--06_2photon_sess-01-6dpf_PTZ02_run-01_exp-Tel.npy',\n",
       "  'BLNLIGHTPTZ-FOXG1+--07_2photon_sess-01-6dpf_PTZ02_run-01_exp-Tel.npy',\n",
       "  'BLNLIGHTPTZ-FOXG1+--08_2photon_sess-01-6dpf_PTZ02_run-01_exp-Tel.npy',\n",
       "  'BLNLIGHTPTZ-FOXG1+--09_2photon_sess-01-6dpf_PTZ02_run-01_exp-Tel.npy'],\n",
       " ['BLNLIGHTPTZ-FOXG1---02_2photon_sess-01-6dpf_PTZ02_run-01_exp-Tel.npy',\n",
       "  'BLNLIGHTPTZ-FOXG1---03_2photon_sess-01-6dpf_PTZ02_run-01_exp-Tel.npy',\n",
       "  'BLNLIGHTPTZ-FOXG1---04_2photon_sess-01-6dpf_PTZ02_run-01_exp-Tel.npy',\n",
       "  'BLNLIGHTPTZ-FOXG1---05_2photon_sess-01-6dpf_PTZ02_run-01_exp-Tel.npy',\n",
       "  'BLNLIGHTPTZ-FOXG1---06_2photon_sess-01-6dpf_PTZ02_run-01_exp-Tel.npy'])"
      ]
     },
     "execution_count": 147,
     "metadata": {},
     "output_type": "execute_result"
    }
   ],
   "source": [
    "# BLN Avalanche distributions\n",
    "\n",
    "# Visualise \n",
    "#---------------------------------------------------------------------------\n",
    "wt_list = sorted(glob.glob('*++*PTZ02_*exp-*.npy*')) \n",
    "het_list = sorted(glob.glob('*+--*PTZ02_*exp-*.npy*')) \n",
    "hom_list = sorted(glob.glob('*---*PTZ02_*exp-*.npy*')) \n",
    "\n",
    "wt_list, het_list, hom_list"
   ]
  },
  {
   "cell_type": "code",
   "execution_count": 153,
   "metadata": {},
   "outputs": [
    {
     "name": "stdout",
     "output_type": "stream",
     "text": [
      "0\n",
      "1\n",
      "2\n"
     ]
    }
   ],
   "source": [
    "l_list = wt_list, het_list, hom_list\n",
    "wt, het, hom = [],[],[]\n",
    "choose = 0\n",
    "for i in range(len(l_list)):\n",
    "    print(i)\n",
    "    for e in range(len(l_list[i])):\n",
    "        if i == 0:\n",
    "            wt = np.append(wt, np.load(l_list[i][e])[choose])\n",
    "        if i == 1:\n",
    "            het = np.append(het, np.load(l_list[i][e])[choose])\n",
    "            \n",
    "        if i == 2:\n",
    "            hom = np.append(hom, np.load(l_list[i][e])[choose])"
   ]
  },
  {
   "cell_type": "code",
   "execution_count": 154,
   "metadata": {},
   "outputs": [],
   "source": [
    "point = np.zeros((17))\n",
    "\n",
    "p_spike_df = {}\n",
    "count=0\n",
    "choose = 0\n",
    "\n",
    "data = [wt, het, hom]\n",
    "\n",
    "for e in range(len(data)):\n",
    "    for i in range(len(data[e])):\n",
    "        point[count] = data[e][i]\n",
    "        count+=1\n",
    "\n",
    "p_spike_df = pd.DataFrame({\"data\":point , \"Labels\":  np.append(adfn.repeat_list('WT',4),np.append(adfn.repeat_list('HET',8),adfn.repeat_list('HOM',5)))})"
   ]
  },
  {
   "cell_type": "code",
   "execution_count": 155,
   "metadata": {},
   "outputs": [
    {
     "data": {
      "image/png": "[encoded data removed]",
      "text/plain": [
       "<Figure size 216x288 with 1 Axes>"
      ]
     },
     "metadata": {},
     "output_type": "display_data"
    }
   ],
   "source": [
    "import seaborn as sns\n",
    "\n",
    "from matplotlib.collections import PathCollection\n",
    "from matplotlib import cm\n",
    "sns.set(style=\"white\")\n",
    "\n",
    "colors1  = cm.Spectral_r(np.linspace(0,1,11))\n",
    "colors2 = ['grey','mediumturquoise','cornflowerblue']\n",
    "\n",
    "fig, ax = plt.subplots(figsize = (3,4))\n",
    "ax = sns.pointplot(x=\"Labels\", y=\"data\", data = p_spike_df, hue = 'Labels', palette = colors2, join=True, ci=0, scale=1, markers = '_')\n",
    "for artist in ax.lines:\n",
    "    artist.set_zorder(10)\n",
    "for artist in ax.findobj(PathCollection):\n",
    "    artist.set_zorder(11)\n",
    "#ax = sns.pointplot(x=\"Labels\", y=\"Exponent\", data=sizexdf, color = 'grey', linestyles = [\"--\"], ci = 0, scale=0.6)\n",
    "ax = sns.stripplot(x=\"Labels\", y=\"data\", data=p_spike_df, hue = 'Labels', palette = colors2, size = 15, jitter = True ,alpha = 0.7)\n",
    "\n",
    "plt.yticks(size = 20)\n",
    "\n",
    "points = ax.collections\n",
    "ax.spines['top'].set_visible(False)\n",
    "ax.spines['right'].set_visible(False)\n",
    "ax.spines['bottom'].set_visible(False)\n",
    "ax.set_xlabel(' ', size = '13')\n",
    "ax.set_ylabel('avalanche size', size = '25')\n",
    "ax.get_xaxis().set_visible(False)\n",
    "#ax.set_xticklabels(['Baseline', 'Focal', 'Generalised'], size = 15)\n",
    "ax.legend_.remove()\n",
    "#plt.ylim(top = 2000, bottom = 0)\n",
    "\n",
    "plt.savefig(Ffig + 'avsize_exp_ptz.svg', transparent = True)\n",
    "plt.show()"
   ]
  },
  {
   "cell_type": "code",
   "execution_count": 121,
   "metadata": {},
   "outputs": [
    {
     "name": "stdout",
     "output_type": "stream",
     "text": [
      "2.4264755101625637 0.07917176854787765\n"
     ]
    }
   ],
   "source": [
    "from scipy import stats\n",
    "data = wt\n",
    "mean = np.mean(data)\n",
    "sem = stats.sem(data)\n",
    "print(mean, sem)"
   ]
  },
  {
   "cell_type": "code",
   "execution_count": 122,
   "metadata": {},
   "outputs": [
    {
     "name": "stdout",
     "output_type": "stream",
     "text": [
      "2.4856069765594784 0.11116600547151397\n"
     ]
    }
   ],
   "source": [
    "from scipy import stats\n",
    "data = het\n",
    "mean = np.mean(data)\n",
    "sem = stats.sem(data)\n",
    "print(mean, sem)\n"
   ]
  },
  {
   "cell_type": "code",
   "execution_count": 123,
   "metadata": {},
   "outputs": [
    {
     "name": "stdout",
     "output_type": "stream",
     "text": [
      "2.7967118322609372 0.2895103142299513\n"
     ]
    }
   ],
   "source": [
    "from scipy import stats\n",
    "data = hom\n",
    "mean = np.mean(data)\n",
    "sem = stats.sem(data)\n",
    "print(mean, sem)\n"
   ]
  },
  {
   "cell_type": "code",
   "execution_count": 97,
   "metadata": {},
   "outputs": [
    {
     "name": "stdout",
     "output_type": "stream",
     "text": [
      "t = -1.1033453023776383   p = 0.3063574503876628\n",
      "Samples are the same\n"
     ]
    }
   ],
   "source": [
    "#Space\n",
    "alpha = 0.05\n",
    "\n",
    "t, p = stats.ttest_ind(wt, hom)\n",
    "print('t = ' + str(t) +  '   p = ' + str(p))\n",
    "if p > alpha:\n",
    "    print('Samples are the same')\n",
    "else:\n",
    "    print('Samples are significantly different')"
   ]
  },
  {
   "cell_type": "code",
   "execution_count": 124,
   "metadata": {},
   "outputs": [
    {
     "name": "stdout",
     "output_type": "stream",
     "text": [
      "U = 15.0   p = 0.46616218667416665\n",
      "U = 5.0   p = 0.13517207032739004\n"
     ]
    }
   ],
   "source": [
    "#BLN - SZ\n",
    "alpha = 0.05/2\n",
    "\n",
    "U, p = stats.mannwhitneyu(wt, het)\n",
    "print('U = ' + str(U) +  '   p = ' + str(p))\n",
    "\n",
    "    \n",
    "U, p = stats.mannwhitneyu(wt, hom)\n",
    "print('U = ' + str(U) +  '   p = ' + str(p))\n"
   ]
  },
  {
   "cell_type": "code",
   "execution_count": 20,
   "metadata": {},
   "outputs": [
    {
     "name": "stdout",
     "output_type": "stream",
     "text": [
      "/Users/dominicburrows/Dropbox/PhD/Analysis/Project/BLNLIGHTPTZ-FOXG1/BLNLIGHTPTZ-FOXG1++-01_2photon_sess-01-6dpf_BLNLIGHT_run-01_\n",
      "0of 33\n",
      "/Users/dominicburrows/Dropbox/PhD/Analysis/Project/BLNLIGHTPTZ-FOXG1/BLNLIGHTPTZ-FOXG1++-01_2photon_sess-01-6dpf_PTZ02_run-01_\n",
      "1of 33\n",
      "/Users/dominicburrows/Dropbox/PhD/Analysis/Project/BLNLIGHTPTZ-FOXG1/BLNLIGHTPTZ-FOXG1++-02_2photon_sess-01-6dpf_BLNLIGHT_run-01_\n",
      "2of 33\n",
      "/Users/dominicburrows/Dropbox/PhD/Analysis/Project/BLNLIGHTPTZ-FOXG1/BLNLIGHTPTZ-FOXG1++-02_2photon_sess-01-6dpf_PTZ02_run-01_\n",
      "3of 33\n",
      "/Users/dominicburrows/Dropbox/PhD/Analysis/Project/BLNLIGHTPTZ-FOXG1/BLNLIGHTPTZ-FOXG1++-03_2photon_sess-01-6dpf_BLNLIGHT_run-01_\n",
      "4of 33\n",
      "/Users/dominicburrows/Dropbox/PhD/Analysis/Project/BLNLIGHTPTZ-FOXG1/BLNLIGHTPTZ-FOXG1++-03_2photon_sess-01-6dpf_PTZ02_run-01_\n",
      "5of 33\n",
      "/Users/dominicburrows/Dropbox/PhD/Analysis/Project/BLNLIGHTPTZ-FOXG1/BLNLIGHTPTZ-FOXG1++-04_2photon_sess-01-6dpf_BLNLIGHT_run-01_\n",
      "6of 33\n",
      "/Users/dominicburrows/Dropbox/PhD/Analysis/Project/BLNLIGHTPTZ-FOXG1/BLNLIGHTPTZ-FOXG1++-05_2photon_sess-01-6dpf_BLNLIGHT_run-01_\n",
      "7of 33\n",
      "/Users/dominicburrows/Dropbox/PhD/Analysis/Project/BLNLIGHTPTZ-FOXG1/BLNLIGHTPTZ-FOXG1++-05_2photon_sess-01-6dpf_PTZ02_run-01_\n",
      "8of 33\n",
      "/Users/dominicburrows/Dropbox/PhD/Analysis/Project/BLNLIGHTPTZ-FOXG1/BLNLIGHTPTZ-FOXG1+--02_2photon_sess-01-6dpf_BLNLIGHT_run-01_\n",
      "9of 33\n",
      "/Users/dominicburrows/Dropbox/PhD/Analysis/Project/BLNLIGHTPTZ-FOXG1/BLNLIGHTPTZ-FOXG1+--02_2photon_sess-01-6dpf_PTZ02_run-01_\n",
      "10of 33\n",
      "/Users/dominicburrows/Dropbox/PhD/Analysis/Project/BLNLIGHTPTZ-FOXG1/BLNLIGHTPTZ-FOXG1+--03_2photon_sess-01-6dpf_BLNLIGHT_run-01_\n",
      "11of 33\n",
      "/Users/dominicburrows/Dropbox/PhD/Analysis/Project/BLNLIGHTPTZ-FOXG1/BLNLIGHTPTZ-FOXG1+--03_2photon_sess-01-6dpf_PTZ02_run-01_\n",
      "12of 33\n",
      "/Users/dominicburrows/Dropbox/PhD/Analysis/Project/BLNLIGHTPTZ-FOXG1/BLNLIGHTPTZ-FOXG1+--04_2photon_sess-01-6dpf_BLNLIGHT_run-01_\n",
      "13of 33\n",
      "/Users/dominicburrows/Dropbox/PhD/Analysis/Project/BLNLIGHTPTZ-FOXG1/BLNLIGHTPTZ-FOXG1+--04_2photon_sess-01-6dpf_PTZ02_run-01_\n",
      "14of 33\n",
      "/Users/dominicburrows/Dropbox/PhD/Analysis/Project/BLNLIGHTPTZ-FOXG1/BLNLIGHTPTZ-FOXG1+--05_2photon_sess-01-6dpf_BLNLIGHT_run-01_\n",
      "15of 33\n",
      "/Users/dominicburrows/Dropbox/PhD/Analysis/Project/BLNLIGHTPTZ-FOXG1/BLNLIGHTPTZ-FOXG1+--05_2photon_sess-01-6dpf_PTZ02_run-01_\n",
      "16of 33\n",
      "/Users/dominicburrows/Dropbox/PhD/Analysis/Project/BLNLIGHTPTZ-FOXG1/BLNLIGHTPTZ-FOXG1+--06_2photon_sess-01-6dpf_BLNLIGHT_run-01_\n",
      "17of 33\n",
      "/Users/dominicburrows/Dropbox/PhD/Analysis/Project/BLNLIGHTPTZ-FOXG1/BLNLIGHTPTZ-FOXG1+--06_2photon_sess-01-6dpf_PTZ02_run-01_\n",
      "18of 33\n",
      "/Users/dominicburrows/Dropbox/PhD/Analysis/Project/BLNLIGHTPTZ-FOXG1/BLNLIGHTPTZ-FOXG1+--07_2photon_sess-01-6dpf_BLNLIGHT_run-01_\n",
      "19of 33\n",
      "/Users/dominicburrows/Dropbox/PhD/Analysis/Project/BLNLIGHTPTZ-FOXG1/BLNLIGHTPTZ-FOXG1+--07_2photon_sess-01-6dpf_PTZ02_run-01_\n",
      "20of 33\n",
      "/Users/dominicburrows/Dropbox/PhD/Analysis/Project/BLNLIGHTPTZ-FOXG1/BLNLIGHTPTZ-FOXG1+--08_2photon_sess-01-6dpf_BLNLIGHT_run-01_\n",
      "21of 33\n",
      "/Users/dominicburrows/Dropbox/PhD/Analysis/Project/BLNLIGHTPTZ-FOXG1/BLNLIGHTPTZ-FOXG1+--08_2photon_sess-01-6dpf_PTZ02_run-01_\n",
      "22of 33\n",
      "/Users/dominicburrows/Dropbox/PhD/Analysis/Project/BLNLIGHTPTZ-FOXG1/BLNLIGHTPTZ-FOXG1---02_2photon_sess-01-6dpf_BLNLIGHT_run-01_\n",
      "23of 33\n",
      "/Users/dominicburrows/Dropbox/PhD/Analysis/Project/BLNLIGHTPTZ-FOXG1/BLNLIGHTPTZ-FOXG1---02_2photon_sess-01-6dpf_PTZ02_run-01_\n",
      "24of 33\n",
      "/Users/dominicburrows/Dropbox/PhD/Analysis/Project/BLNLIGHTPTZ-FOXG1/BLNLIGHTPTZ-FOXG1---03_2photon_sess-01-6dpf_BLNLIGHT_run-01_\n",
      "25of 33\n",
      "/Users/dominicburrows/Dropbox/PhD/Analysis/Project/BLNLIGHTPTZ-FOXG1/BLNLIGHTPTZ-FOXG1---03_2photon_sess-01-6dpf_PTZ02_run-01_\n",
      "26of 33\n",
      "/Users/dominicburrows/Dropbox/PhD/Analysis/Project/BLNLIGHTPTZ-FOXG1/BLNLIGHTPTZ-FOXG1---04_2photon_sess-01-6dpf_BLNLIGHT_run-01_\n",
      "27of 33\n",
      "/Users/dominicburrows/Dropbox/PhD/Analysis/Project/BLNLIGHTPTZ-FOXG1/BLNLIGHTPTZ-FOXG1---04_2photon_sess-01-6dpf_PTZ02_run-01_\n",
      "28of 33\n",
      "/Users/dominicburrows/Dropbox/PhD/Analysis/Project/BLNLIGHTPTZ-FOXG1/BLNLIGHTPTZ-FOXG1---05_2photon_sess-01-6dpf_BLNLIGHT_run-01_\n",
      "29of 33\n",
      "/Users/dominicburrows/Dropbox/PhD/Analysis/Project/BLNLIGHTPTZ-FOXG1/BLNLIGHTPTZ-FOXG1---05_2photon_sess-01-6dpf_PTZ02_run-01_\n",
      "30of 33\n",
      "/Users/dominicburrows/Dropbox/PhD/Analysis/Project/BLNLIGHTPTZ-FOXG1/BLNLIGHTPTZ-FOXG1---06_2photon_sess-01-6dpf_BLNLIGHT_run-01_\n",
      "31of 33\n",
      "/Users/dominicburrows/Dropbox/PhD/Analysis/Project/BLNLIGHTPTZ-FOXG1/BLNLIGHTPTZ-FOXG1---06_2photon_sess-01-6dpf_PTZ02_run-01_\n",
      "32of 33\n"
     ]
    }
   ],
   "source": [
    "#Loglikelihood ratio\n",
    "\n",
    "for i in range(len(av_list)):\n",
    "    curr_av = np.load(av_list[i])\n",
    "    LLR = crfn.LLR(curr_av, 2000)\n",
    "    name = av_list[i][:av_list[i].find('run')+7]\n",
    "    \n",
    "    np.save(name + 'LLR-Tel.npy', LLR)\n",
    "\n",
    "    print(name)\n",
    "    print(str(i) + 'of ' + str(len(av_list)))\n",
    "    "
   ]
  },
  {
   "cell_type": "code",
   "execution_count": 22,
   "metadata": {},
   "outputs": [
    {
     "data": {
      "text/plain": [
       "(['BLNLIGHTPTZ-FOXG1++-01_2photon_sess-01-6dpf_BLNLIGHT_run-01_LLR-Tel.npy',\n",
       "  'BLNLIGHTPTZ-FOXG1++-02_2photon_sess-01-6dpf_BLNLIGHT_run-01_LLR-Tel.npy',\n",
       "  'BLNLIGHTPTZ-FOXG1++-03_2photon_sess-01-6dpf_BLNLIGHT_run-01_LLR-Tel.npy',\n",
       "  'BLNLIGHTPTZ-FOXG1++-04_2photon_sess-01-6dpf_BLNLIGHT_run-01_LLR-Tel.npy',\n",
       "  'BLNLIGHTPTZ-FOXG1++-05_2photon_sess-01-6dpf_BLNLIGHT_run-01_LLR-Tel.npy'],\n",
       " ['BLNLIGHTPTZ-FOXG1+--02_2photon_sess-01-6dpf_BLNLIGHT_run-01_LLR-Tel.npy',\n",
       "  'BLNLIGHTPTZ-FOXG1+--03_2photon_sess-01-6dpf_BLNLIGHT_run-01_LLR-Tel.npy',\n",
       "  'BLNLIGHTPTZ-FOXG1+--04_2photon_sess-01-6dpf_BLNLIGHT_run-01_LLR-Tel.npy',\n",
       "  'BLNLIGHTPTZ-FOXG1+--05_2photon_sess-01-6dpf_BLNLIGHT_run-01_LLR-Tel.npy',\n",
       "  'BLNLIGHTPTZ-FOXG1+--06_2photon_sess-01-6dpf_BLNLIGHT_run-01_LLR-Tel.npy',\n",
       "  'BLNLIGHTPTZ-FOXG1+--07_2photon_sess-01-6dpf_BLNLIGHT_run-01_LLR-Tel.npy',\n",
       "  'BLNLIGHTPTZ-FOXG1+--08_2photon_sess-01-6dpf_BLNLIGHT_run-01_LLR-Tel.npy'],\n",
       " ['BLNLIGHTPTZ-FOXG1---02_2photon_sess-01-6dpf_BLNLIGHT_run-01_LLR-Tel.npy',\n",
       "  'BLNLIGHTPTZ-FOXG1---03_2photon_sess-01-6dpf_BLNLIGHT_run-01_LLR-Tel.npy',\n",
       "  'BLNLIGHTPTZ-FOXG1---04_2photon_sess-01-6dpf_BLNLIGHT_run-01_LLR-Tel.npy',\n",
       "  'BLNLIGHTPTZ-FOXG1---05_2photon_sess-01-6dpf_BLNLIGHT_run-01_LLR-Tel.npy',\n",
       "  'BLNLIGHTPTZ-FOXG1---06_2photon_sess-01-6dpf_BLNLIGHT_run-01_LLR-Tel.npy'])"
      ]
     },
     "execution_count": 22,
     "metadata": {},
     "output_type": "execute_result"
    }
   ],
   "source": [
    "# BLN Avalanche distributions\n",
    "\n",
    "# Visualise \n",
    "#---------------------------------------------------------------------------\n",
    "wt_list = sorted(glob.glob('*++*BLNLIGHT*LLR*')) \n",
    "het_list = sorted(glob.glob('*+--*BLNLIGHT*LLR*')) \n",
    "hom_list = sorted(glob.glob('*---*BLNLIGHT*LLR*')) \n",
    "\n",
    "wt_list, het_list, hom_list"
   ]
  },
  {
   "cell_type": "code",
   "execution_count": 25,
   "metadata": {},
   "outputs": [
    {
     "name": "stdout",
     "output_type": "stream",
     "text": [
      "[25607.68433283 41252.53302241]\n",
      "[5467.7170963  9506.25438393]\n",
      "[23033.39515458 37810.92026979]\n",
      "[35153.0458508  44159.74234856]\n",
      "[30536.8884293  42784.86529496]\n",
      "[25128.14297516 35287.02924565]\n",
      "[25390.80771017 36326.3329709 ]\n",
      "[17707.27444365 24043.30332724]\n",
      "[23633.22027178 30084.27072431]\n",
      "[25799.74629337 41064.52956538]\n",
      "[26506.04933676 34925.94947924]\n",
      "[ 9704.27617575 19751.26089026]\n",
      "[17308.78292491 33536.0156411 ]\n",
      "[ 9253.55480917 14119.17263083]\n",
      "[21052.3406201  29103.16235518]\n",
      "[32886.06472429 48019.77594585]\n",
      "[14949.80327811 21215.81912456]\n"
     ]
    }
   ],
   "source": [
    "for i in wt_list + het_list + hom_list:\n",
    "    print(np.load(i))"
   ]
  },
  {
   "cell_type": "code",
   "execution_count": null,
   "metadata": {},
   "outputs": [],
   "source": [
    "point = np.zeros((17))\n",
    "\n",
    "p_spike_df = {}\n",
    "count=0\n",
    "choose = 0\n",
    "\n",
    "data = [wt, het, hom]\n",
    "\n",
    "for e in range(len(data)):\n",
    "    for i in range(len(data[e])):\n",
    "        point[count] = data[e][i]\n",
    "        count+=1\n",
    "\n",
    "p_spike_df = pd.DataFrame({\"data\":point , \"Labels\":  np.append(adfn.repeat_list('WT',4),np.append(adfn.repeat_list('HET',8),adfn.repeat_list('HOM',5)))})"
   ]
  },
  {
   "cell_type": "code",
   "execution_count": 38,
   "metadata": {},
   "outputs": [
    {
     "data": {
      "text/plain": [
       "(['BLNLIGHTPTZ-FOXG1++-01_2photon_sess-01-6dpf_BLNLIGHT_run-01_av-Tel.npy',\n",
       "  'BLNLIGHTPTZ-FOXG1++-02_2photon_sess-01-6dpf_BLNLIGHT_run-01_av-Tel.npy',\n",
       "  'BLNLIGHTPTZ-FOXG1++-03_2photon_sess-01-6dpf_BLNLIGHT_run-01_av-Tel.npy',\n",
       "  'BLNLIGHTPTZ-FOXG1++-04_2photon_sess-01-6dpf_BLNLIGHT_run-01_av-Tel.npy',\n",
       "  'BLNLIGHTPTZ-FOXG1++-05_2photon_sess-01-6dpf_BLNLIGHT_run-01_av-Tel.npy'],\n",
       " ['BLNLIGHTPTZ-FOXG1+--02_2photon_sess-01-6dpf_BLNLIGHT_run-01_av-Tel.npy',\n",
       "  'BLNLIGHTPTZ-FOXG1+--03_2photon_sess-01-6dpf_BLNLIGHT_run-01_av-Tel.npy',\n",
       "  'BLNLIGHTPTZ-FOXG1+--04_2photon_sess-01-6dpf_BLNLIGHT_run-01_av-Tel.npy',\n",
       "  'BLNLIGHTPTZ-FOXG1+--05_2photon_sess-01-6dpf_BLNLIGHT_run-01_av-Tel.npy',\n",
       "  'BLNLIGHTPTZ-FOXG1+--06_2photon_sess-01-6dpf_BLNLIGHT_run-01_av-Tel.npy',\n",
       "  'BLNLIGHTPTZ-FOXG1+--07_2photon_sess-01-6dpf_BLNLIGHT_run-01_av-Tel.npy',\n",
       "  'BLNLIGHTPTZ-FOXG1+--08_2photon_sess-01-6dpf_BLNLIGHT_run-01_av-Tel.npy'],\n",
       " ['BLNLIGHTPTZ-FOXG1---02_2photon_sess-01-6dpf_BLNLIGHT_run-01_av-Tel.npy',\n",
       "  'BLNLIGHTPTZ-FOXG1---03_2photon_sess-01-6dpf_BLNLIGHT_run-01_av-Tel.npy',\n",
       "  'BLNLIGHTPTZ-FOXG1---04_2photon_sess-01-6dpf_BLNLIGHT_run-01_av-Tel.npy',\n",
       "  'BLNLIGHTPTZ-FOXG1---05_2photon_sess-01-6dpf_BLNLIGHT_run-01_av-Tel.npy',\n",
       "  'BLNLIGHTPTZ-FOXG1---06_2photon_sess-01-6dpf_BLNLIGHT_run-01_av-Tel.npy'])"
      ]
     },
     "execution_count": 38,
     "metadata": {},
     "output_type": "execute_result"
    }
   ],
   "source": [
    "# BLN Avalanche distributions\n",
    "\n",
    "# Visualise \n",
    "#---------------------------------------------------------------------------\n",
    "os.chdir(path)\n",
    "blnlist = sorted(glob.glob('*++*BLNLIGHT_*_av-Tel.npy*')) \n",
    "p5list = sorted(glob.glob('*+--*BLNLIGHT_*_av-Tel.npy*')) \n",
    "p20list = sorted(glob.glob('*---*BLNLIGHT_*_av-Tel.npy*')) \n",
    "blnlist, p5list, p20list"
   ]
  },
  {
   "cell_type": "code",
   "execution_count": 36,
   "metadata": {},
   "outputs": [
    {
     "name": "stdout",
     "output_type": "stream",
     "text": [
      "++\n",
      "Calculating best minimal value for power law fit\n",
      "Loglikelihood ratio: -0.44845844540598634\n",
      "p-value: 0.5811229427720564\n",
      "The data is consistent with a power-law distribution.\n",
      "Calculating best minimal value for power law fit\n",
      "Loglikelihood ratio: -4.97459321662658\n",
      "p-value: 0.038533269143777735\n",
      "The data is significantly different from a power-law distribution.\n",
      "Calculating best minimal value for power law fit\n",
      "Loglikelihood ratio: -0.539001215920198\n",
      "p-value: 0.5216360486205422\n",
      "The data is consistent with a power-law distribution.\n",
      "Calculating best minimal value for power law fit\n",
      "Loglikelihood ratio: -0.4046151195520711\n",
      "p-value: 0.5826929958989466\n",
      "The data is consistent with a power-law distribution.\n",
      "Calculating best minimal value for power law fit\n",
      "xmin progress: 99%\r"
     ]
    },
    {
     "name": "stderr",
     "output_type": "stream",
     "text": [
      "'nan' in fit cumulative distribution values.\n",
      "Likely underflow or overflow error: the optimal fit for this distribution gives values that are so extreme that we lack the numerical precision to calculate them.\n"
     ]
    },
    {
     "name": "stdout",
     "output_type": "stream",
     "text": [
      "Loglikelihood ratio: 0.2134561415082521\n",
      "p-value: 0.28698452014017317\n",
      "The data is consistent with a power-law distribution.\n",
      "+-\n",
      "Calculating best minimal value for power law fit\n",
      "xmin progress: 99%\r"
     ]
    },
    {
     "name": "stderr",
     "output_type": "stream",
     "text": [
      "'nan' in fit cumulative distribution values.\n",
      "Likely underflow or overflow error: the optimal fit for this distribution gives values that are so extreme that we lack the numerical precision to calculate them.\n"
     ]
    },
    {
     "name": "stdout",
     "output_type": "stream",
     "text": [
      "Loglikelihood ratio: 0.3370354517443719\n",
      "p-value: 0.00030548005624354716\n",
      "The data is significantly different from a power-law distribution.\n",
      "Calculating best minimal value for power law fit\n",
      "Loglikelihood ratio: -1.4107577265540794\n",
      "p-value: 0.2712532857722211\n",
      "The data is consistent with a power-law distribution.\n",
      "Calculating best minimal value for power law fit\n",
      "Loglikelihood ratio: -34.140792819443675\n",
      "p-value: 4.876941966803628e-07\n",
      "The data is significantly different from a power-law distribution.\n",
      "Calculating best minimal value for power law fit\n",
      "Loglikelihood ratio: 0.02963753412871739\n",
      "p-value: 0.6954085621315924\n",
      "The data is consistent with a power-law distribution.\n",
      "Calculating best minimal value for power law fit\n",
      "xmin progress: 99%\r"
     ]
    },
    {
     "name": "stderr",
     "output_type": "stream",
     "text": [
      "'nan' in fit cumulative distribution values.\n",
      "Likely underflow or overflow error: the optimal fit for this distribution gives values that are so extreme that we lack the numerical precision to calculate them.\n"
     ]
    },
    {
     "name": "stdout",
     "output_type": "stream",
     "text": [
      "Loglikelihood ratio: -0.5421857402963095\n",
      "p-value: 0.169329010041247\n",
      "The data is consistent with a power-law distribution.\n",
      "Calculating best minimal value for power law fit\n",
      "Loglikelihood ratio: -6.075647547183088\n",
      "p-value: 0.04026753650242826\n",
      "The data is significantly different from a power-law distribution.\n",
      "Calculating best minimal value for power law fit\n",
      "Loglikelihood ratio: 0.01347805913433664\n",
      "p-value: 0.2174317546717225\n",
      "The data is consistent with a power-law distribution.\n",
      "--\n",
      "Calculating best minimal value for power law fit\n",
      "Loglikelihood ratio: -1.3166534612527094\n",
      "p-value: 0.32118981864884966\n",
      "The data is consistent with a power-law distribution.\n",
      "Calculating best minimal value for power law fit\n",
      "xmin progress: 68%\r"
     ]
    },
    {
     "name": "stderr",
     "output_type": "stream",
     "text": [
      "'nan' in fit cumulative distribution values.\n",
      "Likely underflow or overflow error: the optimal fit for this distribution gives values that are so extreme that we lack the numerical precision to calculate them.\n"
     ]
    },
    {
     "name": "stdout",
     "output_type": "stream",
     "text": [
      "Loglikelihood ratio: -4.185166076530419\n",
      "p-value: 0.08418755459636282\n",
      "The data is consistent with a power-law distribution.\n",
      "Calculating best minimal value for power law fit\n",
      "Loglikelihood ratio: -25.823753680828702\n",
      "p-value: 2.5315280108729377e-06\n",
      "The data is significantly different from a power-law distribution.\n",
      "Calculating best minimal value for power law fit\n",
      "Loglikelihood ratio: 0.009608174514092571\n",
      "p-value: 0.9073982835376697\n",
      "The data is consistent with a power-law distribution.\n",
      "Calculating best minimal value for power law fit\n",
      "Loglikelihood ratio: -7.824719409851236\n",
      "p-value: 0.014943962417279804\n",
      "The data is significantly different from a power-law distribution.\n"
     ]
    }
   ],
   "source": [
    "#Size\n",
    "print('++')\n",
    "for i in blnlist:\n",
    "    fit = powerlaw.Fit(np.load(i)[0])\n",
    "    R, p_value = fit.distribution_compare('power_law', 'lognormal')\n",
    "\n",
    "    print(f\"Loglikelihood ratio: {R}\")\n",
    "    print(f\"p-value: {p_value}\")\n",
    "\n",
    "    if p_value < 0.05:\n",
    "        print(\"The data is significantly different from a power-law distribution.\")\n",
    "    else:\n",
    "        print(\"The data is consistent with a power-law distribution.\")\n",
    "\n",
    "#Size\n",
    "print('+-')\n",
    "for i in p5list:\n",
    "    fit = powerlaw.Fit(np.load(i)[0])\n",
    "    R, p_value = fit.distribution_compare('power_law', 'lognormal')\n",
    "\n",
    "    print(f\"Loglikelihood ratio: {R}\")\n",
    "    print(f\"p-value: {p_value}\")\n",
    "\n",
    "    if p_value < 0.05:\n",
    "        print(\"The data is significantly different from a power-law distribution.\")\n",
    "    else:\n",
    "        print(\"The data is consistent with a power-law distribution.\")\n",
    "\n",
    "#Size\n",
    "print('--')\n",
    "for i in p20list:\n",
    "    fit = powerlaw.Fit(np.load(i)[0])\n",
    "    R, p_value = fit.distribution_compare('power_law', 'lognormal')\n",
    "\n",
    "    print(f\"Loglikelihood ratio: {R}\")\n",
    "    print(f\"p-value: {p_value}\")\n",
    "\n",
    "    if p_value < 0.05:\n",
    "        print(\"The data is significantly different from a power-law distribution.\")\n",
    "    else:\n",
    "        print(\"The data is consistent with a power-law distribution.\")\n"
   ]
  },
  {
   "cell_type": "code",
   "execution_count": 37,
   "metadata": {},
   "outputs": [
    {
     "name": "stdout",
     "output_type": "stream",
     "text": [
      "++\n",
      "Calculating best minimal value for power law fit\n",
      "Loglikelihood ratio: -0.7935350451626497\n",
      "p-value: 0.00011698318565325732\n",
      "The data is significantly different from a power-law distribution.\n",
      "Calculating best minimal value for power law fit\n",
      "xmin progress: 97%\r"
     ]
    },
    {
     "name": "stderr",
     "output_type": "stream",
     "text": [
      "'nan' in fit cumulative distribution values.\n",
      "Likely underflow or overflow error: the optimal fit for this distribution gives values that are so extreme that we lack the numerical precision to calculate them.\n",
      "'nan' in fit cumulative distribution values.\n",
      "Likely underflow or overflow error: the optimal fit for this distribution gives values that are so extreme that we lack the numerical precision to calculate them.\n"
     ]
    },
    {
     "name": "stdout",
     "output_type": "stream",
     "text": [
      "Loglikelihood ratio: -0.018023880969480155\n",
      "p-value: 0.9077549662134584\n",
      "The data is consistent with a power-law distribution.\n",
      "Calculating best minimal value for power law fit\n",
      "Loglikelihood ratio: -1.0784760927044894\n",
      "p-value: 0.09816145082148432\n",
      "The data is consistent with a power-law distribution.\n"
     ]
    },
    {
     "name": "stderr",
     "output_type": "stream",
     "text": [
      "'nan' in fit cumulative distribution values.\n",
      "Likely underflow or overflow error: the optimal fit for this distribution gives values that are so extreme that we lack the numerical precision to calculate them.\n"
     ]
    },
    {
     "name": "stdout",
     "output_type": "stream",
     "text": [
      "Calculating best minimal value for power law fit\n",
      "xmin progress: 99%\r"
     ]
    },
    {
     "name": "stderr",
     "output_type": "stream",
     "text": [
      "'nan' in fit cumulative distribution values.\n",
      "Likely underflow or overflow error: the optimal fit for this distribution gives values that are so extreme that we lack the numerical precision to calculate them.\n"
     ]
    },
    {
     "name": "stdout",
     "output_type": "stream",
     "text": [
      "Loglikelihood ratio: 0.10591701533419018\n",
      "p-value: 0.09042103093800494\n",
      "The data is consistent with a power-law distribution.\n",
      "Calculating best minimal value for power law fit\n",
      "Loglikelihood ratio: 0.0038300593458076015\n",
      "p-value: 0.9127156017058062\n",
      "The data is consistent with a power-law distribution.\n",
      "+-\n",
      "Calculating best minimal value for power law fit\n",
      "Loglikelihood ratio: -0.9431752807917126\n",
      "p-value: 0.3737385839647652\n",
      "The data is consistent with a power-law distribution.\n",
      "Calculating best minimal value for power law fit\n",
      "xmin progress: 98%\r"
     ]
    },
    {
     "name": "stderr",
     "output_type": "stream",
     "text": [
      "'nan' in fit cumulative distribution values.\n",
      "Likely underflow or overflow error: the optimal fit for this distribution gives values that are so extreme that we lack the numerical precision to calculate them.\n"
     ]
    },
    {
     "name": "stdout",
     "output_type": "stream",
     "text": [
      "Loglikelihood ratio: -0.698351720033136\n",
      "p-value: 0.18301429677897585\n",
      "The data is consistent with a power-law distribution.\n",
      "Calculating best minimal value for power law fit\n",
      "xmin progress: 98%\r"
     ]
    },
    {
     "name": "stderr",
     "output_type": "stream",
     "text": [
      "'nan' in fit cumulative distribution values.\n",
      "Likely underflow or overflow error: the optimal fit for this distribution gives values that are so extreme that we lack the numerical precision to calculate them.\n"
     ]
    },
    {
     "name": "stdout",
     "output_type": "stream",
     "text": [
      "Loglikelihood ratio: -0.4332616088454806\n",
      "p-value: 0.36623289242530277\n",
      "The data is consistent with a power-law distribution.\n",
      "Calculating best minimal value for power law fit\n",
      "xmin progress: 99%\r"
     ]
    },
    {
     "name": "stderr",
     "output_type": "stream",
     "text": [
      "'nan' in fit cumulative distribution values.\n",
      "Likely underflow or overflow error: the optimal fit for this distribution gives values that are so extreme that we lack the numerical precision to calculate them.\n"
     ]
    },
    {
     "name": "stdout",
     "output_type": "stream",
     "text": [
      "Loglikelihood ratio: 0.1527339805825192\n",
      "p-value: 3.1885409018339825e-05\n",
      "The data is significantly different from a power-law distribution.\n",
      "Calculating best minimal value for power law fit\n",
      "xmin progress: 98%\r"
     ]
    },
    {
     "name": "stderr",
     "output_type": "stream",
     "text": [
      "'nan' in fit cumulative distribution values.\n",
      "Likely underflow or overflow error: the optimal fit for this distribution gives values that are so extreme that we lack the numerical precision to calculate them.\n",
      "'nan' in fit cumulative distribution values.\n",
      "Likely underflow or overflow error: the optimal fit for this distribution gives values that are so extreme that we lack the numerical precision to calculate them.\n",
      "'nan' in fit cumulative distribution values.\n",
      "Likely underflow or overflow error: the optimal fit for this distribution gives values that are so extreme that we lack the numerical precision to calculate them.\n",
      "'nan' in fit cumulative distribution values.\n",
      "Likely underflow or overflow error: the optimal fit for this distribution gives values that are so extreme that we lack the numerical precision to calculate them.\n"
     ]
    },
    {
     "name": "stdout",
     "output_type": "stream",
     "text": [
      "Loglikelihood ratio: -2.011063433886333\n",
      "p-value: 0.04168815141161374\n",
      "The data is significantly different from a power-law distribution.\n",
      "Calculating best minimal value for power law fit\n",
      "Loglikelihood ratio: -0.29227647550180436\n",
      "p-value: 0.25763805400197204\n",
      "The data is consistent with a power-law distribution.\n",
      "Calculating best minimal value for power law fit\n",
      "Loglikelihood ratio: -1.005109513550607\n",
      "p-value: 0.005556009914043708\n",
      "The data is significantly different from a power-law distribution.\n",
      "--\n",
      "Calculating best minimal value for power law fit\n",
      "Loglikelihood ratio: -0.8700595253489884\n",
      "p-value: 0.09133616006759387\n",
      "The data is consistent with a power-law distribution.\n",
      "Calculating best minimal value for power law fit\n",
      "Loglikelihood ratio: -0.024661673447666344\n",
      "p-value: 0.8928167069198562\n",
      "The data is consistent with a power-law distribution.\n",
      "Calculating best minimal value for power law fit\n",
      "Loglikelihood ratio: -1.7935719928108709\n",
      "p-value: 0.04525522999777662\n",
      "The data is significantly different from a power-law distribution.\n",
      "Calculating best minimal value for power law fit\n",
      "xmin progress: 98%\r"
     ]
    },
    {
     "name": "stderr",
     "output_type": "stream",
     "text": [
      "'nan' in fit cumulative distribution values.\n",
      "Likely underflow or overflow error: the optimal fit for this distribution gives values that are so extreme that we lack the numerical precision to calculate them.\n",
      "'nan' in fit cumulative distribution values.\n",
      "Likely underflow or overflow error: the optimal fit for this distribution gives values that are so extreme that we lack the numerical precision to calculate them.\n"
     ]
    },
    {
     "name": "stdout",
     "output_type": "stream",
     "text": [
      "Loglikelihood ratio: -0.5879820014994244\n",
      "p-value: 0.3252951781577901\n",
      "The data is consistent with a power-law distribution.\n",
      "Calculating best minimal value for power law fit\n",
      "Loglikelihood ratio: 0.021250406558262935\n",
      "p-value: 0.3765909713878195\n",
      "The data is consistent with a power-law distribution.\n"
     ]
    },
    {
     "name": "stderr",
     "output_type": "stream",
     "text": [
      "'nan' in fit cumulative distribution values.\n",
      "Likely underflow or overflow error: the optimal fit for this distribution gives values that are so extreme that we lack the numerical precision to calculate them.\n"
     ]
    }
   ],
   "source": [
    "#Size\n",
    "print('++')\n",
    "for i in blnlist:\n",
    "    fit = powerlaw.Fit(np.load(i)[1])\n",
    "    R, p_value = fit.distribution_compare('power_law', 'lognormal')\n",
    "\n",
    "    print(f\"Loglikelihood ratio: {R}\")\n",
    "    print(f\"p-value: {p_value}\")\n",
    "\n",
    "    if p_value < 0.05:\n",
    "        print(\"The data is significantly different from a power-law distribution.\")\n",
    "    else:\n",
    "        print(\"The data is consistent with a power-law distribution.\")\n",
    "\n",
    "#Size\n",
    "print('+-')\n",
    "for i in p5list:\n",
    "    fit = powerlaw.Fit(np.load(i)[1])\n",
    "    R, p_value = fit.distribution_compare('power_law', 'lognormal')\n",
    "\n",
    "    print(f\"Loglikelihood ratio: {R}\")\n",
    "    print(f\"p-value: {p_value}\")\n",
    "\n",
    "    if p_value < 0.05:\n",
    "        print(\"The data is significantly different from a power-law distribution.\")\n",
    "    else:\n",
    "        print(\"The data is consistent with a power-law distribution.\")\n",
    "\n",
    "#Size\n",
    "print('--')\n",
    "for i in p20list:\n",
    "    fit = powerlaw.Fit(np.load(i)[1])\n",
    "    R, p_value = fit.distribution_compare('power_law', 'lognormal')\n",
    "\n",
    "    print(f\"Loglikelihood ratio: {R}\")\n",
    "    print(f\"p-value: {p_value}\")\n",
    "\n",
    "    if p_value < 0.05:\n",
    "        print(\"The data is significantly different from a power-law distribution.\")\n",
    "    else:\n",
    "        print(\"The data is consistent with a power-law distribution.\")\n"
   ]
  },
  {
   "cell_type": "code",
   "execution_count": 33,
   "metadata": {},
   "outputs": [
    {
     "name": "stdout",
     "output_type": "stream",
     "text": [
      "Calculating best minimal value for power law fit\n",
      "xmin progress: 99%\r"
     ]
    }
   ],
   "source": [
    "import powerlaw\n",
    "fit = powerlaw.Fit(prc[0])\n",
    "R, p_value = fit.distribution_compare('power_law', 'lognormal')\n"
   ]
  },
  {
   "cell_type": "code",
   "execution_count": 34,
   "metadata": {},
   "outputs": [
    {
     "name": "stdout",
     "output_type": "stream",
     "text": [
      "Loglikelihood ratio: -4.97459321662658\n",
      "p-value: 0.038533269143777735\n",
      "The data is significantly different from a power-law distribution.\n"
     ]
    }
   ],
   "source": [
    "print(f\"Loglikelihood ratio: {R}\")\n",
    "print(f\"p-value: {p_value}\")\n",
    "\n",
    "if p_value < 0.05:\n",
    "    print(\"The data is significantly different from a power-law distribution.\")\n",
    "else:\n",
    "    print(\"The data is consistent with a power-law distribution.\")\n"
   ]
  },
  {
   "cell_type": "code",
   "execution_count": 28,
   "metadata": {},
   "outputs": [
    {
     "name": "stdout",
     "output_type": "stream",
     "text": [
      "Collecting powerlaw\n",
      "  Downloading powerlaw-1.5-py3-none-any.whl (24 kB)\n",
      "Requirement already satisfied: matplotlib in /Users/dominicburrows/Applications/anaconda3/envs/py_38/lib/python3.8/site-packages (from powerlaw) (3.7.4)\n",
      "Requirement already satisfied: scipy in /Users/dominicburrows/Applications/anaconda3/envs/py_38/lib/python3.8/site-packages (from powerlaw) (1.10.1)\n",
      "Collecting mpmath\n",
      "  Downloading mpmath-1.3.0-py3-none-any.whl (536 kB)\n",
      "\u001b[2K     \u001b[90m━━━━━━━━━━━━━━━━━━━━━━━━━━━━━━━━━━━━━━━\u001b[0m \u001b[32m536.2/536.2 kB\u001b[0m \u001b[31m8.1 MB/s\u001b[0m eta \u001b[36m0:00:00\u001b[0ma \u001b[36m0:00:01\u001b[0m\n",
      "\u001b[?25hRequirement already satisfied: numpy in /Users/dominicburrows/Applications/anaconda3/envs/py_38/lib/python3.8/site-packages (from powerlaw) (1.24.4)\n",
      "Requirement already satisfied: pyparsing>=2.3.1 in /Users/dominicburrows/Applications/anaconda3/envs/py_38/lib/python3.8/site-packages (from matplotlib->powerlaw) (3.1.1)\n",
      "Requirement already satisfied: python-dateutil>=2.7 in /Users/dominicburrows/Applications/anaconda3/envs/py_38/lib/python3.8/site-packages (from matplotlib->powerlaw) (2.8.2)\n",
      "Requirement already satisfied: contourpy>=1.0.1 in /Users/dominicburrows/Applications/anaconda3/envs/py_38/lib/python3.8/site-packages (from matplotlib->powerlaw) (1.1.1)\n",
      "Requirement already satisfied: packaging>=20.0 in /Users/dominicburrows/Applications/anaconda3/envs/py_38/lib/python3.8/site-packages (from matplotlib->powerlaw) (23.0)\n",
      "Requirement already satisfied: pillow>=6.2.0 in /Users/dominicburrows/Applications/anaconda3/envs/py_38/lib/python3.8/site-packages (from matplotlib->powerlaw) (10.1.0)\n",
      "Requirement already satisfied: importlib-resources>=3.2.0 in /Users/dominicburrows/Applications/anaconda3/envs/py_38/lib/python3.8/site-packages (from matplotlib->powerlaw) (5.10.2)\n",
      "Requirement already satisfied: cycler>=0.10 in /Users/dominicburrows/Applications/anaconda3/envs/py_38/lib/python3.8/site-packages (from matplotlib->powerlaw) (0.12.1)\n",
      "Requirement already satisfied: fonttools>=4.22.0 in /Users/dominicburrows/Applications/anaconda3/envs/py_38/lib/python3.8/site-packages (from matplotlib->powerlaw) (4.45.1)\n",
      "Requirement already satisfied: kiwisolver>=1.0.1 in /Users/dominicburrows/Applications/anaconda3/envs/py_38/lib/python3.8/site-packages (from matplotlib->powerlaw) (1.4.5)\n",
      "Requirement already satisfied: zipp>=3.1.0 in /Users/dominicburrows/Applications/anaconda3/envs/py_38/lib/python3.8/site-packages (from importlib-resources>=3.2.0->matplotlib->powerlaw) (3.11.0)\n",
      "Requirement already satisfied: six>=1.5 in /Users/dominicburrows/Applications/anaconda3/envs/py_38/lib/python3.8/site-packages (from python-dateutil>=2.7->matplotlib->powerlaw) (1.16.0)\n",
      "Installing collected packages: mpmath, powerlaw\n",
      "Successfully installed mpmath-1.3.0 powerlaw-1.5\n",
      "Note: you may need to restart the kernel to use updated packages.\n"
     ]
    }
   ],
   "source": [
    "import powerlaw\n",
    "import matplotlib.pyplot as plt\n",
    "\n",
    "# Example: Your data (replace 'data' with your actual dataset)\n",
    "data = [your_values]  # Your set of values as a list or numpy array\n",
    "\n",
    "# Fit the data to a power-law distribution\n",
    "fit = powerlaw.Fit(data)\n",
    "\n",
    "# Plot the data and the power-law fit\n",
    "fig = plt.figure()\n",
    "fit.plot_pdf(color='b', linewidth=2)\n",
    "fit.power_law.plot_pdf(color='r', linestyle='--', linewidth=2)\n",
    "plt.show()\n",
    "\n",
    "# Perform the Kolmogorov-Smirnov test to compare the data to a power-law\n",
    "R, p_value = fit.distribution_compare('power_law', 'lognormal')\n",
    "\n",
    "print(f\"Loglikelihood ratio: {R}\")\n",
    "print(f\"p-value: {p_value}\")\n",
    "\n",
    "if p_value < 0.05:\n",
    "    print(\"The data is significantly different from a power-law distribution.\")\n",
    "else:\n",
    "    print(\"The data is consistent with a power-law distribution.\")\n"
   ]
  },
  {
   "cell_type": "code",
   "execution_count": 12,
   "metadata": {},
   "outputs": [],
   "source": [
    "colors2 = ['grey','mediumturquoise','cornflowerblue']\n"
   ]
  },
  {
   "cell_type": "code",
   "execution_count": 13,
   "metadata": {},
   "outputs": [
    {
     "ename": "NameError",
     "evalue": "name 'bln_histlist' is not defined",
     "output_type": "error",
     "traceback": [
      "\u001b[0;31m---------------------------------------------------------------------------\u001b[0m",
      "\u001b[0;31mNameError\u001b[0m                                 Traceback (most recent call last)",
      "Cell \u001b[0;32mIn[13], line 7\u001b[0m\n\u001b[1;32m      4\u001b[0m fig, axarr \u001b[38;5;241m=\u001b[39m plt\u001b[38;5;241m.\u001b[39msubplots(figsize \u001b[38;5;241m=\u001b[39m (\u001b[38;5;241m15\u001b[39m,\u001b[38;5;241m12\u001b[39m))  \n\u001b[1;32m      6\u001b[0m stop \u001b[38;5;241m=\u001b[39m \u001b[38;5;241m300000\u001b[39m\n\u001b[0;32m----> 7\u001b[0m xaxis \u001b[38;5;241m=\u001b[39m np\u001b[38;5;241m.\u001b[39mmean(\u001b[43mbln_histlist\u001b[49m, axis\u001b[38;5;241m=\u001b[39m \u001b[38;5;241m0\u001b[39m)\n\u001b[1;32m      8\u001b[0m sem \u001b[38;5;241m=\u001b[39m stats\u001b[38;5;241m.\u001b[39msem(bln_histlist)\n\u001b[1;32m      9\u001b[0m minus \u001b[38;5;241m=\u001b[39m (xaxis\u001b[38;5;241m-\u001b[39m(sem))[:stop]\n",
      "\u001b[0;31mNameError\u001b[0m: name 'bln_histlist' is not defined"
     ]
    },
    {
     "data": {
      "image/png": "[encoded data removed]",
      "text/plain": [
       "<Figure size 1500x1200 with 1 Axes>"
      ]
     },
     "metadata": {},
     "output_type": "display_data"
    }
   ],
   "source": [
    "from scipy import stats\n",
    "import matplotlib\n",
    "\n",
    "fig, axarr = plt.subplots(figsize = (15,12))  \n",
    "\n",
    "stop = 300000\n",
    "xaxis = np.mean(bln_histlist, axis= 0)\n",
    "sem = stats.sem(bln_histlist)\n",
    "minus = (xaxis-(sem))[:stop]\n",
    "#minus [minus < 0.00001] = 0\n",
    "plus = (xaxis+(sem))[:stop]\n",
    "plt.fill_between(yaxis[:stop], minus, plus,facecolor='k',alpha=0.3,linewidth = 0)\n",
    "hist = plt.plot(yaxis, xaxis, c = 'grey', linewidth = 14)\n",
    "\n",
    "stop = 300000\n",
    "xaxis = np.mean(p5_histlist, axis= 0)\n",
    "sem = stats.sem(p5_histlist)\n",
    "minus = (xaxis-(sem))[:stop]\n",
    "#minus [minus < 0.00001] = 0.\n",
    "plus = (xaxis+(sem))[:stop]\n",
    "plt.fill_between(yaxis[:stop], minus, plus,facecolor='green',alpha=0.3,linewidth = 0)\n",
    "hist = plt.plot(yaxis, xaxis, c = 'mediumturquoise', linewidth = 14, linestyle= '-')\n",
    "\n",
    "stop = 300000\n",
    "xaxis = np.mean(p20_histlist, axis= 0)\n",
    "sem = stats.sem(p20_histlist)\n",
    "minus = (xaxis-(sem))[:stop]\n",
    "#minus [minus < 0.00001] = 0\n",
    "plus = (xaxis+(sem))[:stop]\n",
    "plt.fill_between(yaxis[:stop], minus, plus, facecolor='royalblue',alpha=0.3,linewidth = 0)\n",
    "hist = plt.plot(yaxis, xaxis, c = 'cornflowerblue', linewidth = 14, linestyle = '-')\n",
    "\n",
    "\n",
    "axarr.get_xaxis().set_major_formatter(matplotlib.ticker.ScalarFormatter())\n",
    "axarr.set_xscale('log')\n",
    "axarr.set_yscale('log')\n",
    "#plt.xlim(right = 400)  \n",
    "plt.ylim(bottom = 0.000003)  \n",
    "axarr.set_ylabel('P(S)', size = '40')\n",
    "axarr.set_xlabel('Avalanche size (events)', size = '40')\n",
    "axarr.spines['top'].set_visible(False)\n",
    "axarr.spines['right'].set_visible(False)\n",
    "plt.yticks(size = 30)\n",
    "plt.xticks(size = 30)\n",
    "plt.savefig(Ffig + 'avsize_foxg1_spont_mean.svg', transparent = True)\n",
    "plt.show()"
   ]
  },
  {
   "cell_type": "code",
   "execution_count": 359,
   "metadata": {},
   "outputs": [
    {
     "data": {
      "image/png": "[encoded data removed]",
      "text/plain": [
       "<Figure size 1080x864 with 1 Axes>"
      ]
     },
     "metadata": {},
     "output_type": "display_data"
    }
   ],
   "source": [
    "from scipy import stats\n",
    "import matplotlib\n",
    "\n",
    "fig, axarr = plt.subplots(figsize = (15,12))  \n",
    "\n",
    "stop = 300000\n",
    "xaxis = np.mean(bln_histlist, axis= 0)\n",
    "sem = stats.sem(bln_histlist)\n",
    "minus = (xaxis-(sem))[:stop]\n",
    "#minus [minus < 0.00001] = 0\n",
    "plus = (xaxis+(sem))[:stop]\n",
    "plt.fill_between(yaxis[:stop], minus, plus,facecolor='k',alpha=0.3,linewidth = 0)\n",
    "hist = plt.plot(yaxis, xaxis, c = 'grey', linewidth = 14)\n",
    "\n",
    "stop = 300000\n",
    "xaxis = np.mean(p5_histlist, axis= 0)\n",
    "sem = stats.sem(p5_histlist)\n",
    "minus = (xaxis-(sem))[:stop]\n",
    "#minus [minus < 0.00001] = 0.\n",
    "plus = (xaxis+(sem))[:stop]\n",
    "plt.fill_between(yaxis[:stop], minus, plus,facecolor='green',alpha=0.3,linewidth = 0)\n",
    "hist = plt.plot(yaxis, xaxis, c = 'mediumturquoise', linewidth = 14, linestyle= '-')\n",
    "\n",
    "stop = 300000\n",
    "xaxis = np.mean(p20_histlist, axis= 0)\n",
    "sem = stats.sem(p20_histlist)\n",
    "minus = (xaxis-(sem))[:stop]\n",
    "#minus [minus < 0.00001] = 0\n",
    "plus = (xaxis+(sem))[:stop]\n",
    "plt.fill_between(yaxis[:stop], minus, plus, facecolor='royalblue',alpha=0.3,linewidth = 0)\n",
    "hist = plt.plot(yaxis, xaxis, c = 'cornflowerblue', linewidth = 14, linestyle = '-')\n",
    "\n",
    "\n",
    "axarr.get_xaxis().set_major_formatter(matplotlib.ticker.ScalarFormatter())\n",
    "axarr.set_xscale('log')\n",
    "axarr.set_yscale('log')\n",
    "#plt.xlim(right = 400)  \n",
    "plt.ylim(bottom = 0.000003)  \n",
    "axarr.set_ylabel('P(S)', size = '40')\n",
    "axarr.set_xlabel('Avalanche size (events)', size = '40')\n",
    "axarr.spines['top'].set_visible(False)\n",
    "axarr.spines['right'].set_visible(False)\n",
    "plt.yticks(size = 30)\n",
    "plt.xticks(size = 30)\n",
    "plt.savefig(Ffig + 'avsize_foxg1_spont_mean.svg', transparent = True)\n",
    "plt.show()"
   ]
  },
  {
   "cell_type": "code",
   "execution_count": 4,
   "metadata": {},
   "outputs": [
    {
     "data": {
      "image/png": "[encoded data removed]",
      "text/plain": [
       "<Figure size 504x360 with 1 Axes>"
      ]
     },
     "metadata": {
      "needs_background": "light"
     },
     "output_type": "display_data"
    }
   ],
   "source": [
    "import seaborn as sns\n",
    "from matplotlib import cm \n",
    "\n",
    "fig, axarr = plt.subplots(figsize = (7,5))\n",
    "sns.reset_orig()\n",
    "\n",
    "binchoose = 1000\n",
    "choose = wt_list\n",
    "#labels = ['10$^1$','10$^1$','10$^1$','10$^2$','10$^3$']\n",
    "colors  = cm.Spectral_r(np.linspace(0,1,len(choose)))\n",
    "\n",
    "\n",
    "#colors = ['indigo', '#ff7f0e', '#2ca02c', '#d62728', '#9467bd', '#8c564b', '#e377c2', '#7f7f7f', 'orangered', '#17becf', '#1f77b4']\n",
    "axarr.set_prop_cycle('color', colors)\n",
    "colors  = cm.Spectral_r(np.linspace(0,1,len(choose)))\n",
    "binvec = []\n",
    "for i in range(len(choose)):\n",
    "    binvec = np.append(binvec, np.load(choose[i])[0])\n",
    "mini = np.min(binvec)\n",
    "maxi = np.max(binvec)\n",
    "\n",
    "for i in range(len(choose)):\n",
    "    avdistcut = np.load(choose[i])[0]\n",
    "    binned=np.linspace(mini,maxi, binchoose)\n",
    "    hist = np.histogram(avdistcut, bins = binned)\n",
    "    xaxis = hist[1][:-1]\n",
    "    yaxis = hist[0]/np.sum(hist[0])\n",
    "    axarr.plot(xaxis[:len(xaxis)-1], yaxis[:len(xaxis)-1], '-', linewidth = 7, markersize = 1, alpha = 1, c = colors[i])\n",
    "axarr.set_xscale('log')\n",
    "axarr.set_yscale('log')\n",
    "axarr.get_xaxis().set_major_formatter(matplotlib.ticker.ScalarFormatter())\n",
    "#plt.ylim(bottom = 0.00001)  \n",
    "#plt.xlim(right = 1000)  \n",
    "axarr.set_ylabel('P(S)', size = '17')\n",
    "axarr.set_xlabel('Avalanche size (events)', size = '17')\n",
    "axarr.spines['top'].set_visible(False)\n",
    "axarr.spines['right'].set_visible(False)\n",
    "#axarr.set_xticklabels(labels, size = 15)\n",
    "plt.yticks(size = 15)\n",
    "\n",
    "#plt.savefig(Ffig + 'av_size.svg', transparent = True)\n",
    "plt.show()"
   ]
  },
  {
   "cell_type": "code",
   "execution_count": 5,
   "metadata": {},
   "outputs": [
    {
     "data": {
      "image/png": "[encoded data removed]",
      "text/plain": [
       "<Figure size 504x360 with 1 Axes>"
      ]
     },
     "metadata": {
      "needs_background": "light"
     },
     "output_type": "display_data"
    }
   ],
   "source": [
    "import seaborn as sns\n",
    "from matplotlib import cm \n",
    "\n",
    "fig, axarr = plt.subplots(figsize = (7,5))\n",
    "sns.reset_orig()\n",
    "\n",
    "binchoose = 1000\n",
    "choose = het_list\n",
    "#labels = ['10$^1$','10$^1$','10$^1$','10$^2$','10$^3$']\n",
    "colors  = cm.Spectral_r(np.linspace(0,1,len(choose)))\n",
    "\n",
    "\n",
    "#colors = ['indigo', '#ff7f0e', '#2ca02c', '#d62728', '#9467bd', '#8c564b', '#e377c2', '#7f7f7f', 'orangered', '#17becf', '#1f77b4']\n",
    "axarr.set_prop_cycle('color', colors)\n",
    "colors  = cm.Spectral_r(np.linspace(0,1,len(choose)))\n",
    "binvec = []\n",
    "for i in range(len(choose)):\n",
    "    binvec = np.append(binvec, np.load(choose[i])[0])\n",
    "mini = np.min(binvec)\n",
    "maxi = np.max(binvec)\n",
    "\n",
    "for i in range(len(choose)):\n",
    "    avdistcut = np.load(choose[i])[0]\n",
    "    binned=np.linspace(mini,maxi, binchoose)\n",
    "    hist = np.histogram(avdistcut, bins = binned)\n",
    "    xaxis = hist[1][:-1]\n",
    "    yaxis = hist[0]/np.sum(hist[0])\n",
    "    axarr.plot(xaxis[:len(xaxis)-1], yaxis[:len(xaxis)-1], '-', linewidth = 7, markersize = 1, alpha = 1, c = colors[i])\n",
    "axarr.set_xscale('log')\n",
    "axarr.set_yscale('log')\n",
    "axarr.get_xaxis().set_major_formatter(matplotlib.ticker.ScalarFormatter())\n",
    "#plt.ylim(bottom = 0.00001)  \n",
    "#plt.xlim(right = 1000)  \n",
    "axarr.set_ylabel('P(S)', size = '17')\n",
    "axarr.set_xlabel('Avalanche size (events)', size = '17')\n",
    "axarr.spines['top'].set_visible(False)\n",
    "axarr.spines['right'].set_visible(False)\n",
    "#axarr.set_xticklabels(labels, size = 15)\n",
    "plt.yticks(size = 15)\n",
    "\n",
    "#plt.savefig(Ffig + 'av_size.svg', transparent = True)\n",
    "plt.show()"
   ]
  },
  {
   "cell_type": "code",
   "execution_count": 6,
   "metadata": {},
   "outputs": [
    {
     "data": {
      "image/png": "[encoded data removed]",
      "text/plain": [
       "<Figure size 504x360 with 1 Axes>"
      ]
     },
     "metadata": {
      "needs_background": "light"
     },
     "output_type": "display_data"
    }
   ],
   "source": [
    "import seaborn as sns\n",
    "from matplotlib import cm \n",
    "\n",
    "fig, axarr = plt.subplots(figsize = (7,5))\n",
    "sns.reset_orig()\n",
    "\n",
    "binchoose = 1000\n",
    "choose = hom_list\n",
    "typ = 0\n",
    "#labels = ['10$^1$','10$^1$','10$^1$','10$^2$','10$^3$']\n",
    "colors  = cm.Spectral_r(np.linspace(0,1,len(choose)))\n",
    "\n",
    "\n",
    "#colors = ['indigo', '#ff7f0e', '#2ca02c', '#d62728', '#9467bd', '#8c564b', '#e377c2', '#7f7f7f', 'orangered', '#17becf', '#1f77b4']\n",
    "axarr.set_prop_cycle('color', colors)\n",
    "colors  = cm.Spectral_r(np.linspace(0,1,len(choose)))\n",
    "binvec = []\n",
    "for i in range(len(choose)):\n",
    "    binvec = np.append(binvec, np.load(choose[i])[0\n",
    "                                                 ])\n",
    "mini = np.min(binvec)\n",
    "maxi = np.max(binvec)\n",
    "\n",
    "for i in range(len(choose)):\n",
    "    avdistcut = np.load(choose[i])[0]\n",
    "    binned=np.linspace(mini,maxi, binchoose)\n",
    "    hist = np.histogram(avdistcut, bins = binned)\n",
    "    xaxis = hist[1][:-1]\n",
    "    yaxis = hist[0]/np.sum(hist[0])\n",
    "    axarr.plot(xaxis[:len(xaxis)-1], yaxis[:len(xaxis)-1], '-', linewidth = 7, markersize = 1, alpha = 1, c = colors[i])\n",
    "axarr.set_xscale('log')\n",
    "axarr.set_yscale('log')\n",
    "axarr.get_xaxis().set_major_formatter(matplotlib.ticker.ScalarFormatter())\n",
    "#plt.ylim(bottom = 0.00001)  \n",
    "#plt.xlim(right = 1000)  \n",
    "axarr.set_ylabel('P(S)', size = '17')\n",
    "axarr.set_xlabel('Avalanche size (events)', size = '17')\n",
    "axarr.spines['top'].set_visible(False)\n",
    "axarr.spines['right'].set_visible(False)\n",
    "#axarr.set_xticklabels(labels, size = 15)\n",
    "plt.yticks(size = 15)\n",
    "\n",
    "#plt.savefig(Ffig + 'av_size.svg', transparent = True)\n",
    "plt.show()"
   ]
  },
  {
   "cell_type": "code",
   "execution_count": 16,
   "metadata": {},
   "outputs": [
    {
     "data": {
      "text/plain": [
       "['BLNLIGHTPTZ-FOXG1++-01_2photon_sess-01-6dpf_BLNLIGHT_run-01_av-Tel.npy',\n",
       " 'BLNLIGHTPTZ-FOXG1++-01_2photon_sess-01-6dpf_PTZ02_run-01_av-Tel.npy',\n",
       " 'BLNLIGHTPTZ-FOXG1++-02_2photon_sess-01-6dpf_BLNLIGHT_run-01_av-Tel.npy',\n",
       " 'BLNLIGHTPTZ-FOXG1++-02_2photon_sess-01-6dpf_PTZ02_run-01_av-Tel.npy',\n",
       " 'BLNLIGHTPTZ-FOXG1++-03_2photon_sess-01-6dpf_BLNLIGHT_run-01_av-Tel.npy',\n",
       " 'BLNLIGHTPTZ-FOXG1++-03_2photon_sess-01-6dpf_PTZ02_run-01_av-Tel.npy',\n",
       " 'BLNLIGHTPTZ-FOXG1++-04_2photon_sess-01-6dpf_BLNLIGHT_run-01_av-Tel.npy',\n",
       " 'BLNLIGHTPTZ-FOXG1++-05_2photon_sess-01-6dpf_BLNLIGHT_run-01_av-Tel.npy',\n",
       " 'BLNLIGHTPTZ-FOXG1++-05_2photon_sess-01-6dpf_PTZ02_run-01_av-Tel.npy',\n",
       " 'BLNLIGHTPTZ-FOXG1+--02_2photon_sess-01-6dpf_BLNLIGHT_run-01_av-Tel.npy',\n",
       " 'BLNLIGHTPTZ-FOXG1+--02_2photon_sess-01-6dpf_PTZ02_run-01_av-Tel.npy',\n",
       " 'BLNLIGHTPTZ-FOXG1+--03_2photon_sess-01-6dpf_BLNLIGHT_run-01_av-Tel.npy',\n",
       " 'BLNLIGHTPTZ-FOXG1+--03_2photon_sess-01-6dpf_PTZ02_run-01_av-Tel.npy',\n",
       " 'BLNLIGHTPTZ-FOXG1+--04_2photon_sess-01-6dpf_BLNLIGHT_run-01_av-Tel.npy',\n",
       " 'BLNLIGHTPTZ-FOXG1+--04_2photon_sess-01-6dpf_PTZ02_run-01_av-Tel.npy',\n",
       " 'BLNLIGHTPTZ-FOXG1+--05_2photon_sess-01-6dpf_BLNLIGHT_run-01_av-Tel.npy',\n",
       " 'BLNLIGHTPTZ-FOXG1+--05_2photon_sess-01-6dpf_PTZ02_run-01_av-Tel.npy',\n",
       " 'BLNLIGHTPTZ-FOXG1+--06_2photon_sess-01-6dpf_BLNLIGHT_run-01_av-Tel.npy',\n",
       " 'BLNLIGHTPTZ-FOXG1+--06_2photon_sess-01-6dpf_PTZ02_run-01_av-Tel.npy',\n",
       " 'BLNLIGHTPTZ-FOXG1+--07_2photon_sess-01-6dpf_BLNLIGHT_run-01_av-Tel.npy',\n",
       " 'BLNLIGHTPTZ-FOXG1+--07_2photon_sess-01-6dpf_PTZ02_run-01_av-Tel.npy',\n",
       " 'BLNLIGHTPTZ-FOXG1+--08_2photon_sess-01-6dpf_BLNLIGHT_run-01_av-Tel.npy',\n",
       " 'BLNLIGHTPTZ-FOXG1+--08_2photon_sess-01-6dpf_PTZ02_run-01_av-Tel.npy',\n",
       " 'BLNLIGHTPTZ-FOXG1+--09_2photon_sess-01-6dpf_BLNLIGHT_run-01_av-Tel.npy',\n",
       " 'BLNLIGHTPTZ-FOXG1+--09_2photon_sess-01-6dpf_PTZ02_run-01_av-Tel.npy',\n",
       " 'BLNLIGHTPTZ-FOXG1---02_2photon_sess-01-6dpf_BLNLIGHT_run-01_av-Tel.npy',\n",
       " 'BLNLIGHTPTZ-FOXG1---02_2photon_sess-01-6dpf_PTZ02_run-01_av-Tel.npy',\n",
       " 'BLNLIGHTPTZ-FOXG1---03_2photon_sess-01-6dpf_BLNLIGHT_run-01_av-Tel.npy',\n",
       " 'BLNLIGHTPTZ-FOXG1---03_2photon_sess-01-6dpf_PTZ02_run-01_av-Tel.npy',\n",
       " 'BLNLIGHTPTZ-FOXG1---04_2photon_sess-01-6dpf_BLNLIGHT_run-01_av-Tel.npy',\n",
       " 'BLNLIGHTPTZ-FOXG1---04_2photon_sess-01-6dpf_PTZ02_run-01_av-Tel.npy',\n",
       " 'BLNLIGHTPTZ-FOXG1---05_2photon_sess-01-6dpf_BLNLIGHT_run-01_av-Tel.npy',\n",
       " 'BLNLIGHTPTZ-FOXG1---05_2photon_sess-01-6dpf_PTZ02_run-01_av-Tel.npy',\n",
       " 'BLNLIGHTPTZ-FOXG1---06_2photon_sess-01-6dpf_BLNLIGHT_run-01_av-Tel.npy',\n",
       " 'BLNLIGHTPTZ-FOXG1---06_2photon_sess-01-6dpf_PTZ02_run-01_av-Tel.npy']"
      ]
     },
     "execution_count": 16,
     "metadata": {},
     "output_type": "execute_result"
    }
   ],
   "source": [
    "# BLN Avalanche distributions\n",
    "\n",
    "# Visualise \n",
    "#---------------------------------------------------------------------------\n",
    "av_list = sorted(glob.glob('**_av-*npy*')) \n",
    "av_list"
   ]
  },
  {
   "cell_type": "markdown",
   "metadata": {},
   "source": [
    "# Exponent relations"
   ]
  },
  {
   "cell_type": "code",
   "execution_count": 143,
   "metadata": {},
   "outputs": [
    {
     "name": "stdout",
     "output_type": "stream",
     "text": [
      "BLNLIGHTPTZ-FOXG1++-01_2photon_sess-01-6dpf_BLNLIGHT_run-01_\n",
      "0of 33\n",
      "BLNLIGHTPTZ-FOXG1++-01_2photon_sess-01-6dpf_PTZ02_run-01_\n",
      "1of 33\n",
      "BLNLIGHTPTZ-FOXG1++-02_2photon_sess-01-6dpf_BLNLIGHT_run-01_\n",
      "2of 33\n",
      "BLNLIGHTPTZ-FOXG1++-02_2photon_sess-01-6dpf_PTZ02_run-01_\n",
      "3of 33\n",
      "BLNLIGHTPTZ-FOXG1++-03_2photon_sess-01-6dpf_BLNLIGHT_run-01_\n",
      "4of 33\n",
      "BLNLIGHTPTZ-FOXG1++-03_2photon_sess-01-6dpf_PTZ02_run-01_\n",
      "5of 33\n",
      "BLNLIGHTPTZ-FOXG1++-04_2photon_sess-01-6dpf_BLNLIGHT_run-01_\n",
      "6of 33\n",
      "BLNLIGHTPTZ-FOXG1++-05_2photon_sess-01-6dpf_BLNLIGHT_run-01_\n",
      "7of 33\n",
      "BLNLIGHTPTZ-FOXG1++-05_2photon_sess-01-6dpf_PTZ02_run-01_\n",
      "8of 33\n",
      "BLNLIGHTPTZ-FOXG1+--02_2photon_sess-01-6dpf_BLNLIGHT_run-01_\n",
      "9of 33\n",
      "BLNLIGHTPTZ-FOXG1+--02_2photon_sess-01-6dpf_PTZ02_run-01_\n",
      "10of 33\n",
      "BLNLIGHTPTZ-FOXG1+--03_2photon_sess-01-6dpf_BLNLIGHT_run-01_\n",
      "11of 33\n",
      "BLNLIGHTPTZ-FOXG1+--03_2photon_sess-01-6dpf_PTZ02_run-01_\n",
      "12of 33\n",
      "BLNLIGHTPTZ-FOXG1+--04_2photon_sess-01-6dpf_BLNLIGHT_run-01_\n",
      "13of 33\n",
      "BLNLIGHTPTZ-FOXG1+--04_2photon_sess-01-6dpf_PTZ02_run-01_\n",
      "14of 33\n",
      "BLNLIGHTPTZ-FOXG1+--05_2photon_sess-01-6dpf_BLNLIGHT_run-01_\n",
      "15of 33\n",
      "BLNLIGHTPTZ-FOXG1+--05_2photon_sess-01-6dpf_PTZ02_run-01_\n",
      "16of 33\n",
      "BLNLIGHTPTZ-FOXG1+--06_2photon_sess-01-6dpf_BLNLIGHT_run-01_\n",
      "17of 33\n",
      "BLNLIGHTPTZ-FOXG1+--06_2photon_sess-01-6dpf_PTZ02_run-01_\n",
      "18of 33\n",
      "BLNLIGHTPTZ-FOXG1+--07_2photon_sess-01-6dpf_BLNLIGHT_run-01_\n",
      "19of 33\n",
      "BLNLIGHTPTZ-FOXG1+--07_2photon_sess-01-6dpf_PTZ02_run-01_\n",
      "20of 33\n",
      "BLNLIGHTPTZ-FOXG1+--08_2photon_sess-01-6dpf_BLNLIGHT_run-01_\n",
      "21of 33\n",
      "BLNLIGHTPTZ-FOXG1+--08_2photon_sess-01-6dpf_PTZ02_run-01_\n",
      "22of 33\n",
      "BLNLIGHTPTZ-FOXG1---02_2photon_sess-01-6dpf_BLNLIGHT_run-01_\n",
      "23of 33\n",
      "BLNLIGHTPTZ-FOXG1---02_2photon_sess-01-6dpf_PTZ02_run-01_\n",
      "24of 33\n",
      "BLNLIGHTPTZ-FOXG1---03_2photon_sess-01-6dpf_BLNLIGHT_run-01_\n",
      "25of 33\n",
      "BLNLIGHTPTZ-FOXG1---03_2photon_sess-01-6dpf_PTZ02_run-01_\n",
      "26of 33\n",
      "BLNLIGHTPTZ-FOXG1---04_2photon_sess-01-6dpf_BLNLIGHT_run-01_\n",
      "27of 33\n",
      "BLNLIGHTPTZ-FOXG1---04_2photon_sess-01-6dpf_PTZ02_run-01_\n",
      "28of 33\n",
      "BLNLIGHTPTZ-FOXG1---05_2photon_sess-01-6dpf_BLNLIGHT_run-01_\n",
      "29of 33\n",
      "BLNLIGHTPTZ-FOXG1---05_2photon_sess-01-6dpf_PTZ02_run-01_\n",
      "30of 33\n",
      "BLNLIGHTPTZ-FOXG1---06_2photon_sess-01-6dpf_BLNLIGHT_run-01_\n",
      "31of 33\n",
      "BLNLIGHTPTZ-FOXG1---06_2photon_sess-01-6dpf_PTZ02_run-01_\n",
      "32of 33\n"
     ]
    }
   ],
   "source": [
    "#Exponent relations\n",
    "\n",
    "#Calculate empirical exponent relation\n",
    "\n",
    "for i in range(len(av_list)):\n",
    "    curr_av = np.load(av_list[i])\n",
    "    dcc = crfn.DCC(curr_av)\n",
    "    name = os.path.basename(av_list[i][:av_list[i].find('run')+7])\n",
    "    \n",
    "    np.save(path + name + 'dcc-Tel.npy', dcc)\n",
    "\n",
    "    print(name)\n",
    "    print(str(i) + 'of ' + str(len(av_list)))\n",
    "    "
   ]
  },
  {
   "cell_type": "code",
   "execution_count": 175,
   "metadata": {},
   "outputs": [
    {
     "data": {
      "text/plain": [
       "(['BLNLIGHTPTZ-FOXG1++-01_2photon_sess-01-6dpf_PTZ02_run-01_av.npy',\n",
       "  'BLNLIGHTPTZ-FOXG1++-02_2photon_sess-01-6dpf_PTZ02_run-01_av.npy',\n",
       "  'BLNLIGHTPTZ-FOXG1++-03_2photon_sess-01-6dpf_PTZ02_run-01_av.npy',\n",
       "  'BLNLIGHTPTZ-FOXG1++-05_2photon_sess-01-6dpf_PTZ02_run-01_av.npy'],\n",
       " ['BLNLIGHTPTZ-FOXG1+--02_2photon_sess-01-6dpf_PTZ02_run-01_av.npy',\n",
       "  'BLNLIGHTPTZ-FOXG1+--03_2photon_sess-01-6dpf_PTZ02_run-01_av.npy',\n",
       "  'BLNLIGHTPTZ-FOXG1+--04_2photon_sess-01-6dpf_PTZ02_run-01_av.npy',\n",
       "  'BLNLIGHTPTZ-FOXG1+--05_2photon_sess-01-6dpf_PTZ02_run-01_av.npy',\n",
       "  'BLNLIGHTPTZ-FOXG1+--06_2photon_sess-01-6dpf_PTZ02_run-01_av.npy',\n",
       "  'BLNLIGHTPTZ-FOXG1+--07_2photon_sess-01-6dpf_PTZ02_run-01_av.npy',\n",
       "  'BLNLIGHTPTZ-FOXG1+--08_2photon_sess-01-6dpf_PTZ02_run-01_av.npy'],\n",
       " ['BLNLIGHTPTZ-FOXG1---02_2photon_sess-01-6dpf_PTZ02_run-01_av.npy',\n",
       "  'BLNLIGHTPTZ-FOXG1---03_2photon_sess-01-6dpf_PTZ02_run-01_av.npy',\n",
       "  'BLNLIGHTPTZ-FOXG1---04_2photon_sess-01-6dpf_PTZ02_run-01_av.npy',\n",
       "  'BLNLIGHTPTZ-FOXG1---05_2photon_sess-01-6dpf_PTZ02_run-01_av.npy',\n",
       "  'BLNLIGHTPTZ-FOXG1---06_2photon_sess-01-6dpf_PTZ02_run-01_av.npy'])"
      ]
     },
     "execution_count": 175,
     "metadata": {},
     "output_type": "execute_result"
    }
   ],
   "source": [
    "# Create datalists\n",
    "#---------------------------------------------------------------------------\n",
    "blnlist = sorted(glob.glob('*++*PTZ02_*_av.npy*'))\n",
    "p5list = sorted(glob.glob('*+--*PTZ02_*_av.npy*'))\n",
    "p20list = sorted(glob.glob('*---*PTZ02_*_av.npy*'))\n",
    "blnlist, p5list, p20list"
   ]
  },
  {
   "cell_type": "code",
   "execution_count": 157,
   "metadata": {},
   "outputs": [],
   "source": [
    "def prac(data):\n",
    "    avsize = np.load(data)[0]\n",
    "    avdur = (1/2.73)*np.load(data)[1]\n",
    "    sizevec, durvec = [],[]\n",
    "    for e in np.unique(avdur):\n",
    "        sizevec = np.append(sizevec, np.mean(avsize[np.where(avdur == e)]))  \n",
    "        durvec = np.append(durvec, e)\n",
    "    return(sizevec,durvec)"
   ]
  },
  {
   "cell_type": "code",
   "execution_count": null,
   "metadata": {},
   "outputs": [],
   "source": [
    "colors2 = ['grey','mediumturquoise','cornflowerblue']\n"
   ]
  },
  {
   "cell_type": "code",
   "execution_count": 178,
   "metadata": {},
   "outputs": [
    {
     "data": {
      "image/png": "[encoded data removed]",
      "text/plain": [
       "<Figure size 504x360 with 1 Axes>"
      ]
     },
     "metadata": {},
     "output_type": "display_data"
    }
   ],
   "source": [
    "fig, axarr = plt.subplots(figsize = (7,5))\n",
    "import matplotlib\n",
    "from matplotlib import cm\n",
    "\n",
    "labels = ['10$^1$','10$^1$','10$^0$','10$^1$','10$^2$', '10$^3$','10$^4$','10$^5$']\n",
    "\n",
    "for i in range(len(blnlist)):    \n",
    "    yaxis, xaxis = prac(blnlist[i])\n",
    "    axarr.scatter(xaxis, yaxis, linewidth = 2, alpha = 0.6, c = 'grey')\n",
    "    axarr.set_xscale('log')\n",
    "    axarr.set_yscale('log')\n",
    "\n",
    "\n",
    "for i in range(len(blnlist)):    \n",
    "    yaxis, xaxis = prac(p5list[i])\n",
    "    axarr.scatter(xaxis, yaxis, linewidth = 2, alpha = 0.3, c = 'mediumturquoise')\n",
    "    yaxis, xaxis = prac(p20list[i])\n",
    "    axarr.scatter(xaxis, yaxis, linewidth = 2, alpha = 0.3, c = 'cornflowerblue')\n",
    "\n",
    "    axarr.set_xscale('log')\n",
    "    axarr.set_yscale('log')\n",
    "    \n",
    "\n",
    "    \n",
    "    \n",
    "axarr.get_xaxis().set_major_formatter(matplotlib.ticker.ScalarFormatter())\n",
    "axarr.set_xlabel('Avalanche duration (s)', size = '17')\n",
    "axarr.set_ylabel('<S>', size = '17')\n",
    "axarr.spines['top'].set_visible(False)\n",
    "axarr.spines['right'].set_visible(False)\n",
    "\n",
    "axarr.set_xticklabels(labels, size = 15)\n",
    "axarr.set_yticklabels(labels, size = 15)\n",
    "#plt.xlim(right = 800) \n",
    "#plt.ylim(top = 300000)  \n",
    "\n",
    "\n",
    "plt.savefig(Ffig + 'av_sizexdur_foxg1_PTZ.svg', transparent = True)\n",
    "plt.show()"
   ]
  },
  {
   "cell_type": "code",
   "execution_count": 178,
   "metadata": {},
   "outputs": [
    {
     "data": {
      "text/plain": [
       "(['BLNLIGHTPTZ-FOXG1++-01_2photon_sess-01-6dpf_BLNLIGHT_run-01_dcc-Tel.npy',\n",
       "  'BLNLIGHTPTZ-FOXG1++-02_2photon_sess-01-6dpf_BLNLIGHT_run-01_dcc-Tel.npy',\n",
       "  'BLNLIGHTPTZ-FOXG1++-03_2photon_sess-01-6dpf_BLNLIGHT_run-01_dcc-Tel.npy',\n",
       "  'BLNLIGHTPTZ-FOXG1++-04_2photon_sess-01-6dpf_BLNLIGHT_run-01_dcc-Tel.npy',\n",
       "  'BLNLIGHTPTZ-FOXG1++-05_2photon_sess-01-6dpf_BLNLIGHT_run-01_dcc-Tel.npy'],\n",
       " ['BLNLIGHTPTZ-FOXG1+--02_2photon_sess-01-6dpf_BLNLIGHT_run-01_dcc-Tel.npy',\n",
       "  'BLNLIGHTPTZ-FOXG1+--03_2photon_sess-01-6dpf_BLNLIGHT_run-01_dcc-Tel.npy',\n",
       "  'BLNLIGHTPTZ-FOXG1+--04_2photon_sess-01-6dpf_BLNLIGHT_run-01_dcc-Tel.npy',\n",
       "  'BLNLIGHTPTZ-FOXG1+--05_2photon_sess-01-6dpf_BLNLIGHT_run-01_dcc-Tel.npy',\n",
       "  'BLNLIGHTPTZ-FOXG1+--06_2photon_sess-01-6dpf_BLNLIGHT_run-01_dcc-Tel.npy',\n",
       "  'BLNLIGHTPTZ-FOXG1+--07_2photon_sess-01-6dpf_BLNLIGHT_run-01_dcc-Tel.npy',\n",
       "  'BLNLIGHTPTZ-FOXG1+--08_2photon_sess-01-6dpf_BLNLIGHT_run-01_dcc-Tel.npy'],\n",
       " ['BLNLIGHTPTZ-FOXG1---02_2photon_sess-01-6dpf_BLNLIGHT_run-01_dcc-Tel.npy',\n",
       "  'BLNLIGHTPTZ-FOXG1---03_2photon_sess-01-6dpf_BLNLIGHT_run-01_dcc-Tel.npy',\n",
       "  'BLNLIGHTPTZ-FOXG1---04_2photon_sess-01-6dpf_BLNLIGHT_run-01_dcc-Tel.npy',\n",
       "  'BLNLIGHTPTZ-FOXG1---05_2photon_sess-01-6dpf_BLNLIGHT_run-01_dcc-Tel.npy',\n",
       "  'BLNLIGHTPTZ-FOXG1---06_2photon_sess-01-6dpf_BLNLIGHT_run-01_dcc-Tel.npy'])"
      ]
     },
     "execution_count": 178,
     "metadata": {},
     "output_type": "execute_result"
    }
   ],
   "source": [
    "# BLN Avalanche distributions\n",
    "\n",
    "# Visualise \n",
    "#---------------------------------------------------------------------------\n",
    "wt_list = sorted(glob.glob('*++*BLNLIGHT*_dcc-*.npy*')) \n",
    "het_list = sorted(glob.glob('*+--*BLNLIGHT*_dcc-*.npy*')) \n",
    "hom_list = sorted(glob.glob('*---*BLNLIGHT*_dcc-*.npy*')) \n",
    "\n",
    "wt_list, het_list, hom_list"
   ]
  },
  {
   "cell_type": "code",
   "execution_count": 179,
   "metadata": {},
   "outputs": [
    {
     "name": "stdout",
     "output_type": "stream",
     "text": [
      "0\n"
     ]
    },
    {
     "name": "stdout",
     "output_type": "stream",
     "text": [
      "1\n",
      "2\n"
     ]
    }
   ],
   "source": [
    "l_list = wt_list, het_list, hom_list\n",
    "wt, het, hom = [],[],[]\n",
    "for i in range(len(l_list)):\n",
    "    print(i)\n",
    "    for e in range(len(l_list[i])):\n",
    "        if i == 0:\n",
    "            wt = np.append(wt, np.load(l_list[i][e]))\n",
    "        if i == 1:\n",
    "            het = np.append(het, np.load(l_list[i][e]))\n",
    "            \n",
    "        if i == 2:\n",
    "            hom = np.append(hom, np.load(l_list[i][e]))"
   ]
  },
  {
   "cell_type": "code",
   "execution_count": 162,
   "metadata": {},
   "outputs": [
    {
     "data": {
      "text/plain": [
       "17"
      ]
     },
     "execution_count": 162,
     "metadata": {},
     "output_type": "execute_result"
    }
   ],
   "source": [
    "len(wt_list + het_list +hom_list)"
   ]
  },
  {
   "cell_type": "code",
   "execution_count": 166,
   "metadata": {},
   "outputs": [],
   "source": [
    "point = np.zeros((17))\n",
    "\n",
    "p_spike_df = {}\n",
    "count=0\n",
    "choose = 0\n",
    "\n",
    "data = [wt, het, hom]\n",
    "\n",
    "for e in range(len(data)):\n",
    "    for i in range(len(data[e])):\n",
    "        point[count] = data[e][i]\n",
    "        count+=1\n",
    "\n",
    "p_spike_df = pd.DataFrame({\"data\":point , \"Labels\":  np.append(adfn.repeat_list('WT',5),np.append(adfn.repeat_list('HET',7),adfn.repeat_list('HOM',5)))})\n",
    "\n"
   ]
  },
  {
   "cell_type": "code",
   "execution_count": 171,
   "metadata": {},
   "outputs": [
    {
     "name": "stderr",
     "output_type": "stream",
     "text": [
      "/var/folders/7t/rvqbbd0x4mvdgs2rdk37d4yr0000gn/T/ipykernel_67659/1500313308.py:11: FutureWarning: \n",
      "\n",
      "The `ci` parameter is deprecated. Use `errorbar=('ci', 0)` for the same effect.\n",
      "\n",
      "  ax = sns.pointplot(x=\"Labels\", y=\"data\", data = p_spike_df, hue = 'Labels', palette = colors2, join=True, ci=0, scale=1, markers = '_')\n",
      "/var/folders/7t/rvqbbd0x4mvdgs2rdk37d4yr0000gn/T/ipykernel_67659/1500313308.py:11: UserWarning: \n",
      "\n",
      "The `scale` parameter is deprecated and will be removed in v0.15.0. You can now control the size of each plot element using matplotlib `Line2D` parameters (e.g., `linewidth`, `markersize`, etc.).\n",
      "\n",
      "  ax = sns.pointplot(x=\"Labels\", y=\"data\", data = p_spike_df, hue = 'Labels', palette = colors2, join=True, ci=0, scale=1, markers = '_')\n",
      "/var/folders/7t/rvqbbd0x4mvdgs2rdk37d4yr0000gn/T/ipykernel_67659/1500313308.py:11: UserWarning: \n",
      "\n",
      "The `join` parameter is deprecated and will be removed in v0.15.0.\n",
      "\n",
      "  ax = sns.pointplot(x=\"Labels\", y=\"data\", data = p_spike_df, hue = 'Labels', palette = colors2, join=True, ci=0, scale=1, markers = '_')\n"
     ]
    },
    {
     "ename": "AttributeError",
     "evalue": "'NoneType' object has no attribute 'remove'",
     "output_type": "error",
     "traceback": [
      "\u001b[0;31m---------------------------------------------------------------------------\u001b[0m",
      "\u001b[0;31mAttributeError\u001b[0m                            Traceback (most recent call last)",
      "Cell \u001b[0;32mIn[171], line 29\u001b[0m\n\u001b[1;32m     27\u001b[0m ax\u001b[38;5;241m.\u001b[39mget_xaxis()\u001b[38;5;241m.\u001b[39mset_visible(\u001b[38;5;28;01mFalse\u001b[39;00m)\n\u001b[1;32m     28\u001b[0m \u001b[38;5;66;03m#ax.set_xticklabels(['Baseline', 'Focal', 'Generalised'], size = 15)\u001b[39;00m\n\u001b[0;32m---> 29\u001b[0m \u001b[43max\u001b[49m\u001b[38;5;241;43m.\u001b[39;49m\u001b[43mlegend_\u001b[49m\u001b[38;5;241;43m.\u001b[39;49m\u001b[43mremove\u001b[49m()\n\u001b[1;32m     30\u001b[0m \u001b[38;5;66;03m#plt.ylim(top = 2000, bottom = 0)\u001b[39;00m\n\u001b[1;32m     32\u001b[0m plt\u001b[38;5;241m.\u001b[39msavefig(Ffig \u001b[38;5;241m+\u001b[39m \u001b[38;5;124m'\u001b[39m\u001b[38;5;124mfoxg1_dcc_.svg\u001b[39m\u001b[38;5;124m'\u001b[39m, transparent \u001b[38;5;241m=\u001b[39m \u001b[38;5;28;01mTrue\u001b[39;00m)\n",
      "\u001b[0;31mAttributeError\u001b[0m: 'NoneType' object has no attribute 'remove'"
     ]
    },
    {
     "data": {
      "image/png": "[encoded data removed]",
      "text/plain": [
       "<Figure size 300x400 with 1 Axes>"
      ]
     },
     "metadata": {},
     "output_type": "display_data"
    }
   ],
   "source": [
    "\n",
    "import seaborn as sns\n",
    "\n",
    "from matplotlib.collections import PathCollection\n",
    "from matplotlib import cm\n",
    "sns.set(style=\"white\")\n",
    "\n",
    "colors1  = cm.Spectral_r(np.linspace(0,1,11))\n",
    "colors2 = ['grey','mediumturquoise','cornflowerblue']\n",
    "\n",
    "fig, ax = plt.subplots(figsize = (3,4))\n",
    "ax = sns.pointplot(x=\"Labels\", y=\"data\", data = p_spike_df, hue = 'Labels', palette = colors2, join=True, ci=0, scale=1, markers = '_')\n",
    "for artist in ax.lines:\n",
    "    artist.set_zorder(10)\n",
    "for artist in ax.findobj(PathCollection):\n",
    "    artist.set_zorder(11)\n",
    "#ax = sns.pointplot(x=\"Labels\", y=\"Exponent\", data=sizexdf, color = 'grey', linestyles = [\"--\"], ci = 0, scale=0.6)\n",
    "ax = sns.stripplot(x=\"Labels\", y=\"data\", data=p_spike_df, hue = 'Labels', palette = colors2, size = 15, jitter = True ,alpha = 0.7)\n",
    "\n",
    "plt.yticks(size = 20)\n",
    "\n",
    "points = ax.collections\n",
    "ax.spines['top'].set_visible(False)\n",
    "ax.spines['right'].set_visible(False)\n",
    "ax.spines['bottom'].set_visible(False)\n",
    "ax.set_xlabel(' ', size = '13')\n",
    "ax.set_ylabel('DCC', size = '25')\n",
    "ax.get_xaxis().set_visible(False)\n",
    "#ax.set_xticklabels(['Baseline', 'Focal', 'Generalised'], size = 15)\n",
    "ax.legend_.remove()\n",
    "#plt.ylim(top = 2000, bottom = 0)\n",
    "\n",
    "plt.savefig(Ffig + 'foxg1_dcc_.svg', transparent = True)\n",
    "plt.show()"
   ]
  },
  {
   "cell_type": "code",
   "execution_count": 174,
   "metadata": {},
   "outputs": [
    {
     "name": "stdout",
     "output_type": "stream",
     "text": [
      "0.07005415575876417 0.021811282444480152\n"
     ]
    }
   ],
   "source": [
    "from scipy import stats\n",
    "data = wt\n",
    "mean = np.mean(data)\n",
    "sem = stats.sem(data)\n",
    "print(mean, sem)"
   ]
  },
  {
   "cell_type": "code",
   "execution_count": 175,
   "metadata": {},
   "outputs": [
    {
     "name": "stdout",
     "output_type": "stream",
     "text": [
      "0.13350783984207928 0.036393554503101576\n"
     ]
    }
   ],
   "source": [
    "from scipy import stats\n",
    "data = het\n",
    "mean = np.mean(data)\n",
    "sem = stats.sem(data)\n",
    "print(mean, sem)"
   ]
  },
  {
   "cell_type": "code",
   "execution_count": 176,
   "metadata": {},
   "outputs": [
    {
     "name": "stdout",
     "output_type": "stream",
     "text": [
      "0.2458810178250407 0.10321507447992889\n"
     ]
    }
   ],
   "source": [
    "from scipy import stats\n",
    "data = hom\n",
    "mean = np.mean(data)\n",
    "sem = stats.sem(data)\n",
    "print(mean, sem)"
   ]
  },
  {
   "cell_type": "code",
   "execution_count": 180,
   "metadata": {},
   "outputs": [
    {
     "name": "stdout",
     "output_type": "stream",
     "text": [
      "U = 9.0   p = 0.20202020202020204\n",
      "U = 3.0   p = 0.05555555555555555\n"
     ]
    }
   ],
   "source": [
    "#BLN - SZ\n",
    "alpha = 0.05/2\n",
    "\n",
    "U, p = stats.mannwhitneyu(wt, het)\n",
    "print('U = ' + str(U) +  '   p = ' + str(p))\n",
    "\n",
    "    \n",
    "U, p = stats.mannwhitneyu(wt, hom)\n",
    "print('U = ' + str(U) +  '   p = ' + str(p))\n"
   ]
  },
  {
   "cell_type": "markdown",
   "metadata": {},
   "source": [
    "# Branching ratio"
   ]
  },
  {
   "cell_type": "code",
   "execution_count": null,
   "metadata": {},
   "outputs": [],
   "source": [
    "# Visualise \n",
    "#---------------------------------------------------------------------------\n",
    "av_list = sorted(glob.glob('**_av-*.npy*')) \n",
    "pkg_list = sorted(glob.glob('**_pkg-*.npy*')) "
   ]
  },
  {
   "cell_type": "code",
   "execution_count": 31,
   "metadata": {},
   "outputs": [
    {
     "name": "stdout",
     "output_type": "stream",
     "text": [
      "BLNLIGHTPTZ-FOXG1++-01_2photon_sess-01-6dpf_BLNLIGHT_run-01_\n",
      "0of 35\n",
      "BLNLIGHTPTZ-FOXG1++-01_2photon_sess-01-6dpf_PTZ02_run-01_\n",
      "1of 35\n",
      "BLNLIGHTPTZ-FOXG1++-02_2photon_sess-01-6dpf_BLNLIGHT_run-01_\n",
      "2of 35\n",
      "BLNLIGHTPTZ-FOXG1++-02_2photon_sess-01-6dpf_PTZ02_run-01_\n",
      "3of 35\n",
      "BLNLIGHTPTZ-FOXG1++-03_2photon_sess-01-6dpf_BLNLIGHT_run-01_\n",
      "4of 35\n",
      "BLNLIGHTPTZ-FOXG1++-03_2photon_sess-01-6dpf_PTZ02_run-01_\n",
      "5of 35\n",
      "BLNLIGHTPTZ-FOXG1++-04_2photon_sess-01-6dpf_BLNLIGHT_run-01_\n",
      "6of 35\n",
      "BLNLIGHTPTZ-FOXG1++-05_2photon_sess-01-6dpf_BLNLIGHT_run-01_\n",
      "7of 35\n",
      "BLNLIGHTPTZ-FOXG1++-05_2photon_sess-01-6dpf_PTZ02_run-01_\n",
      "8of 35\n",
      "BLNLIGHTPTZ-FOXG1+--02_2photon_sess-01-6dpf_BLNLIGHT_run-01_\n",
      "9of 35\n",
      "BLNLIGHTPTZ-FOXG1+--02_2photon_sess-01-6dpf_PTZ02_run-01_\n",
      "10of 35\n",
      "BLNLIGHTPTZ-FOXG1+--03_2photon_sess-01-6dpf_BLNLIGHT_run-01_\n",
      "11of 35\n",
      "BLNLIGHTPTZ-FOXG1+--03_2photon_sess-01-6dpf_PTZ02_run-01_\n",
      "12of 35\n",
      "BLNLIGHTPTZ-FOXG1+--04_2photon_sess-01-6dpf_BLNLIGHT_run-01_\n",
      "13of 35\n",
      "BLNLIGHTPTZ-FOXG1+--04_2photon_sess-01-6dpf_PTZ02_run-01_\n",
      "14of 35\n",
      "BLNLIGHTPTZ-FOXG1+--05_2photon_sess-01-6dpf_BLNLIGHT_run-01_\n",
      "15of 35\n",
      "BLNLIGHTPTZ-FOXG1+--05_2photon_sess-01-6dpf_PTZ02_run-01_\n",
      "16of 35\n",
      "BLNLIGHTPTZ-FOXG1+--06_2photon_sess-01-6dpf_BLNLIGHT_run-01_\n",
      "17of 35\n",
      "BLNLIGHTPTZ-FOXG1+--06_2photon_sess-01-6dpf_PTZ02_run-01_\n",
      "18of 35\n",
      "BLNLIGHTPTZ-FOXG1+--07_2photon_sess-01-6dpf_BLNLIGHT_run-01_\n",
      "19of 35\n",
      "BLNLIGHTPTZ-FOXG1+--07_2photon_sess-01-6dpf_PTZ02_run-01_\n",
      "20of 35\n",
      "BLNLIGHTPTZ-FOXG1+--08_2photon_sess-01-6dpf_BLNLIGHT_run-01_\n",
      "21of 35\n",
      "BLNLIGHTPTZ-FOXG1+--08_2photon_sess-01-6dpf_PTZ02_run-01_\n",
      "22of 35\n",
      "BLNLIGHTPTZ-FOXG1+--09_2photon_sess-01-6dpf_BLNLIGHT_run-01_\n",
      "23of 35\n",
      "BLNLIGHTPTZ-FOXG1+--09_2photon_sess-01-6dpf_PTZ02_run-01_\n",
      "24of 35\n",
      "BLNLIGHTPTZ-FOXG1---02_2photon_sess-01-6dpf_BLNLIGHT_run-01_\n",
      "25of 35\n",
      "BLNLIGHTPTZ-FOXG1---02_2photon_sess-01-6dpf_PTZ02_run-01_\n",
      "26of 35\n",
      "BLNLIGHTPTZ-FOXG1---03_2photon_sess-01-6dpf_BLNLIGHT_run-01_\n",
      "27of 35\n",
      "BLNLIGHTPTZ-FOXG1---03_2photon_sess-01-6dpf_PTZ02_run-01_\n",
      "28of 35\n",
      "BLNLIGHTPTZ-FOXG1---04_2photon_sess-01-6dpf_BLNLIGHT_run-01_\n",
      "29of 35\n",
      "BLNLIGHTPTZ-FOXG1---04_2photon_sess-01-6dpf_PTZ02_run-01_\n",
      "30of 35\n",
      "BLNLIGHTPTZ-FOXG1---05_2photon_sess-01-6dpf_BLNLIGHT_run-01_\n",
      "31of 35\n",
      "BLNLIGHTPTZ-FOXG1---05_2photon_sess-01-6dpf_PTZ02_run-01_\n",
      "32of 35\n",
      "BLNLIGHTPTZ-FOXG1---06_2photon_sess-01-6dpf_BLNLIGHT_run-01_\n",
      "33of 35\n",
      "BLNLIGHTPTZ-FOXG1---06_2photon_sess-01-6dpf_PTZ02_run-01_\n",
      "34of 35\n"
     ]
    }
   ],
   "source": [
    "# Branching ratio\n",
    "\n",
    "#Calculate BR in empirical data\n",
    "\n",
    "for i in range(len(pkg_list)):\n",
    "    br = crfn.branch(np.load(pkg_list[i]), np.load(av_list[i]))\n",
    "    name = av_list[i][:av_list[i].find('run')+7] \n",
    "    np.save(savepath + name + '-branch-Tel.npy', br)\n",
    "    print(name)\n",
    "    print(str(i) + 'of ' + str(len(av_list)))"
   ]
  },
  {
   "cell_type": "code",
   "execution_count": 225,
   "metadata": {},
   "outputs": [
    {
     "data": {
      "text/plain": [
       "(['BLNLIGHTPTZ-FOXG1++-01_2photon_sess-01-6dpf_BLNLIGHT_run-01_-branch-Tel.npy',\n",
       "  'BLNLIGHTPTZ-FOXG1++-02_2photon_sess-01-6dpf_BLNLIGHT_run-01_-branch-Tel.npy',\n",
       "  'BLNLIGHTPTZ-FOXG1++-03_2photon_sess-01-6dpf_BLNLIGHT_run-01_-branch-Tel.npy',\n",
       "  'BLNLIGHTPTZ-FOXG1++-04_2photon_sess-01-6dpf_BLNLIGHT_run-01_-branch-Tel.npy',\n",
       "  'BLNLIGHTPTZ-FOXG1++-05_2photon_sess-01-6dpf_BLNLIGHT_run-01_-branch-Tel.npy'],\n",
       " ['BLNLIGHTPTZ-FOXG1+--02_2photon_sess-01-6dpf_BLNLIGHT_run-01_-branch-Tel.npy',\n",
       "  'BLNLIGHTPTZ-FOXG1+--03_2photon_sess-01-6dpf_BLNLIGHT_run-01_-branch-Tel.npy',\n",
       "  'BLNLIGHTPTZ-FOXG1+--04_2photon_sess-01-6dpf_BLNLIGHT_run-01_-branch-Tel.npy',\n",
       "  'BLNLIGHTPTZ-FOXG1+--05_2photon_sess-01-6dpf_BLNLIGHT_run-01_-branch-Tel.npy',\n",
       "  'BLNLIGHTPTZ-FOXG1+--06_2photon_sess-01-6dpf_BLNLIGHT_run-01_-branch-Tel.npy',\n",
       "  'BLNLIGHTPTZ-FOXG1+--07_2photon_sess-01-6dpf_BLNLIGHT_run-01_-branch-Tel.npy',\n",
       "  'BLNLIGHTPTZ-FOXG1+--08_2photon_sess-01-6dpf_BLNLIGHT_run-01_-branch-Tel.npy',\n",
       "  'BLNLIGHTPTZ-FOXG1+--09_2photon_sess-01-6dpf_BLNLIGHT_run-01_-branch-Teltemp.npy'],\n",
       " ['BLNLIGHTPTZ-FOXG1---02_2photon_sess-01-6dpf_BLNLIGHT_run-01_-branch-Tel.npy',\n",
       "  'BLNLIGHTPTZ-FOXG1---03_2photon_sess-01-6dpf_BLNLIGHT_run-01_-branch-Tel.npy',\n",
       "  'BLNLIGHTPTZ-FOXG1---04_2photon_sess-01-6dpf_BLNLIGHT_run-01_-branch-Tel.npy',\n",
       "  'BLNLIGHTPTZ-FOXG1---05_2photon_sess-01-6dpf_BLNLIGHT_run-01_-branch-Tel.npy',\n",
       "  'BLNLIGHTPTZ-FOXG1---06_2photon_sess-01-6dpf_BLNLIGHT_run-01_-branch-Tel.npy'])"
      ]
     },
     "execution_count": 225,
     "metadata": {},
     "output_type": "execute_result"
    }
   ],
   "source": [
    "\n",
    "# Visualise \n",
    "#---------------------------------------------------------------------------\n",
    "wt_list = sorted(glob.glob('*++*BLNLIGHT_*branch-*.npy*')) \n",
    "het_list = sorted(glob.glob('*+--*BLNLIGHT_*branch-*.npy*')) \n",
    "hom_list = sorted(glob.glob('*---*BLNLIGHT_*branch-*.npy*')) \n",
    "\n",
    "wt_list, het_list, hom_list"
   ]
  },
  {
   "cell_type": "code",
   "execution_count": 226,
   "metadata": {},
   "outputs": [
    {
     "name": "stdout",
     "output_type": "stream",
     "text": [
      "0\n",
      "1\n",
      "2\n"
     ]
    }
   ],
   "source": [
    "l_list = wt_list, het_list, hom_list\n",
    "wt, het, hom = [],[],[]\n",
    "for i in range(len(l_list)):\n",
    "    print(i)\n",
    "    for e in range(len(l_list[i])):\n",
    "        if i == 0:\n",
    "            wt = np.append(wt, np.load(l_list[i][e]))\n",
    "        if i == 1:\n",
    "            het = np.append(het, np.load(l_list[i][e]))\n",
    "            \n",
    "        if i == 2:\n",
    "            hom = np.append(hom, np.load(l_list[i][e]))"
   ]
  },
  {
   "cell_type": "code",
   "execution_count": 223,
   "metadata": {},
   "outputs": [
    {
     "data": {
      "image/png": "[encoded data removed]",
      "text/plain": [
       "<Figure size 216x288 with 1 Axes>"
      ]
     },
     "metadata": {},
     "output_type": "display_data"
    }
   ],
   "source": [
    "\n",
    "\n",
    "import seaborn as sns\n",
    "\n",
    "from matplotlib.collections import PathCollection\n",
    "from matplotlib import cm\n",
    "sns.set(style=\"white\")\n",
    "\n",
    "colors1  = cm.Spectral_r(np.linspace(0,1,11))\n",
    "colors2 = ['grey','mediumturquoise','cornflowerblue']\n",
    "\n",
    "fig, ax = plt.subplots(figsize = (3,4))\n",
    "ax = sns.pointplot(x=\"Labels\", y=\"data\", data = p_spike_df, hue = 'Labels', palette = colors2, join=True, ci=0, scale=1, markers = '_')\n",
    "for artist in ax.lines:\n",
    "    artist.set_zorder(10)\n",
    "for artist in ax.findobj(PathCollection):\n",
    "    artist.set_zorder(11)\n",
    "#ax = sns.pointplot(x=\"Labels\", y=\"Exponent\", data=sizexdf, color = 'grey', linestyles = [\"--\"], ci = 0, scale=0.6)\n",
    "ax = sns.stripplot(x=\"Labels\", y=\"data\", data=p_spike_df, hue = 'Labels', palette = colors2, size = 15, jitter = True ,alpha = 0.7)\n",
    "\n",
    "plt.yticks(size = 20)\n",
    "\n",
    "points = ax.collections\n",
    "ax.spines['top'].set_visible(False)\n",
    "ax.spines['right'].set_visible(False)\n",
    "ax.spines['bottom'].set_visible(False)\n",
    "ax.set_xlabel(' ', size = '13')\n",
    "ax.set_ylabel('', size = '25')\n",
    "ax.get_xaxis().set_visible(False)\n",
    "#ax.set_xticklabels(['Baseline', 'Focal', 'Generalised'], size = 15)\n",
    "ax.legend_.remove()\n",
    "#plt.ylim(top = 2000, bottom = 0)\n",
    "\n",
    "plt.savefig(Ffig + 'foxg1_BR_ptz.svg', transparent = True)\n",
    "plt.show()"
   ]
  },
  {
   "cell_type": "code",
   "execution_count": 211,
   "metadata": {},
   "outputs": [
    {
     "name": "stdout",
     "output_type": "stream",
     "text": [
      "1.092820115425635 0.009730843508248502\n"
     ]
    }
   ],
   "source": [
    "from scipy import stats\n",
    "data = wt\n",
    "mean = np.mean(data)\n",
    "sem = stats.sem(data)\n",
    "print(mean, sem)"
   ]
  },
  {
   "cell_type": "code",
   "execution_count": 212,
   "metadata": {},
   "outputs": [
    {
     "name": "stdout",
     "output_type": "stream",
     "text": [
      "1.0841517922215487 0.013980361150380847\n"
     ]
    }
   ],
   "source": [
    "from scipy import stats\n",
    "data = het\n",
    "mean = np.mean(data)\n",
    "sem = stats.sem(data)\n",
    "print(mean, sem)"
   ]
  },
  {
   "cell_type": "code",
   "execution_count": 213,
   "metadata": {},
   "outputs": [
    {
     "name": "stdout",
     "output_type": "stream",
     "text": [
      "1.0596129300089507 0.03096673387055725\n"
     ]
    }
   ],
   "source": [
    "from scipy import stats\n",
    "data = hom\n",
    "mean = np.mean(data)\n",
    "sem = stats.sem(data)\n",
    "print(mean, sem)"
   ]
  },
  {
   "cell_type": "code",
   "execution_count": 214,
   "metadata": {},
   "outputs": [
    {
     "name": "stdout",
     "output_type": "stream",
     "text": [
      "U = 14.0   p = 0.3994533348216349\n",
      "U = 8.0   p = 0.3566515869392288\n"
     ]
    }
   ],
   "source": [
    "#BLN - SZ\n",
    "alpha = 0.05/2\n",
    "\n",
    "U, p = stats.mannwhitneyu(wt, het)\n",
    "print('U = ' + str(U) +  '   p = ' + str(p))\n",
    "\n",
    "    \n",
    "U, p = stats.mannwhitneyu(wt, hom)\n",
    "print('U = ' + str(U) +  '   p = ' + str(p))\n"
   ]
  },
  {
   "cell_type": "markdown",
   "metadata": {},
   "source": [
    "# Correlation function"
   ]
  },
  {
   "cell_type": "code",
   "execution_count": 101,
   "metadata": {},
   "outputs": [
    {
     "data": {
      "text/plain": [
       "['BLNLIGHTPTZ-FOXG1++-01_2photon_sess-01-6dpf_BLNLIGHT_run-01_regcoord.npy',\n",
       " 'BLNLIGHTPTZ-FOXG1++-01_2photon_sess-01-6dpf_PTZ02_run-01_regcoord.npy',\n",
       " 'BLNLIGHTPTZ-FOXG1++-02_2photon_sess-01-6dpf_BLNLIGHT_run-01_regcoord.npy',\n",
       " 'BLNLIGHTPTZ-FOXG1++-02_2photon_sess-01-6dpf_PTZ02_run-01_regcoord.npy',\n",
       " 'BLNLIGHTPTZ-FOXG1++-03_2photon_sess-01-6dpf_BLNLIGHT_run-01_regcoord.npy',\n",
       " 'BLNLIGHTPTZ-FOXG1++-03_2photon_sess-01-6dpf_PTZ02_run-01_regcoord.npy',\n",
       " 'BLNLIGHTPTZ-FOXG1++-04_2photon_sess-01-6dpf_BLNLIGHT_run-01_regcoord.npy',\n",
       " 'BLNLIGHTPTZ-FOXG1++-05_2photon_sess-01-6dpf_BLNLIGHT_run-01_regcoord.npy',\n",
       " 'BLNLIGHTPTZ-FOXG1++-05_2photon_sess-01-6dpf_PTZ02_run-01_regcoord.npy',\n",
       " 'BLNLIGHTPTZ-FOXG1+--02_2photon_sess-01-6dpf_BLNLIGHT_run-01_regcoord.npy',\n",
       " 'BLNLIGHTPTZ-FOXG1+--02_2photon_sess-01-6dpf_PTZ02_run-01_regcoord.npy',\n",
       " 'BLNLIGHTPTZ-FOXG1+--03_2photon_sess-01-6dpf_BLNLIGHT_run-01_regcoord.npy',\n",
       " 'BLNLIGHTPTZ-FOXG1+--03_2photon_sess-01-6dpf_PTZ02_run-01_regcoord.npy',\n",
       " 'BLNLIGHTPTZ-FOXG1+--04_2photon_sess-01-6dpf_BLNLIGHT_run-01_regcoord.npy',\n",
       " 'BLNLIGHTPTZ-FOXG1+--04_2photon_sess-01-6dpf_PTZ02_run-01_regcoord.npy',\n",
       " 'BLNLIGHTPTZ-FOXG1+--05_2photon_sess-01-6dpf_BLNLIGHT_run-01_regcoord.npy',\n",
       " 'BLNLIGHTPTZ-FOXG1+--05_2photon_sess-01-6dpf_PTZ02_run-01_regcoord.npy',\n",
       " 'BLNLIGHTPTZ-FOXG1+--06_2photon_sess-01-6dpf_BLNLIGHT_run-01_regcoord.npy',\n",
       " 'BLNLIGHTPTZ-FOXG1+--06_2photon_sess-01-6dpf_PTZ02_run-01_regcoord.npy',\n",
       " 'BLNLIGHTPTZ-FOXG1+--07_2photon_sess-01-6dpf_BLNLIGHT_run-01_regcoord.npy',\n",
       " 'BLNLIGHTPTZ-FOXG1+--07_2photon_sess-01-6dpf_PTZ02_run-01_regcoord.npy',\n",
       " 'BLNLIGHTPTZ-FOXG1+--08_2photon_sess-01-6dpf_BLNLIGHT_run-01_regcoord.npy',\n",
       " 'BLNLIGHTPTZ-FOXG1+--08_2photon_sess-01-6dpf_PTZ02_run-01_regcoord.npy',\n",
       " 'BLNLIGHTPTZ-FOXG1+--09_2photon_sess-01-6dpf_BLNLIGHT_run-01_regcoordtemp.npy',\n",
       " 'BLNLIGHTPTZ-FOXG1+--09_2photon_sess-01-6dpf_PTZ02_run-01_regcoordtemp.npy',\n",
       " 'BLNLIGHTPTZ-FOXG1---02_2photon_sess-01-6dpf_BLNLIGHT_run-01_regcoord.npy',\n",
       " 'BLNLIGHTPTZ-FOXG1---02_2photon_sess-01-6dpf_PTZ02_run-01_regcoord.npy',\n",
       " 'BLNLIGHTPTZ-FOXG1---03_2photon_sess-01-6dpf_BLNLIGHT_run-01_regcoord.npy',\n",
       " 'BLNLIGHTPTZ-FOXG1---03_2photon_sess-01-6dpf_PTZ02_run-01_regcoord.npy',\n",
       " 'BLNLIGHTPTZ-FOXG1---04_2photon_sess-01-6dpf_BLNLIGHT_run-01_regcoord.npy',\n",
       " 'BLNLIGHTPTZ-FOXG1---04_2photon_sess-01-6dpf_PTZ02_run-01_regcoord.npy',\n",
       " 'BLNLIGHTPTZ-FOXG1---05_2photon_sess-01-6dpf_BLNLIGHT_run-01_regcoord.npy',\n",
       " 'BLNLIGHTPTZ-FOXG1---05_2photon_sess-01-6dpf_PTZ02_run-01_regcoord.npy',\n",
       " 'BLNLIGHTPTZ-FOXG1---06_2photon_sess-01-6dpf_BLNLIGHT_run-01_regcoord.npy',\n",
       " 'BLNLIGHTPTZ-FOXG1---06_2photon_sess-01-6dpf_PTZ02_run-01_regcoord.npy']"
      ]
     },
     "execution_count": 101,
     "metadata": {},
     "output_type": "execute_result"
    }
   ],
   "source": [
    "#Find range to make bin over for correlation function\n",
    "coord_l = adfn.return_files(Fdata, 'BLNLIGHTPTZ-FOXG1', '*regcoord*')\n",
    "coord_l"
   ]
  },
  {
   "cell_type": "code",
   "execution_count": 102,
   "metadata": {},
   "outputs": [
    {
     "name": "stdout",
     "output_type": "stream",
     "text": [
      "671.6972893078173\n"
     ]
    }
   ],
   "source": [
    "from sklearn.metrics.pairwise import euclidean_distances\n",
    "\n",
    "#Find range to make bin over for correlation function\n",
    "mini = 0\n",
    "maxi = 0\n",
    "dim = [.8, .8, 15]\n",
    "\n",
    "for c in coord_l:\n",
    "    coord = np.load(c)\n",
    "    dist = euclidean_distances(coord)\n",
    "    curr_max = np.max(dist)\n",
    "    if maxi < curr_max:\n",
    "        maxi = curr_max\n",
    "print(maxi)"
   ]
  },
  {
   "cell_type": "code",
   "execution_count": 104,
   "metadata": {},
   "outputs": [
    {
     "data": {
      "text/plain": [
       "(35, 35)"
      ]
     },
     "execution_count": 104,
     "metadata": {},
     "output_type": "execute_result"
    }
   ],
   "source": [
    "#Calculate criticality statistics\n",
    "trace_l = adfn.return_files(Fdata, 'BLNLIGHTPTZ-FOXG1', '*regtrace*')\n",
    "coord_l = adfn.return_files(Fdata, 'BLNLIGHTPTZ-FOXG1', '*labcoor*')\n",
    "len(trace_l), len(coord_l)"
   ]
  },
  {
   "cell_type": "code",
   "execution_count": 107,
   "metadata": {},
   "outputs": [
    {
     "name": "stdout",
     "output_type": "stream",
     "text": [
      "BLNLIGHTPTZ-FOXG1++-01_2photon_sess-01-6dpf_BLNLIGHT_run-01_\n",
      "0of 35\n",
      "BLNLIGHTPTZ-FOXG1++-01_2photon_sess-01-6dpf_PTZ02_run-01_\n",
      "1of 35\n",
      "BLNLIGHTPTZ-FOXG1++-02_2photon_sess-01-6dpf_BLNLIGHT_run-01_\n",
      "2of 35\n",
      "BLNLIGHTPTZ-FOXG1++-02_2photon_sess-01-6dpf_PTZ02_run-01_\n",
      "3of 35\n",
      "BLNLIGHTPTZ-FOXG1++-03_2photon_sess-01-6dpf_BLNLIGHT_run-01_\n",
      "4of 35\n",
      "BLNLIGHTPTZ-FOXG1++-03_2photon_sess-01-6dpf_PTZ02_run-01_\n",
      "5of 35\n",
      "BLNLIGHTPTZ-FOXG1++-04_2photon_sess-01-6dpf_BLNLIGHT_run-01_\n",
      "6of 35\n",
      "BLNLIGHTPTZ-FOXG1++-05_2photon_sess-01-6dpf_BLNLIGHT_run-01_\n",
      "7of 35\n",
      "BLNLIGHTPTZ-FOXG1++-05_2photon_sess-01-6dpf_PTZ02_run-01_\n",
      "8of 35\n",
      "BLNLIGHTPTZ-FOXG1+--02_2photon_sess-01-6dpf_BLNLIGHT_run-01_\n",
      "9of 35\n",
      "BLNLIGHTPTZ-FOXG1+--02_2photon_sess-01-6dpf_PTZ02_run-01_\n",
      "10of 35\n",
      "BLNLIGHTPTZ-FOXG1+--03_2photon_sess-01-6dpf_BLNLIGHT_run-01_\n",
      "11of 35\n",
      "BLNLIGHTPTZ-FOXG1+--03_2photon_sess-01-6dpf_PTZ02_run-01_\n",
      "12of 35\n",
      "BLNLIGHTPTZ-FOXG1+--04_2photon_sess-01-6dpf_BLNLIGHT_run-01_\n",
      "13of 35\n",
      "BLNLIGHTPTZ-FOXG1+--04_2photon_sess-01-6dpf_PTZ02_run-01_\n",
      "14of 35\n",
      "BLNLIGHTPTZ-FOXG1+--05_2photon_sess-01-6dpf_BLNLIGHT_run-01_\n",
      "15of 35\n",
      "BLNLIGHTPTZ-FOXG1+--05_2photon_sess-01-6dpf_PTZ02_run-01_\n",
      "16of 35\n",
      "BLNLIGHTPTZ-FOXG1+--06_2photon_sess-01-6dpf_BLNLIGHT_run-01_\n",
      "17of 35\n",
      "BLNLIGHTPTZ-FOXG1+--06_2photon_sess-01-6dpf_PTZ02_run-01_\n",
      "18of 35\n",
      "BLNLIGHTPTZ-FOXG1+--07_2photon_sess-01-6dpf_BLNLIGHT_run-01_\n",
      "19of 35\n",
      "BLNLIGHTPTZ-FOXG1+--07_2photon_sess-01-6dpf_PTZ02_run-01_\n",
      "20of 35\n",
      "BLNLIGHTPTZ-FOXG1+--08_2photon_sess-01-6dpf_BLNLIGHT_run-01_\n",
      "21of 35\n",
      "BLNLIGHTPTZ-FOXG1+--08_2photon_sess-01-6dpf_PTZ02_run-01_\n",
      "22of 35\n",
      "BLNLIGHTPTZ-FOXG1+--09_2photon_sess-01-6dpf_BLNLIGHT_run-01_\n",
      "23of 35\n",
      "BLNLIGHTPTZ-FOXG1+--09_2photon_sess-01-6dpf_PTZ02_run-01_\n",
      "24of 35\n",
      "BLNLIGHTPTZ-FOXG1---02_2photon_sess-01-6dpf_BLNLIGHT_run-01_\n",
      "25of 35\n",
      "BLNLIGHTPTZ-FOXG1---02_2photon_sess-01-6dpf_PTZ02_run-01_\n",
      "26of 35\n",
      "BLNLIGHTPTZ-FOXG1---03_2photon_sess-01-6dpf_BLNLIGHT_run-01_\n",
      "27of 35\n",
      "BLNLIGHTPTZ-FOXG1---03_2photon_sess-01-6dpf_PTZ02_run-01_\n",
      "28of 35\n",
      "BLNLIGHTPTZ-FOXG1---04_2photon_sess-01-6dpf_BLNLIGHT_run-01_\n",
      "29of 35\n",
      "BLNLIGHTPTZ-FOXG1---04_2photon_sess-01-6dpf_PTZ02_run-01_\n",
      "30of 35\n",
      "BLNLIGHTPTZ-FOXG1---05_2photon_sess-01-6dpf_BLNLIGHT_run-01_\n",
      "31of 35\n",
      "BLNLIGHTPTZ-FOXG1---05_2photon_sess-01-6dpf_PTZ02_run-01_\n",
      "32of 35\n",
      "BLNLIGHTPTZ-FOXG1---06_2photon_sess-01-6dpf_BLNLIGHT_run-01_\n",
      "33of 35\n",
      "BLNLIGHTPTZ-FOXG1---06_2photon_sess-01-6dpf_PTZ02_run-01_\n",
      "34of 35\n"
     ]
    }
   ],
   "source": [
    "for i in range(len(coord_l)):\n",
    "    sub_trace, sub_dff, sub_bind, sub_coord = tfn.select_region(np.load(trace_l[i]), np.load(trace_l[i]), np.load(trace_l[i]), np.load(coord_l[i]), 'Telencephalon')\n",
    "    dist = euclidean_distances(sub_coord) \n",
    "    corr = np.corrcoef(sub_trace) #Calculate correlation matrix\n",
    "    corrdis = crfn.corrdist(corr, dist, 200, mini, maxi)\n",
    "    \n",
    "    name = coord_l[i][:coord_l[i].find('run')+7] \n",
    "    np.save(savepath + name + '-corrdist-Tel.npy', corrdis)\n",
    "    print(name)\n",
    "    print(str(i) + 'of ' + str(len(coord_l)))"
   ]
  },
  {
   "cell_type": "code",
   "execution_count": 246,
   "metadata": {},
   "outputs": [
    {
     "data": {
      "text/plain": [
       "(['BLNLIGHTPTZ-FOXG1++-01_2photon_sess-01-6dpf_PTZ02_run-01_-corrdist-Tel.npy',\n",
       "  'BLNLIGHTPTZ-FOXG1++-02_2photon_sess-01-6dpf_PTZ02_run-01_-corrdist-Tel.npy',\n",
       "  'BLNLIGHTPTZ-FOXG1++-03_2photon_sess-01-6dpf_PTZ02_run-01_-corrdist-Tel.npy',\n",
       "  'BLNLIGHTPTZ-FOXG1++-05_2photon_sess-01-6dpf_PTZ02_run-01_-corrdist-Tel.npy'],\n",
       " ['BLNLIGHTPTZ-FOXG1+--02_2photon_sess-01-6dpf_PTZ02_run-01_-corrdist-Tel.npy',\n",
       "  'BLNLIGHTPTZ-FOXG1+--03_2photon_sess-01-6dpf_PTZ02_run-01_-corrdist-Tel.npy',\n",
       "  'BLNLIGHTPTZ-FOXG1+--04_2photon_sess-01-6dpf_PTZ02_run-01_-corrdist-Tel.npy',\n",
       "  'BLNLIGHTPTZ-FOXG1+--05_2photon_sess-01-6dpf_PTZ02_run-01_-corrdist-Tel.npy',\n",
       "  'BLNLIGHTPTZ-FOXG1+--06_2photon_sess-01-6dpf_PTZ02_run-01_-corrdist-Tel.npy',\n",
       "  'BLNLIGHTPTZ-FOXG1+--07_2photon_sess-01-6dpf_PTZ02_run-01_-corrdist-Tel.npy',\n",
       "  'BLNLIGHTPTZ-FOXG1+--08_2photon_sess-01-6dpf_PTZ02_run-01_-corrdist-Tel.npy',\n",
       "  'BLNLIGHTPTZ-FOXG1+--09_2photon_sess-01-6dpf_PTZ02_run-01_-corrdist-Tel.npy'],\n",
       " ['BLNLIGHTPTZ-FOXG1---02_2photon_sess-01-6dpf_PTZ02_run-01_-corrdist-Tel.npy',\n",
       "  'BLNLIGHTPTZ-FOXG1---03_2photon_sess-01-6dpf_PTZ02_run-01_-corrdist-Tel.npy',\n",
       "  'BLNLIGHTPTZ-FOXG1---04_2photon_sess-01-6dpf_PTZ02_run-01_-corrdist-Tel.npy',\n",
       "  'BLNLIGHTPTZ-FOXG1---05_2photon_sess-01-6dpf_PTZ02_run-01_-corrdist-Tel.npy',\n",
       "  'BLNLIGHTPTZ-FOXG1---06_2photon_sess-01-6dpf_PTZ02_run-01_-corrdist-Tel.npy'])"
      ]
     },
     "execution_count": 246,
     "metadata": {},
     "output_type": "execute_result"
    }
   ],
   "source": [
    "# Create lists of trace data\n",
    "#---------------------------------------------------------------------------\n",
    "import glob\n",
    "\n",
    "blnlist = sorted(glob.glob('*++*PTZ02_*corrdist-*'))\n",
    "p5list = sorted(glob.glob('*+--*PTZ02_*corrdist-*'))\n",
    "p20list = sorted(glob.glob('*---*PTZ02_*corrdist-*'))\n",
    "\n",
    "blnlist, p5list, p20list"
   ]
  },
  {
   "cell_type": "code",
   "execution_count": null,
   "metadata": {},
   "outputs": [],
   "source": [
    "fig, axarr = plt.subplots(figsize = (7,5))\n",
    "import matplotlib\n",
    "from matplotlib import cm\n",
    "\n",
    "labels = ['10$^1$','10$^1$','10$^0$','10$^1$','10$^2$', '10$^3$','10$^4$','10$^5$']\n",
    "\n",
    "for i in range(len(blnlist)):    \n",
    "    yaxis, xaxis = prac(blnlist[i])\n",
    "    axarr.scatter(xaxis, yaxis, linewidth = 2, alpha = 0.6, c = 'grey')\n",
    "    axarr.set_xscale('log')\n",
    "    axarr.set_yscale('log')\n",
    "\n",
    "\n",
    "for i in range(len(blnlist)):    \n",
    "    yaxis, xaxis = prac(p5list[i])\n",
    "    axarr.scatter(xaxis, yaxis, linewidth = 2, alpha = 0.3, c = 'mediumturquoise')\n",
    "    yaxis, xaxis = prac(p20list[i])\n",
    "    axarr.scatter(xaxis, yaxis, linewidth = 2, alpha = 0.3, c = 'cornflowerblue')\n",
    "\n",
    "    axarr.set_xscale('log')\n",
    "    axarr.set_yscale('log')\n",
    "    \n",
    "\n",
    "    \n",
    "    \n",
    "axarr.get_xaxis().set_major_formatter(matplotlib.ticker.ScalarFormatter())\n",
    "axarr.set_xlabel('Avalanche duration (s)', size = '17')\n",
    "axarr.set_ylabel('<S>', size = '17')\n",
    "axarr.spines['top'].set_visible(False)\n",
    "axarr.spines['right'].set_visible(False)\n",
    "\n",
    "axarr.set_xticklabels(labels, size = 15)\n",
    "axarr.set_yticklabels(labels, size = 15)\n",
    "#plt.xlim(right = 800) \n",
    "#plt.ylim(top = 300000)  \n",
    "\n",
    "\n",
    "plt.savefig(Ffig + 'av_sizexdur_foxg1_PTZ.svg', transparent = True)\n",
    "plt.show()"
   ]
  },
  {
   "cell_type": "code",
   "execution_count": 247,
   "metadata": {},
   "outputs": [
    {
     "data": {
      "image/png": "[encoded data removed]",
      "text/plain": [
       "<Figure size 648x360 with 1 Axes>"
      ]
     },
     "metadata": {},
     "output_type": "display_data"
    }
   ],
   "source": [
    "from scipy import stats\n",
    "\n",
    "labels = ['10$^1$','10$^1$','10$^0$','10$^1$','10$^2$', '10$^3$','10$^4$','10$^5$']\n",
    "\n",
    "bln_distlist = [np.load(blnlist[i])[0] [:189]  for i in range(len(blnlist))]\n",
    "p5_distlist = [np.load(p5list[i])[0][:189] for i in range(len(p5list))]\n",
    "p20_distlist = [np.load(p20list[i])[0][:189] for i in range(len(p20list))]\n",
    "\n",
    "bln_corrlist = [np.load(blnlist[i])[1][:189] for i in range(len(blnlist))]\n",
    "p5_corrlist = [np.load(p5list[i])[1][:189] for i in range(len(p5list))]\n",
    "p20_corrlist = [np.load(p20list[i])[1][:189] for i in range(len(p20list))]\n",
    "\n",
    "mean_dist = np.mean(np.vstack((p20_distlist,np.vstack((np.vstack(p5_distlist), np.vstack(bln_distlist))))), axis= 0)\n",
    "\n",
    "listlist = bln_corrlist, p5_corrlist, p20_corrlist\n",
    "colors = ['grey', 'mediumturquoise','cornflowerblue']\n",
    "facecolors = ['k', 'green','royalblue']\n",
    "\n",
    "lines = ['-', '-', '-']\n",
    "widths = [2, 2, 2]\n",
    "fig, axarr = plt.subplots(figsize = (9,5))\n",
    "\n",
    "for i in range(3):\n",
    "    sem = stats.sem(listlist[i])\n",
    "    xaxis = mean_dist*0.8\n",
    "    yaxis = np.mean(listlist[i], axis=0)\n",
    "    minus = yaxis-(sem)\n",
    "    plus = yaxis+(sem)\n",
    "\n",
    "    axarr.fill_between(xaxis[1:len(xaxis)-1], minus[1:len(xaxis)-1], plus[1:len(xaxis)-1],facecolor=facecolors[i],alpha=0.3)\n",
    "    axarr.plot(xaxis[1:len(xaxis)-1], yaxis[1:len(xaxis)-1], '-', linewidth = widths[i], markersize = 1, alpha = 1, color = colors[i], linestyle = lines[i])\n",
    "\n",
    "    \n",
    "axarr.set_xscale('log')\n",
    "axarr.set_yscale('log')\n",
    "axarr.set_xlabel('Distance d (μm)', size = '17')\n",
    "axarr.set_ylabel('Correlation r ', size = '17')\n",
    "axarr.set_xticklabels(labels, size = 15)\n",
    "axarr.set_yticklabels(labels, size = 15)\n",
    "\n",
    "axarr.spines['top'].set_visible(False)\n",
    "axarr.spines['right'].set_visible(False)\n",
    "plt.savefig(Ffig + 'foxg1_corrdis_ptz_mean.svg', transparent = True)\n",
    "plt.show()"
   ]
  },
  {
   "cell_type": "code",
   "execution_count": 331,
   "metadata": {},
   "outputs": [],
   "source": [
    "# Create lists of trace data\n",
    "#---------------------------------------------------------------------------\n",
    "import glob\n",
    "\n",
    "blnlist = sorted(glob.glob('*++*BLNLIGHT_*corrdist-*'))\n",
    "p5list = sorted(glob.glob('*+--*BLNLIGHT_*corrdist-*'))\n",
    "p20list = sorted(glob.glob('*---*BLNLIGHT_*corrdist-*'))\n",
    "\n",
    "blnlist, p5list, p20list\n",
    "\n",
    "blnslope, p5slope, p20slope = list(range(len(blnlist))), list(range(len(p5list))), list(range(len(p20list)))\n",
    "blncorr, precorr, p20corr = list(range(len(blnlist))), list(range(len(p5list))), list(range(len(p20list)))"
   ]
  },
  {
   "cell_type": "code",
   "execution_count": 335,
   "metadata": {},
   "outputs": [],
   "source": [
    "point = np.zeros((18))\n",
    "\n",
    "p_spike_df = {}\n",
    "count=0\n",
    "choose = 0\n",
    "\n",
    "data = [blncorr, p5corr, p20corr]\n",
    "\n",
    "for e in range(len(data)):\n",
    "    for i in range(len(data[e])):\n",
    "        point[count] = data[e][i]\n",
    "        count+=1\n",
    "\n",
    "p_spike_df = pd.DataFrame({\"data\":point , \"Labels\":  np.append(adfn.repeat_list('WT',5),np.append(adfn.repeat_list('HET',8),adfn.repeat_list('HOM',5)))})\n"
   ]
  },
  {
   "cell_type": "code",
   "execution_count": 336,
   "metadata": {},
   "outputs": [
    {
     "data": {
      "image/png": "[encoded data removed]",
      "text/plain": [
       "<Figure size 216x288 with 1 Axes>"
      ]
     },
     "metadata": {},
     "output_type": "display_data"
    }
   ],
   "source": [
    "\n",
    "\n",
    "import seaborn as sns\n",
    "\n",
    "from matplotlib.collections import PathCollection\n",
    "from matplotlib import cm\n",
    "sns.set(style=\"white\")\n",
    "\n",
    "colors1  = cm.Spectral_r(np.linspace(0,1,11))\n",
    "colors2 = ['grey','mediumturquoise','cornflowerblue']\n",
    "\n",
    "fig, ax = plt.subplots(figsize = (3,4))\n",
    "ax = sns.pointplot(x=\"Labels\", y=\"data\", data = p_spike_df, hue = 'Labels', palette = colors2, join=True, ci=0, scale=1, markers = '_')\n",
    "for artist in ax.lines:\n",
    "    artist.set_zorder(10)\n",
    "for artist in ax.findobj(PathCollection):\n",
    "    artist.set_zorder(11)\n",
    "#ax = sns.pointplot(x=\"Labels\", y=\"Exponent\", data=sizexdf, color = 'grey', linestyles = [\"--\"], ci = 0, scale=0.6)\n",
    "ax = sns.stripplot(x=\"Labels\", y=\"data\", data=p_spike_df, hue = 'Labels', palette = colors2, size = 15, jitter = True ,alpha = 0.7)\n",
    "\n",
    "plt.yticks(size = 20)\n",
    "\n",
    "points = ax.collections\n",
    "ax.spines['top'].set_visible(False)\n",
    "ax.spines['right'].set_visible(False)\n",
    "ax.spines['bottom'].set_visible(False)\n",
    "ax.set_xlabel(' ', size = '13')\n",
    "ax.set_ylabel('Euclidean distance', size = '25')\n",
    "ax.get_xaxis().set_visible(False)\n",
    "#ax.set_xticklabels(['Baseline', 'Focal', 'Generalised'], size = 15)\n",
    "ax.legend_.remove()\n",
    "#plt.ylim(top = 2000, bottom = 0)\n",
    "\n",
    "plt.savefig(Ffig + 'foxg1_corrdist_spont.svg', transparent = True)\n",
    "plt.show()"
   ]
  },
  {
   "cell_type": "code",
   "execution_count": 314,
   "metadata": {},
   "outputs": [],
   "source": [
    "\n",
    "blnslope, p5slope, p20slope = list(range(len(blnlist))), list(range(len(p5list))), list(range(len(p20list)))\n",
    "blncorr, precorr, p20corr = list(range(len(blnlist))), list(range(len(p5list))), list(range(len(p20list)))"
   ]
  },
  {
   "cell_type": "code",
   "execution_count": 334,
   "metadata": {},
   "outputs": [
    {
     "data": {
      "image/png": "[encoded data removed]",
      "text/plain": [
       "<Figure size 504x360 with 1 Axes>"
      ]
     },
     "metadata": {
      "needs_background": "light"
     },
     "output_type": "display_data"
    },
    {
     "data": {
      "image/png": "[encoded data removed]",
      "text/plain": [
       "<Figure size 504x360 with 1 Axes>"
      ]
     },
     "metadata": {
      "needs_background": "light"
     },
     "output_type": "display_data"
    },
    {
     "data": {
      "image/png": "[encoded data removed]",
      "text/plain": [
       "<Figure size 504x360 with 1 Axes>"
      ]
     },
     "metadata": {
      "needs_background": "light"
     },
     "output_type": "display_data"
    },
    {
     "data": {
      "image/png": "[encoded data removed]",
      "text/plain": [
       "<Figure size 504x360 with 1 Axes>"
      ]
     },
     "metadata": {
      "needs_background": "light"
     },
     "output_type": "display_data"
    },
    {
     "data": {
      "image/png": "[encoded data removed]",
      "text/plain": [
       "<Figure size 504x360 with 1 Axes>"
      ]
     },
     "metadata": {
      "needs_background": "light"
     },
     "output_type": "display_data"
    }
   ],
   "source": [
    "import seaborn as sns\n",
    "\n",
    "import matplotlib\n",
    "import powerlaw\n",
    "sns.reset_orig()\n",
    "num1 = adfn.name_zero('front',2,12,1)\n",
    "\n",
    "colors = ['black', 'darkorange','firebrick']\n",
    "lines = ['-', '--', '--']\n",
    "widths = [4, 6, 6]\n",
    "\n",
    "\n",
    "\n",
    "count=0\n",
    "\n",
    "llist = blnlist\n",
    "for i in range(len(blnlist)):\n",
    "\n",
    "        fig, axarr = plt.subplots(figsize = (7,5))\n",
    "        data = np.load(llist[i])\n",
    "        xaxis = data[0]\n",
    "        yaxis = data[1]\n",
    "        axarr.plot(xaxis[1:np.where(np.isnan(yaxis[1:]) == True) [0][0]], yaxis[1:np.where(np.isnan(yaxis[1:]) == True) [0][0]], '-', linewidth = widths[e], markersize = 1, alpha = 1, color = colors[e], linestyle = lines[e])\n",
    "        blnslope[i] = -1*stats.linregress(np.log10(xaxis[1:np.where(np.isnan(yaxis[1:]) == True) [0][0]]), np.log10(yaxis[1:np.where(np.isnan(yaxis[1:]) == True) [0][0]]))[0]\n",
    "        m,c = np.polyfit(np.log10(xaxis[1:np.where(np.isnan(yaxis[1:]) == True) [0][0]]), np.log10(yaxis[1:np.where(np.isnan(yaxis[1:]) == True) [0][0]]), 1)\n",
    "        y_fit = 10**(m*(np.log10(xaxis[1:np.where(np.isnan(yaxis[1:]) == True) [0][0]])) + c) # calculate the fitted values of y \n",
    "        blncorr[i] = np.linalg.norm(yaxis[1:np.where(np.isnan(yaxis[1:]) == True) [0][0]]-y_fit) #stats.pearsonr(yaxis[1:], y_fit)[0]\n",
    "        #axarr.plot(xaxis[1:len(xaxis)-1], y_fit[1:len(xaxis)-1], '-', linewidth = 1, markersize = 1, alpha = 1, color ='k', linestyle = '-')\n",
    "\n",
    "        \n",
    "        \n",
    "        count+=1\n",
    "        axarr.set_xscale('log')\n",
    "        axarr.set_yscale('log')\n",
    "        #axarr.set_xlabel('Distance d (μm)', size = '13')\n",
    "        #axarr.set_ylabel('Correlation c ', size = '13')\n",
    "\n",
    "        axarr.set_xticklabels(['100', '100', '100', '100'])\n",
    "        axarr.spines['top'].set_visible(False)\n",
    "        axarr.spines['right'].set_visible(False)\n",
    "        plt.yticks(fontsize = 14)\n",
    "        plt.xticks(fontsize = 14)\n",
    "\n",
    "        #plt.savefig(Ffig + 'corrdist_sz' + str(count) + '.svg', transparent = True)\n",
    "        plt.show()"
   ]
  },
  {
   "cell_type": "markdown",
   "metadata": {},
   "source": [
    "# Eigenspectra + State space velocity"
   ]
  },
  {
   "cell_type": "code",
   "execution_count": 2,
   "metadata": {},
   "outputs": [
    {
     "data": {
      "text/plain": [
       "(['BLNLIGHTPTZ-FOXG1++-01_2photon_sess-01-6dpf_BLNLIGHT_run-01_labcoord.npy',\n",
       "  'BLNLIGHTPTZ-FOXG1++-01_2photon_sess-01-6dpf_PTZ02_run-01_labcoord.npy',\n",
       "  'BLNLIGHTPTZ-FOXG1++-02_2photon_sess-01-6dpf_BLNLIGHT_run-01_labcoord.npy',\n",
       "  'BLNLIGHTPTZ-FOXG1++-02_2photon_sess-01-6dpf_PTZ02_run-01_labcoord.npy',\n",
       "  'BLNLIGHTPTZ-FOXG1++-03_2photon_sess-01-6dpf_BLNLIGHT_run-01_labcoord.npy',\n",
       "  'BLNLIGHTPTZ-FOXG1++-03_2photon_sess-01-6dpf_PTZ02_run-01_labcoord.npy',\n",
       "  'BLNLIGHTPTZ-FOXG1++-04_2photon_sess-01-6dpf_BLNLIGHT_run-01_labcoord.npy',\n",
       "  'BLNLIGHTPTZ-FOXG1++-05_2photon_sess-01-6dpf_BLNLIGHT_run-01_labcoord.npy',\n",
       "  'BLNLIGHTPTZ-FOXG1++-05_2photon_sess-01-6dpf_PTZ02_run-01_labcoord.npy',\n",
       "  'BLNLIGHTPTZ-FOXG1+--02_2photon_sess-01-6dpf_BLNLIGHT_run-01_labcoord.npy',\n",
       "  'BLNLIGHTPTZ-FOXG1+--02_2photon_sess-01-6dpf_PTZ02_run-01_labcoord.npy',\n",
       "  'BLNLIGHTPTZ-FOXG1+--03_2photon_sess-01-6dpf_BLNLIGHT_run-01_labcoord.npy',\n",
       "  'BLNLIGHTPTZ-FOXG1+--03_2photon_sess-01-6dpf_PTZ02_run-01_labcoord.npy',\n",
       "  'BLNLIGHTPTZ-FOXG1+--04_2photon_sess-01-6dpf_BLNLIGHT_run-01_labcoord.npy',\n",
       "  'BLNLIGHTPTZ-FOXG1+--04_2photon_sess-01-6dpf_PTZ02_run-01_labcoord.npy',\n",
       "  'BLNLIGHTPTZ-FOXG1+--05_2photon_sess-01-6dpf_BLNLIGHT_run-01_labcoord.npy',\n",
       "  'BLNLIGHTPTZ-FOXG1+--05_2photon_sess-01-6dpf_PTZ02_run-01_labcoord.npy',\n",
       "  'BLNLIGHTPTZ-FOXG1+--06_2photon_sess-01-6dpf_BLNLIGHT_run-01_labcoord.npy',\n",
       "  'BLNLIGHTPTZ-FOXG1+--06_2photon_sess-01-6dpf_PTZ02_run-01_labcoord.npy',\n",
       "  'BLNLIGHTPTZ-FOXG1+--07_2photon_sess-01-6dpf_BLNLIGHT_run-01_labcoord.npy',\n",
       "  'BLNLIGHTPTZ-FOXG1+--07_2photon_sess-01-6dpf_PTZ02_run-01_labcoord.npy',\n",
       "  'BLNLIGHTPTZ-FOXG1+--08_2photon_sess-01-6dpf_BLNLIGHT_run-01_labcoord.npy',\n",
       "  'BLNLIGHTPTZ-FOXG1+--08_2photon_sess-01-6dpf_PTZ02_run-01_labcoord.npy',\n",
       "  'BLNLIGHTPTZ-FOXG1+--09_2photon_sess-01-6dpf_BLNLIGHT_run-01_labcoordtemp.npy',\n",
       "  'BLNLIGHTPTZ-FOXG1+--09_2photon_sess-01-6dpf_PTZ02_run-01_labcoordtemp.npy',\n",
       "  'BLNLIGHTPTZ-FOXG1---02_2photon_sess-01-6dpf_BLNLIGHT_run-01_labcoord.npy',\n",
       "  'BLNLIGHTPTZ-FOXG1---02_2photon_sess-01-6dpf_PTZ02_run-01_labcoord.npy',\n",
       "  'BLNLIGHTPTZ-FOXG1---03_2photon_sess-01-6dpf_BLNLIGHT_run-01_labcoord.npy',\n",
       "  'BLNLIGHTPTZ-FOXG1---03_2photon_sess-01-6dpf_PTZ02_run-01_labcoord.npy',\n",
       "  'BLNLIGHTPTZ-FOXG1---04_2photon_sess-01-6dpf_BLNLIGHT_run-01_labcoord.npy',\n",
       "  'BLNLIGHTPTZ-FOXG1---04_2photon_sess-01-6dpf_PTZ02_run-01_labcoord.npy',\n",
       "  'BLNLIGHTPTZ-FOXG1---05_2photon_sess-01-6dpf_BLNLIGHT_run-01_labcoord.npy',\n",
       "  'BLNLIGHTPTZ-FOXG1---05_2photon_sess-01-6dpf_PTZ02_run-01_labcoord.npy',\n",
       "  'BLNLIGHTPTZ-FOXG1---06_2photon_sess-01-6dpf_BLNLIGHT_run-01_labcoord.npy',\n",
       "  'BLNLIGHTPTZ-FOXG1---06_2photon_sess-01-6dpf_PTZ02_run-01_labcoord.npy'],\n",
       " ['BLNLIGHTPTZ-FOXG1++-01_2photon_sess-01-6dpf_BLNLIGHT_run-01_regtrace.npy',\n",
       "  'BLNLIGHTPTZ-FOXG1++-01_2photon_sess-01-6dpf_PTZ02_run-01_regtrace.npy',\n",
       "  'BLNLIGHTPTZ-FOXG1++-02_2photon_sess-01-6dpf_BLNLIGHT_run-01_regtrace.npy',\n",
       "  'BLNLIGHTPTZ-FOXG1++-02_2photon_sess-01-6dpf_PTZ02_run-01_regtrace.npy',\n",
       "  'BLNLIGHTPTZ-FOXG1++-03_2photon_sess-01-6dpf_BLNLIGHT_run-01_regtrace.npy',\n",
       "  'BLNLIGHTPTZ-FOXG1++-03_2photon_sess-01-6dpf_PTZ02_run-01_regtrace.npy',\n",
       "  'BLNLIGHTPTZ-FOXG1++-04_2photon_sess-01-6dpf_BLNLIGHT_run-01_regtrace.npy',\n",
       "  'BLNLIGHTPTZ-FOXG1++-05_2photon_sess-01-6dpf_BLNLIGHT_run-01_regtrace.npy',\n",
       "  'BLNLIGHTPTZ-FOXG1++-05_2photon_sess-01-6dpf_PTZ02_run-01_regtrace.npy',\n",
       "  'BLNLIGHTPTZ-FOXG1+--02_2photon_sess-01-6dpf_BLNLIGHT_run-01_regtrace.npy',\n",
       "  'BLNLIGHTPTZ-FOXG1+--02_2photon_sess-01-6dpf_PTZ02_run-01_regtrace.npy',\n",
       "  'BLNLIGHTPTZ-FOXG1+--03_2photon_sess-01-6dpf_BLNLIGHT_run-01_regtrace.npy',\n",
       "  'BLNLIGHTPTZ-FOXG1+--03_2photon_sess-01-6dpf_PTZ02_run-01_regtrace.npy',\n",
       "  'BLNLIGHTPTZ-FOXG1+--04_2photon_sess-01-6dpf_BLNLIGHT_run-01_regtrace.npy',\n",
       "  'BLNLIGHTPTZ-FOXG1+--04_2photon_sess-01-6dpf_PTZ02_run-01_regtrace.npy',\n",
       "  'BLNLIGHTPTZ-FOXG1+--05_2photon_sess-01-6dpf_BLNLIGHT_run-01_regtrace.npy',\n",
       "  'BLNLIGHTPTZ-FOXG1+--05_2photon_sess-01-6dpf_PTZ02_run-01_regtrace.npy',\n",
       "  'BLNLIGHTPTZ-FOXG1+--06_2photon_sess-01-6dpf_BLNLIGHT_run-01_regtrace.npy',\n",
       "  'BLNLIGHTPTZ-FOXG1+--06_2photon_sess-01-6dpf_PTZ02_run-01_regtrace.npy',\n",
       "  'BLNLIGHTPTZ-FOXG1+--07_2photon_sess-01-6dpf_BLNLIGHT_run-01_regtrace.npy',\n",
       "  'BLNLIGHTPTZ-FOXG1+--07_2photon_sess-01-6dpf_PTZ02_run-01_regtrace.npy',\n",
       "  'BLNLIGHTPTZ-FOXG1+--08_2photon_sess-01-6dpf_BLNLIGHT_run-01_regtrace.npy',\n",
       "  'BLNLIGHTPTZ-FOXG1+--08_2photon_sess-01-6dpf_PTZ02_run-01_regtrace.npy',\n",
       "  'BLNLIGHTPTZ-FOXG1+--09_2photon_sess-01-6dpf_BLNLIGHT_run-01_regtracetemp.npy',\n",
       "  'BLNLIGHTPTZ-FOXG1+--09_2photon_sess-01-6dpf_PTZ02_run-01_regtracetemp.npy',\n",
       "  'BLNLIGHTPTZ-FOXG1---02_2photon_sess-01-6dpf_BLNLIGHT_run-01_regtrace.npy',\n",
       "  'BLNLIGHTPTZ-FOXG1---02_2photon_sess-01-6dpf_PTZ02_run-01_regtrace.npy',\n",
       "  'BLNLIGHTPTZ-FOXG1---03_2photon_sess-01-6dpf_BLNLIGHT_run-01_regtrace.npy',\n",
       "  'BLNLIGHTPTZ-FOXG1---03_2photon_sess-01-6dpf_PTZ02_run-01_regtrace.npy',\n",
       "  'BLNLIGHTPTZ-FOXG1---04_2photon_sess-01-6dpf_BLNLIGHT_run-01_regtrace.npy',\n",
       "  'BLNLIGHTPTZ-FOXG1---04_2photon_sess-01-6dpf_PTZ02_run-01_regtrace.npy',\n",
       "  'BLNLIGHTPTZ-FOXG1---05_2photon_sess-01-6dpf_BLNLIGHT_run-01_regtrace.npy',\n",
       "  'BLNLIGHTPTZ-FOXG1---05_2photon_sess-01-6dpf_PTZ02_run-01_regtrace.npy',\n",
       "  'BLNLIGHTPTZ-FOXG1---06_2photon_sess-01-6dpf_BLNLIGHT_run-01_regtrace.npy',\n",
       "  'BLNLIGHTPTZ-FOXG1---06_2photon_sess-01-6dpf_PTZ02_run-01_regtrace.npy'])"
      ]
     },
     "execution_count": 2,
     "metadata": {},
     "output_type": "execute_result"
    }
   ],
   "source": [
    "import glob\n",
    "experiment = 'BLNLIGHTPTZ-FOXG1'\n",
    "savepath = Fdata + experiment + os.sep \n",
    "os.chdir(Fdata +  experiment)\n",
    "binlist = sorted(glob.glob('*_regtrace*'))\n",
    "coordlist =  sorted(glob.glob('*labcoord*'))\n",
    "coordlist, binlist"
   ]
  },
  {
   "cell_type": "code",
   "execution_count": null,
   "metadata": {},
   "outputs": [],
   "source": [
    "data_list = binlist\n",
    "for e in range(len(data_list)):\n",
    "    \n",
    "    trace = np.load(data_list[e])\n",
    "    coord = np.load(coordlist[e])\n",
    "    sub_trace, sub_coord = adfn.select_region(trace, coord, 'Telencephalon')\n",
    "    data = sub_trace[:,:9828]\n",
    "    name = binlist[e][:binlist[e].find('run')+7]\n",
    "    n_components = np.min(data.shape)\n",
    "    eig = efn.eigspec(data, n_components) #calculat eigenspec\n",
    "    np.save(savepath + name + 'eig-Tel.npy', eig)\n",
    "    print(str(e) + 'of' + str(len(data_list))) "
   ]
  },
  {
   "cell_type": "code",
   "execution_count": null,
   "metadata": {},
   "outputs": [],
   "source": []
  },
  {
   "cell_type": "code",
   "execution_count": 3,
   "metadata": {},
   "outputs": [
    {
     "data": {
      "text/plain": [
       "(['BLNLIGHTPTZ-FOXG1++-01_2photon_sess-01-6dpf_PTZ02_run-01_velocity-Tel.npy',\n",
       "  'BLNLIGHTPTZ-FOXG1++-02_2photon_sess-01-6dpf_PTZ02_run-01_velocity-Tel.npy',\n",
       "  'BLNLIGHTPTZ-FOXG1++-03_2photon_sess-01-6dpf_PTZ02_run-01_velocity-Tel.npy',\n",
       "  'BLNLIGHTPTZ-FOXG1++-05_2photon_sess-01-6dpf_PTZ02_run-01_velocity-Tel.npy'],\n",
       " ['BLNLIGHTPTZ-FOXG1+--02_2photon_sess-01-6dpf_PTZ02_run-01_velocity-Tel.npy',\n",
       "  'BLNLIGHTPTZ-FOXG1+--03_2photon_sess-01-6dpf_PTZ02_run-01_velocity-Tel.npy',\n",
       "  'BLNLIGHTPTZ-FOXG1+--04_2photon_sess-01-6dpf_PTZ02_run-01_velocity-Tel.npy',\n",
       "  'BLNLIGHTPTZ-FOXG1+--05_2photon_sess-01-6dpf_PTZ02_run-01_velocity-Tel.npy',\n",
       "  'BLNLIGHTPTZ-FOXG1+--06_2photon_sess-01-6dpf_PTZ02_run-01_velocity-Tel.npy',\n",
       "  'BLNLIGHTPTZ-FOXG1+--07_2photon_sess-01-6dpf_PTZ02_run-01_velocity-Tel.npy',\n",
       "  'BLNLIGHTPTZ-FOXG1+--08_2photon_sess-01-6dpf_PTZ02_run-01_velocity-Tel.npy',\n",
       "  'BLNLIGHTPTZ-FOXG1+--09_2photon_sess-01-6dpf_PTZ02_run-01_velocity-Tel.npy'],\n",
       " ['BLNLIGHTPTZ-FOXG1---02_2photon_sess-01-6dpf_PTZ02_run-01_velocity-Tel.npy',\n",
       "  'BLNLIGHTPTZ-FOXG1---03_2photon_sess-01-6dpf_PTZ02_run-01_velocity-Tel.npy',\n",
       "  'BLNLIGHTPTZ-FOXG1---04_2photon_sess-01-6dpf_PTZ02_run-01_velocity-Tel.npy',\n",
       "  'BLNLIGHTPTZ-FOXG1---05_2photon_sess-01-6dpf_PTZ02_run-01_velocity-Tel.npy',\n",
       "  'BLNLIGHTPTZ-FOXG1---06_2photon_sess-01-6dpf_PTZ02_run-01_velocity-Tel.npy'])"
      ]
     },
     "execution_count": 3,
     "metadata": {},
     "output_type": "execute_result"
    }
   ],
   "source": [
    "# BLN Avalanche distributions\n",
    "\n",
    "# Visualise \n",
    "#---------------------------------------------------------------------------\n",
    "wt_list = sorted(glob.glob('*++*PTZ02_*velocity-*.npy*')) \n",
    "het_list = sorted(glob.glob('*+--*PTZ02_*velocity-*.npy*')) \n",
    "hom_list = sorted(glob.glob('*---*PTZ02_*velocity-*.npy*')) \n",
    "\n",
    "wt_list, het_list, hom_list"
   ]
  },
  {
   "cell_type": "code",
   "execution_count": 4,
   "metadata": {},
   "outputs": [],
   "source": [
    "colors2 = ['grey','mediumturquoise','cornflowerblue']\n",
    "comb_l = [wt_list, het_list, hom_list]"
   ]
  },
  {
   "cell_type": "code",
   "execution_count": 5,
   "metadata": {},
   "outputs": [
    {
     "data": {
      "image/png": "[encoded data removed]",
      "text/plain": [
       "<Figure size 504x288 with 1 Axes>"
      ]
     },
     "metadata": {
      "needs_background": "light"
     },
     "output_type": "display_data"
    }
   ],
   "source": [
    "\n",
    "\n",
    "fig, axarr = plt.subplots(figsize = (7,4))\n",
    "\n",
    "for e in range(len(comb_l)):\n",
    "    if e == 0:\n",
    "        for i in range(len(comb_l[e])):\n",
    "            plt.hist(np.load(wt_list[i]),color = colors2[0], bins = 50, alpha = 0.5)\n",
    "    if e == 1:\n",
    "        for i in range(len(comb_l[e])):\n",
    "            plt.hist(np.load(het_list[i]),color = colors2[1], bins = 50, alpha = 0.4 )\n",
    "    if e == 2:\n",
    "        for i in range(len(comb_l[e])):\n",
    "            plt.hist(np.load(het_list[i]),color = colors2[2], bins = 50, alpha = 0.4 )\n",
    "    \n",
    "plt.yticks(size = 17)\n",
    "plt.xticks(size = 17, visible=True)\n",
    "plt.tick_params(axis = \"x\", which = \"both\", bottom = True)\n",
    "plt.tick_params(axis = \"y\", which = \"both\", left = True)\n",
    "axarr.spines['top'].set_visible(False)\n",
    "axarr.spines['right'].set_visible(False)\n",
    "plt.savefig(Ffig + 'foxg1_velocity_emp_ptz.svg', transparent = True)\n",
    "plt.show()    "
   ]
  },
  {
   "cell_type": "code",
   "execution_count": 6,
   "metadata": {},
   "outputs": [
    {
     "name": "stdout",
     "output_type": "stream",
     "text": [
      "0\n",
      "1\n",
      "2\n"
     ]
    }
   ],
   "source": [
    "l_list = wt_list, het_list, hom_list\n",
    "wt, het, hom = [],[],[]\n",
    "choose = 0\n",
    "for i in range(len(l_list)):\n",
    "    print(i)\n",
    "    for e in range(len(l_list[i])):\n",
    "        if i == 0:\n",
    "            wt = np.append(wt, np.mean(np.load(l_list[i][e])))\n",
    "        if i == 1:\n",
    "            het = np.append(het, np.mean(np.load(l_list[i][e])))\n",
    "            \n",
    "        if i == 2:\n",
    "            hom = np.append(hom, np.mean(np.load(l_list[i][e])))"
   ]
  },
  {
   "cell_type": "code",
   "execution_count": 7,
   "metadata": {},
   "outputs": [],
   "source": [
    "point = np.zeros((17))\n",
    "\n",
    "p_spike_df = {}\n",
    "count=0\n",
    "choose = 0\n",
    "\n",
    "data = [wt, het, hom]\n",
    "\n",
    "for e in range(len(data)):\n",
    "    for i in range(len(data[e])):\n",
    "        point[count] = data[e][i]\n",
    "        count+=1\n",
    "\n",
    "p_spike_df = pd.DataFrame({\"data\":point , \"Labels\":  np.append(adfn.repeat_list('WT',4),np.append(adfn.repeat_list('HET',8),adfn.repeat_list('HOM',5)))})"
   ]
  },
  {
   "cell_type": "code",
   "execution_count": 10,
   "metadata": {},
   "outputs": [
    {
     "data": {
      "image/png": "[encoded data removed]",
      "text/plain": [
       "<Figure size 216x288 with 1 Axes>"
      ]
     },
     "metadata": {},
     "output_type": "display_data"
    }
   ],
   "source": [
    "import seaborn as sns\n",
    "\n",
    "from matplotlib.collections import PathCollection\n",
    "from matplotlib import cm\n",
    "sns.set(style=\"white\")\n",
    "\n",
    "colors1  = cm.Spectral_r(np.linspace(0,1,11))\n",
    "colors2 = ['grey','mediumturquoise','cornflowerblue']\n",
    "\n",
    "fig, ax = plt.subplots(figsize = (3,4))\n",
    "ax = sns.pointplot(x=\"Labels\", y=\"data\", data = p_spike_df, hue = 'Labels', palette = colors2, join=True, ci=0, scale=1, markers = '_')\n",
    "for artist in ax.lines:\n",
    "    artist.set_zorder(10)\n",
    "for artist in ax.findobj(PathCollection):\n",
    "    artist.set_zorder(11)\n",
    "#ax = sns.pointplot(x=\"Labels\", y=\"Exponent\", data=sizexdf, color = 'grey', linestyles = [\"--\"], ci = 0, scale=0.6)\n",
    "ax = sns.stripplot(x=\"Labels\", y=\"data\", data=p_spike_df, hue = 'Labels', palette = colors2, size = 15, jitter = True ,alpha = 0.7)\n",
    "\n",
    "plt.yticks(size = 20)\n",
    "\n",
    "points = ax.collections\n",
    "ax.spines['top'].set_visible(False)\n",
    "ax.spines['right'].set_visible(False)\n",
    "ax.spines['bottom'].set_visible(False)\n",
    "ax.set_xlabel(' ', size = '13')\n",
    "ax.set_ylabel('velocity', size = '25')\n",
    "ax.get_xaxis().set_visible(False)\n",
    "#ax.set_xticklabels(['Baseline', 'Focal', 'Generalised'], size = 15)\n",
    "ax.legend_.remove()\n",
    "#plt.ylim(top = 2000, bottom = 0)\n",
    "\n",
    "#plt.savefig(Ffig + 'avsize_exp_ptz.svg', transparent = True)\n",
    "plt.show()"
   ]
  },
  {
   "cell_type": "code",
   "execution_count": 9,
   "metadata": {},
   "outputs": [
    {
     "name": "stdout",
     "output_type": "stream",
     "text": [
      "0.753610631180943 0.0284979022090747\n",
      "0.7501743878464678 0.01935652112998383\n",
      "0.7608825342214706 0.03349768086144441\n",
      "U = 16.0   p = 0.46616218667416665\n",
      "U = 9.0   p = 0.4512616250888397\n"
     ]
    }
   ],
   "source": [
    "from scipy import stats\n",
    "data = wt\n",
    "mean = np.mean(data)\n",
    "sem = stats.sem(data)\n",
    "print(mean, sem)\n",
    "\n",
    "from scipy import stats\n",
    "data = het\n",
    "mean = np.mean(data)\n",
    "sem = stats.sem(data)\n",
    "print(mean, sem)\n",
    "\n",
    "from scipy import stats\n",
    "data = hom\n",
    "mean = np.mean(data)\n",
    "sem = stats.sem(data)\n",
    "print(mean, sem)\n",
    "\n",
    "#BLN - SZ\n",
    "alpha = 0.05/2\n",
    "\n",
    "U, p = stats.mannwhitneyu(wt, het)\n",
    "print('U = ' + str(U) +  '   p = ' + str(p))\n",
    "\n",
    "    \n",
    "U, p = stats.mannwhitneyu(wt, hom)\n",
    "print('U = ' + str(U) +  '   p = ' + str(p))\n"
   ]
  },
  {
   "cell_type": "markdown",
   "metadata": {},
   "source": [
    "# metastability"
   ]
  },
  {
   "cell_type": "code",
   "execution_count": 12,
   "metadata": {},
   "outputs": [
    {
     "data": {
      "text/plain": [
       "(['BLNLIGHTPTZ-FOXG1++-01_2photon_sess-01-6dpf_BLNLIGHT_run-01_labcoord.npy',\n",
       "  'BLNLIGHTPTZ-FOXG1++-01_2photon_sess-01-6dpf_PTZ02_run-01_labcoord.npy',\n",
       "  'BLNLIGHTPTZ-FOXG1++-02_2photon_sess-01-6dpf_BLNLIGHT_run-01_labcoord.npy',\n",
       "  'BLNLIGHTPTZ-FOXG1++-02_2photon_sess-01-6dpf_PTZ02_run-01_labcoord.npy',\n",
       "  'BLNLIGHTPTZ-FOXG1++-03_2photon_sess-01-6dpf_BLNLIGHT_run-01_labcoord.npy',\n",
       "  'BLNLIGHTPTZ-FOXG1++-03_2photon_sess-01-6dpf_PTZ02_run-01_labcoord.npy',\n",
       "  'BLNLIGHTPTZ-FOXG1++-04_2photon_sess-01-6dpf_BLNLIGHT_run-01_labcoord.npy',\n",
       "  'BLNLIGHTPTZ-FOXG1++-05_2photon_sess-01-6dpf_BLNLIGHT_run-01_labcoord.npy',\n",
       "  'BLNLIGHTPTZ-FOXG1++-05_2photon_sess-01-6dpf_PTZ02_run-01_labcoord.npy',\n",
       "  'BLNLIGHTPTZ-FOXG1+--02_2photon_sess-01-6dpf_BLNLIGHT_run-01_labcoord.npy',\n",
       "  'BLNLIGHTPTZ-FOXG1+--02_2photon_sess-01-6dpf_PTZ02_run-01_labcoord.npy',\n",
       "  'BLNLIGHTPTZ-FOXG1+--03_2photon_sess-01-6dpf_BLNLIGHT_run-01_labcoord.npy',\n",
       "  'BLNLIGHTPTZ-FOXG1+--03_2photon_sess-01-6dpf_PTZ02_run-01_labcoord.npy',\n",
       "  'BLNLIGHTPTZ-FOXG1+--04_2photon_sess-01-6dpf_BLNLIGHT_run-01_labcoord.npy',\n",
       "  'BLNLIGHTPTZ-FOXG1+--04_2photon_sess-01-6dpf_PTZ02_run-01_labcoord.npy',\n",
       "  'BLNLIGHTPTZ-FOXG1+--05_2photon_sess-01-6dpf_BLNLIGHT_run-01_labcoord.npy',\n",
       "  'BLNLIGHTPTZ-FOXG1+--05_2photon_sess-01-6dpf_PTZ02_run-01_labcoord.npy',\n",
       "  'BLNLIGHTPTZ-FOXG1+--06_2photon_sess-01-6dpf_BLNLIGHT_run-01_labcoord.npy',\n",
       "  'BLNLIGHTPTZ-FOXG1+--06_2photon_sess-01-6dpf_PTZ02_run-01_labcoord.npy',\n",
       "  'BLNLIGHTPTZ-FOXG1+--07_2photon_sess-01-6dpf_BLNLIGHT_run-01_labcoord.npy',\n",
       "  'BLNLIGHTPTZ-FOXG1+--07_2photon_sess-01-6dpf_PTZ02_run-01_labcoord.npy',\n",
       "  'BLNLIGHTPTZ-FOXG1+--08_2photon_sess-01-6dpf_BLNLIGHT_run-01_labcoord.npy',\n",
       "  'BLNLIGHTPTZ-FOXG1+--08_2photon_sess-01-6dpf_PTZ02_run-01_labcoord.npy',\n",
       "  'BLNLIGHTPTZ-FOXG1+--09_2photon_sess-01-6dpf_BLNLIGHT_run-01_labcoordtemp.npy',\n",
       "  'BLNLIGHTPTZ-FOXG1+--09_2photon_sess-01-6dpf_PTZ02_run-01_labcoordtemp.npy',\n",
       "  'BLNLIGHTPTZ-FOXG1---02_2photon_sess-01-6dpf_BLNLIGHT_run-01_labcoord.npy',\n",
       "  'BLNLIGHTPTZ-FOXG1---02_2photon_sess-01-6dpf_PTZ02_run-01_labcoord.npy',\n",
       "  'BLNLIGHTPTZ-FOXG1---03_2photon_sess-01-6dpf_BLNLIGHT_run-01_labcoord.npy',\n",
       "  'BLNLIGHTPTZ-FOXG1---03_2photon_sess-01-6dpf_PTZ02_run-01_labcoord.npy',\n",
       "  'BLNLIGHTPTZ-FOXG1---04_2photon_sess-01-6dpf_BLNLIGHT_run-01_labcoord.npy',\n",
       "  'BLNLIGHTPTZ-FOXG1---04_2photon_sess-01-6dpf_PTZ02_run-01_labcoord.npy',\n",
       "  'BLNLIGHTPTZ-FOXG1---05_2photon_sess-01-6dpf_BLNLIGHT_run-01_labcoord.npy',\n",
       "  'BLNLIGHTPTZ-FOXG1---05_2photon_sess-01-6dpf_PTZ02_run-01_labcoord.npy',\n",
       "  'BLNLIGHTPTZ-FOXG1---06_2photon_sess-01-6dpf_BLNLIGHT_run-01_labcoord.npy',\n",
       "  'BLNLIGHTPTZ-FOXG1---06_2photon_sess-01-6dpf_PTZ02_run-01_labcoord.npy'],\n",
       " ['BLNLIGHTPTZ-FOXG1++-01_2photon_sess-01-6dpf_BLNLIGHT_run-01_regbinarised.npy',\n",
       "  'BLNLIGHTPTZ-FOXG1++-01_2photon_sess-01-6dpf_PTZ02_run-01_regbinarised.npy',\n",
       "  'BLNLIGHTPTZ-FOXG1++-02_2photon_sess-01-6dpf_BLNLIGHT_run-01_regbinarised.npy',\n",
       "  'BLNLIGHTPTZ-FOXG1++-02_2photon_sess-01-6dpf_PTZ02_run-01_regbinarised.npy',\n",
       "  'BLNLIGHTPTZ-FOXG1++-03_2photon_sess-01-6dpf_BLNLIGHT_run-01_regbinarised.npy',\n",
       "  'BLNLIGHTPTZ-FOXG1++-03_2photon_sess-01-6dpf_PTZ02_run-01_regbinarised.npy',\n",
       "  'BLNLIGHTPTZ-FOXG1++-04_2photon_sess-01-6dpf_BLNLIGHT_run-01_regbinarised.npy',\n",
       "  'BLNLIGHTPTZ-FOXG1++-05_2photon_sess-01-6dpf_BLNLIGHT_run-01_regbinarised.npy',\n",
       "  'BLNLIGHTPTZ-FOXG1++-05_2photon_sess-01-6dpf_PTZ02_run-01_regbinarised.npy',\n",
       "  'BLNLIGHTPTZ-FOXG1+--02_2photon_sess-01-6dpf_BLNLIGHT_run-01_regbinarised.npy',\n",
       "  'BLNLIGHTPTZ-FOXG1+--02_2photon_sess-01-6dpf_PTZ02_run-01_regbinarised.npy',\n",
       "  'BLNLIGHTPTZ-FOXG1+--03_2photon_sess-01-6dpf_BLNLIGHT_run-01_regbinarised.npy',\n",
       "  'BLNLIGHTPTZ-FOXG1+--03_2photon_sess-01-6dpf_PTZ02_run-01_regbinarised.npy',\n",
       "  'BLNLIGHTPTZ-FOXG1+--04_2photon_sess-01-6dpf_BLNLIGHT_run-01_regbinarised.npy',\n",
       "  'BLNLIGHTPTZ-FOXG1+--04_2photon_sess-01-6dpf_PTZ02_run-01_regbinarised.npy',\n",
       "  'BLNLIGHTPTZ-FOXG1+--05_2photon_sess-01-6dpf_BLNLIGHT_run-01_regbinarised.npy',\n",
       "  'BLNLIGHTPTZ-FOXG1+--05_2photon_sess-01-6dpf_PTZ02_run-01_regbinarised.npy',\n",
       "  'BLNLIGHTPTZ-FOXG1+--06_2photon_sess-01-6dpf_BLNLIGHT_run-01_regbinarised.npy',\n",
       "  'BLNLIGHTPTZ-FOXG1+--06_2photon_sess-01-6dpf_PTZ02_run-01_regbinarised.npy',\n",
       "  'BLNLIGHTPTZ-FOXG1+--07_2photon_sess-01-6dpf_BLNLIGHT_run-01_regbinarised.npy',\n",
       "  'BLNLIGHTPTZ-FOXG1+--07_2photon_sess-01-6dpf_PTZ02_run-01_regbinarised.npy',\n",
       "  'BLNLIGHTPTZ-FOXG1+--08_2photon_sess-01-6dpf_BLNLIGHT_run-01_regbinarised.npy',\n",
       "  'BLNLIGHTPTZ-FOXG1+--08_2photon_sess-01-6dpf_PTZ02_run-01_regbinarised.npy',\n",
       "  'BLNLIGHTPTZ-FOXG1+--09_2photon_sess-01-6dpf_BLNLIGHT_run-01_regbinarisedtemp.npy',\n",
       "  'BLNLIGHTPTZ-FOXG1+--09_2photon_sess-01-6dpf_PTZ02_run-01_regbinarisedtemp.npy',\n",
       "  'BLNLIGHTPTZ-FOXG1---02_2photon_sess-01-6dpf_BLNLIGHT_run-01_regbinarised.npy',\n",
       "  'BLNLIGHTPTZ-FOXG1---02_2photon_sess-01-6dpf_PTZ02_run-01_regbinarised.npy',\n",
       "  'BLNLIGHTPTZ-FOXG1---03_2photon_sess-01-6dpf_BLNLIGHT_run-01_regbinarised.npy',\n",
       "  'BLNLIGHTPTZ-FOXG1---03_2photon_sess-01-6dpf_PTZ02_run-01_regbinarised.npy',\n",
       "  'BLNLIGHTPTZ-FOXG1---04_2photon_sess-01-6dpf_BLNLIGHT_run-01_regbinarised.npy',\n",
       "  'BLNLIGHTPTZ-FOXG1---04_2photon_sess-01-6dpf_PTZ02_run-01_regbinarised.npy',\n",
       "  'BLNLIGHTPTZ-FOXG1---05_2photon_sess-01-6dpf_BLNLIGHT_run-01_regbinarised.npy',\n",
       "  'BLNLIGHTPTZ-FOXG1---05_2photon_sess-01-6dpf_PTZ02_run-01_regbinarised.npy',\n",
       "  'BLNLIGHTPTZ-FOXG1---06_2photon_sess-01-6dpf_BLNLIGHT_run-01_regbinarised.npy',\n",
       "  'BLNLIGHTPTZ-FOXG1---06_2photon_sess-01-6dpf_PTZ02_run-01_regbinarised.npy'])"
      ]
     },
     "execution_count": 12,
     "metadata": {},
     "output_type": "execute_result"
    }
   ],
   "source": [
    "import glob\n",
    "experiment = 'BLNLIGHTPTZ-FOXG1'\n",
    "savepath = Fdata + experiment + os.sep \n",
    "os.chdir(Fdata +  experiment)\n",
    "binlist = sorted(glob.glob('*_regbin*'))\n",
    "coordlist =  sorted(glob.glob('*labcoord*'))\n",
    "coordlist, binlist"
   ]
  },
  {
   "cell_type": "code",
   "execution_count": null,
   "metadata": {},
   "outputs": [],
   "source": [
    "from sklearn.cluster import AffinityPropagation\n",
    "import copy\n",
    "\n",
    "data_list = binlist\n",
    "for e in range(len(data_list)):\n",
    "    \n",
    "    trace = np.load(data_list[e])\n",
    "    coord = np.load(coordlist[e])\n",
    "    sub_trace, sub_coord = adfn.select_region(trace, coord, 'Telencephalon')\n",
    "    data = sub_trace[:,1:9827].T\n",
    "    name = binlist[e][:binlist[e].find('run')+7]\n",
    "\n",
    "\n",
    "    #Empirical data\n",
    "    all_clust, sub_clust = mfn.affprop(data) #cluster with affinity prop on empirical data\n",
    "    emp_sim = mfn.Sim_loop(data, all_clust, sub_clust) #calculate similarity between clustered states\n",
    "\n",
    "    #Generate null data\n",
    "    rpks = np.zeros((data.shape))\n",
    "    for t in range(data.shape[0]):\n",
    "        temp_pks = data[t]\n",
    "        np.random.shuffle(temp_pks) \n",
    "        rpks[t] = temp_pks\n",
    "\n",
    "    null_all_clust, null_sub_clust = mfn.affprop(rpks) #cluster with affinity prop on null data\n",
    "    null_sim = mfn.Sim_loop(rpks, null_all_clust, null_sub_clust) #calculate similarity between clustered states\n",
    "    n_states = len(emp_sim > np.max(null_sim))\n",
    "    if len(emp_sim) > n_states:\n",
    "        print('null model removed a cluster')\n",
    "\n",
    "    fin_clust = sub_clust[emp_sim > max(null_sim)] #Find the clusters that occur above chance\n",
    "    p_state, m_dwell, v_dwell = mfn.state_stats(fin_clust, all_clust) #Calculate state transition statistics\n",
    "    null_m_dwell = mfn.null_states(fin_clust, data) #Calculate the mean dwell time with random dynamics\n",
    "    np.save(savepath + name +'metastates-Tel.npy', [n_states, p_state, m_dwell, null_m_dwell, v_dwell]) \n",
    "\n",
    "    print(str(e) + 'of ' + str(len(data_list)))"
   ]
  },
  {
   "cell_type": "code",
   "execution_count": 13,
   "metadata": {},
   "outputs": [
    {
     "data": {
      "text/plain": [
       "(['BLNLIGHTPTZ-FOXG1++-01_2photon_sess-01-6dpf_PTZ02_run-01_metastates-Tel.npy',\n",
       "  'BLNLIGHTPTZ-FOXG1++-02_2photon_sess-01-6dpf_PTZ02_run-01_metastates-Tel.npy',\n",
       "  'BLNLIGHTPTZ-FOXG1++-03_2photon_sess-01-6dpf_PTZ02_run-01_metastates-Tel.npy',\n",
       "  'BLNLIGHTPTZ-FOXG1++-05_2photon_sess-01-6dpf_PTZ02_run-01_metastates-Tel.npy'],\n",
       " ['BLNLIGHTPTZ-FOXG1+--02_2photon_sess-01-6dpf_PTZ02_run-01_metastates-Tel.npy',\n",
       "  'BLNLIGHTPTZ-FOXG1+--03_2photon_sess-01-6dpf_PTZ02_run-01_metastates-Tel.npy',\n",
       "  'BLNLIGHTPTZ-FOXG1+--04_2photon_sess-01-6dpf_PTZ02_run-01_metastates-Tel.npy',\n",
       "  'BLNLIGHTPTZ-FOXG1+--05_2photon_sess-01-6dpf_PTZ02_run-01_metastates-Tel.npy',\n",
       "  'BLNLIGHTPTZ-FOXG1+--06_2photon_sess-01-6dpf_PTZ02_run-01_metastates-Tel.npy',\n",
       "  'BLNLIGHTPTZ-FOXG1+--07_2photon_sess-01-6dpf_PTZ02_run-01_metastates-Tel.npy',\n",
       "  'BLNLIGHTPTZ-FOXG1+--08_2photon_sess-01-6dpf_PTZ02_run-01_metastates-Tel.npy',\n",
       "  'BLNLIGHTPTZ-FOXG1+--09_2photon_sess-01-6dpf_PTZ02_run-01_metastates-Tel.npy'],\n",
       " ['BLNLIGHTPTZ-FOXG1---02_2photon_sess-01-6dpf_PTZ02_run-01_metastates-Tel.npy',\n",
       "  'BLNLIGHTPTZ-FOXG1---03_2photon_sess-01-6dpf_PTZ02_run-01_metastates-Tel.npy',\n",
       "  'BLNLIGHTPTZ-FOXG1---04_2photon_sess-01-6dpf_PTZ02_run-01_metastates-Tel.npy',\n",
       "  'BLNLIGHTPTZ-FOXG1---05_2photon_sess-01-6dpf_PTZ02_run-01_metastates-Tel.npy',\n",
       "  'BLNLIGHTPTZ-FOXG1---06_2photon_sess-01-6dpf_PTZ02_run-01_metastates-Tel.npy'])"
      ]
     },
     "execution_count": 13,
     "metadata": {},
     "output_type": "execute_result"
    }
   ],
   "source": [
    "# BLN Avalanche distributions\n",
    "import glob\n",
    "# Visualise \n",
    "#---------------------------------------------------------------------------\n",
    "wt_list = sorted(glob.glob('*++*PTZ02_*metastates-*.npy*')) \n",
    "het_list = sorted(glob.glob('*+--*PTZ02_*metastates-*.npy*')) \n",
    "hom_list = sorted(glob.glob('*---*PTZ02_*metastates-*.npy*')) \n",
    "\n",
    "wt_list, het_list, hom_list"
   ]
  },
  {
   "cell_type": "code",
   "execution_count": 14,
   "metadata": {},
   "outputs": [
    {
     "name": "stdout",
     "output_type": "stream",
     "text": [
      "0\n",
      "1\n",
      "2\n"
     ]
    }
   ],
   "source": [
    "l_list = wt_list, het_list, hom_list\n",
    "wt, het, hom = [],[],[]\n",
    "choose = 0\n",
    "for i in range(len(l_list)):\n",
    "    print(i)\n",
    "    for e in range(len(l_list[i])):\n",
    "        if i == 0:\n",
    "            wt = np.append(wt, np.load(l_list[i][e], allow_pickle=True)[choose])\n",
    "        if i == 1:\n",
    "            het = np.append(het, np.load(l_list[i][e],allow_pickle=True)[choose])\n",
    "            \n",
    "        if i == 2:\n",
    "            hom = np.append(hom, np.load(l_list[i][e],allow_pickle=True)[choose])"
   ]
  },
  {
   "cell_type": "code",
   "execution_count": 15,
   "metadata": {},
   "outputs": [],
   "source": [
    "point = np.zeros((17))\n",
    "\n",
    "p_spike_df = {}\n",
    "count=0\n",
    "choose = 0\n",
    "\n",
    "data = [wt, het, hom]\n",
    "\n",
    "for e in range(len(data)):\n",
    "    for i in range(len(data[e])):\n",
    "        point[count] = data[e][i]\n",
    "        count+=1\n",
    "\n",
    "p_spike_df = pd.DataFrame({\"data\":point , \"Labels\":  np.append(adfn.repeat_list('WT',4),np.append(adfn.repeat_list('HET',8),adfn.repeat_list('HOM',5)))})"
   ]
  },
  {
   "cell_type": "code",
   "execution_count": 16,
   "metadata": {},
   "outputs": [
    {
     "data": {
      "image/png": "[encoded data removed]",
      "text/plain": [
       "<Figure size 216x288 with 1 Axes>"
      ]
     },
     "metadata": {},
     "output_type": "display_data"
    }
   ],
   "source": [
    "import seaborn as sns\n",
    "\n",
    "from matplotlib.collections import PathCollection\n",
    "from matplotlib import cm\n",
    "sns.set(style=\"white\")\n",
    "\n",
    "colors1  = cm.Spectral_r(np.linspace(0,1,11))\n",
    "colors2 = ['grey','mediumturquoise','cornflowerblue']\n",
    "\n",
    "fig, ax = plt.subplots(figsize = (3,4))\n",
    "ax = sns.pointplot(x=\"Labels\", y=\"data\", data = p_spike_df, hue = 'Labels', palette = colors2, join=True, ci=0, scale=1, markers = '_')\n",
    "for artist in ax.lines:\n",
    "    artist.set_zorder(10)\n",
    "for artist in ax.findobj(PathCollection):\n",
    "    artist.set_zorder(11)\n",
    "#ax = sns.pointplot(x=\"Labels\", y=\"Exponent\", data=sizexdf, color = 'grey', linestyles = [\"--\"], ci = 0, scale=0.6)\n",
    "ax = sns.stripplot(x=\"Labels\", y=\"data\", data=p_spike_df, hue = 'Labels', palette = colors2, size = 15, jitter = True ,alpha = 0.7)\n",
    "\n",
    "plt.yticks(size = 20)\n",
    "\n",
    "points = ax.collections\n",
    "ax.spines['top'].set_visible(False)\n",
    "ax.spines['right'].set_visible(False)\n",
    "ax.spines['bottom'].set_visible(False)\n",
    "ax.set_xlabel(' ', size = '13')\n",
    "ax.set_ylabel('metastable states', size = '25')\n",
    "ax.get_xaxis().set_visible(False)\n",
    "#ax.set_xticklabels(['Baseline', 'Focal', 'Generalised'], size = 15)\n",
    "ax.legend_.remove()\n",
    "#plt.ylim(top = 2000, bottom = 0)\n",
    "\n",
    "plt.savefig(Ffig + 'foxg1_meta_comp_ptz.svg', transparent = True)\n",
    "plt.show()"
   ]
  },
  {
   "cell_type": "code",
   "execution_count": 17,
   "metadata": {},
   "outputs": [
    {
     "name": "stdout",
     "output_type": "stream",
     "text": [
      "105.5 15.792930908057144\n",
      "86.625 9.26771951452999\n",
      "73.6 10.414413089560064\n",
      "U = 13.0   p = 0.33529144723530485\n",
      "U = 4.0   p = 0.08895479749349122\n"
     ]
    }
   ],
   "source": [
    "from scipy import stats\n",
    "data = wt\n",
    "mean = np.mean(data)\n",
    "sem = stats.sem(data)\n",
    "print(mean, sem)\n",
    "\n",
    "from scipy import stats\n",
    "data = het\n",
    "mean = np.mean(data)\n",
    "sem = stats.sem(data)\n",
    "print(mean, sem)\n",
    "\n",
    "from scipy import stats\n",
    "data = hom\n",
    "mean = np.mean(data)\n",
    "sem = stats.sem(data)\n",
    "print(mean, sem)\n",
    "\n",
    "#BLN - SZ\n",
    "alpha = 0.05/2\n",
    "\n",
    "U, p = stats.mannwhitneyu(wt, het)\n",
    "print('U = ' + str(U) +  '   p = ' + str(p))\n",
    "\n",
    "    \n",
    "U, p = stats.mannwhitneyu(wt, hom)\n",
    "print('U = ' + str(U) +  '   p = ' + str(p))\n",
    "\n"
   ]
  },
  {
   "cell_type": "code",
   "execution_count": 18,
   "metadata": {},
   "outputs": [
    {
     "name": "stdout",
     "output_type": "stream",
     "text": [
      "U = 13.0   p = 0.33529144723530485\n",
      "U = 4.0   p = 0.08895479749349122\n"
     ]
    }
   ],
   "source": [
    "#BLN - SZ\n",
    "alpha = 0.05/2\n",
    "\n",
    "U, p = stats.mannwhitneyu(wt, het)\n",
    "print('U = ' + str(U) +  '   p = ' + str(p))\n",
    "\n",
    "    \n",
    "U, p = stats.mannwhitneyu(wt, hom)\n",
    "print('U = ' + str(U) +  '   p = ' + str(p))\n"
   ]
  },
  {
   "cell_type": "code",
   "execution_count": 19,
   "metadata": {},
   "outputs": [
    {
     "name": "stdout",
     "output_type": "stream",
     "text": [
      "0\n",
      "1\n",
      "2\n"
     ]
    }
   ],
   "source": [
    "l_list = wt_list, het_list, hom_list\n",
    "wt, het, hom = [],[],[]\n",
    "choose = 0\n",
    "for i in range(len(l_list)):\n",
    "    print(i)\n",
    "    for e in range(len(l_list[i])):\n",
    "        if i == 0:\n",
    "            wt = np.append(wt, np.mean(np.load(l_list[i][e], allow_pickle=True)[2])  - np.load(l_list[i][e], allow_pickle=True)[3])\n",
    "        if i == 1:\n",
    "            het = np.append(het, np.mean(np.load(l_list[i][e], allow_pickle=True)[2])  - np.load(l_list[i][e], allow_pickle=True)[3])\n",
    "            \n",
    "        if i == 2:\n",
    "            hom = np.append(hom, np.mean(np.load(l_list[i][e], allow_pickle=True)[2])  - np.load(l_list[i][e], allow_pickle=True)[3])"
   ]
  },
  {
   "cell_type": "code",
   "execution_count": 20,
   "metadata": {},
   "outputs": [],
   "source": [
    "point = np.zeros((17))\n",
    "\n",
    "p_spike_df = {}\n",
    "count=0\n",
    "choose = 0\n",
    "\n",
    "data = [wt, het, hom]\n",
    "\n",
    "for e in range(len(data)):\n",
    "    for i in range(len(data[e])):\n",
    "        point[count] = data[e][i]\n",
    "        count+=1\n",
    "\n",
    "p_spike_df = pd.DataFrame({\"data\":point , \"Labels\":  np.append(adfn.repeat_list('WT',4),np.append(adfn.repeat_list('HET',8),adfn.repeat_list('HOM',5)))})"
   ]
  },
  {
   "cell_type": "code",
   "execution_count": 21,
   "metadata": {},
   "outputs": [
    {
     "data": {
      "image/png": "[encoded data removed]",
      "text/plain": [
       "<Figure size 216x288 with 1 Axes>"
      ]
     },
     "metadata": {},
     "output_type": "display_data"
    }
   ],
   "source": [
    "import seaborn as sns\n",
    "\n",
    "from matplotlib.collections import PathCollection\n",
    "from matplotlib import cm\n",
    "sns.set(style=\"white\")\n",
    "\n",
    "colors1  = cm.Spectral_r(np.linspace(0,1,11))\n",
    "colors2 = ['grey','mediumturquoise','cornflowerblue']\n",
    "\n",
    "fig, ax = plt.subplots(figsize = (3,4))\n",
    "ax = sns.pointplot(x=\"Labels\", y=\"data\", data = p_spike_df, hue = 'Labels', palette = colors2, join=True, ci=0, scale=1, markers = '_')\n",
    "for artist in ax.lines:\n",
    "    artist.set_zorder(10)\n",
    "for artist in ax.findobj(PathCollection):\n",
    "    artist.set_zorder(11)\n",
    "#ax = sns.pointplot(x=\"Labels\", y=\"Exponent\", data=sizexdf, color = 'grey', linestyles = [\"--\"], ci = 0, scale=0.6)\n",
    "ax = sns.stripplot(x=\"Labels\", y=\"data\", data=p_spike_df, hue = 'Labels', palette = colors2, size = 15, jitter = True ,alpha = 0.7)\n",
    "\n",
    "plt.yticks(size = 20)\n",
    "\n",
    "points = ax.collections\n",
    "ax.spines['top'].set_visible(False)\n",
    "ax.spines['right'].set_visible(False)\n",
    "ax.spines['bottom'].set_visible(False)\n",
    "ax.set_xlabel(' ', size = '13')\n",
    "ax.set_ylabel('metastable states', size = '25')\n",
    "ax.get_xaxis().set_visible(False)\n",
    "#ax.set_xticklabels(['Baseline', 'Focal', 'Generalised'], size = 15)\n",
    "ax.legend_.remove()\n",
    "#plt.ylim(top = 2000, bottom = 0)\n",
    "\n",
    "plt.savefig(Ffig + 'foxg1_metadwell_comp_ptz.svg', transparent = True)\n",
    "plt.show()"
   ]
  },
  {
   "cell_type": "code",
   "execution_count": 22,
   "metadata": {},
   "outputs": [
    {
     "name": "stdout",
     "output_type": "stream",
     "text": [
      "0.042186486500242315 0.012293081300236978\n",
      "0.06398600998569404 0.02736872369575797\n",
      "0.032069434435695855 0.016143303756344693\n",
      "U = 16.0   p = 0.46616218667416665\n",
      "U = 6.0   p = 0.1956336396413197\n"
     ]
    }
   ],
   "source": [
    "from scipy import stats\n",
    "data = wt\n",
    "mean = np.mean(data)\n",
    "sem = stats.sem(data)\n",
    "print(mean, sem)\n",
    "\n",
    "from scipy import stats\n",
    "data = het\n",
    "mean = np.mean(data)\n",
    "sem = stats.sem(data)\n",
    "print(mean, sem)\n",
    "\n",
    "from scipy import stats\n",
    "data = hom\n",
    "mean = np.mean(data)\n",
    "sem = stats.sem(data)\n",
    "print(mean, sem)\n",
    "\n",
    "#BLN - SZ\n",
    "alpha = 0.05/2\n",
    "\n",
    "U, p = stats.mannwhitneyu(wt, het)\n",
    "print('U = ' + str(U) +  '   p = ' + str(p))\n",
    "\n",
    "    \n",
    "U, p = stats.mannwhitneyu(wt, hom)\n",
    "print('U = ' + str(U) +  '   p = ' + str(p))"
   ]
  }
 ],
 "metadata": {
  "kernelspec": {
   "display_name": "Python 3 (ipykernel)",
   "language": "python",
   "name": "python3"
  },
  "language_info": {
   "codemirror_mode": {
    "name": "ipython",
    "version": 3
   },
   "file_extension": ".py",
   "mimetype": "text/x-python",
   "name": "python",
   "nbconvert_exporter": "python",
   "pygments_lexer": "ipython3",
   "version": "3.8.0"
  }
 },
 "nbformat": 4,
 "nbformat_minor": 4
}
